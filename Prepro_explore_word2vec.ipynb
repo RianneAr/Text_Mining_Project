{
 "cells": [
  {
   "cell_type": "markdown",
   "id": "c6a17586",
   "metadata": {},
   "source": [
    "# Preprocessing, data exploration and model"
   ]
  },
  {
   "cell_type": "markdown",
   "id": "ec932fe6",
   "metadata": {},
   "source": [
    "Necessary imports"
   ]
  },
  {
   "cell_type": "code",
   "execution_count": 34,
   "id": "9d5a413b",
   "metadata": {},
   "outputs": [],
   "source": [
    "import numpy as np\n",
    "import nltk\n",
    "import json\n",
    "import matplotlib.pyplot as plt\n",
    "import gensim.downloader as api\n",
    "from nltk.tokenize import sent_tokenize, word_tokenize\n",
    "from nltk.stem.wordnet import WordNetLemmatizer\n",
    "from gensim.models import Word2Vec\n",
    "from collections import Counter"
   ]
  },
  {
   "cell_type": "code",
   "execution_count": 2,
   "id": "eefa5dbe",
   "metadata": {},
   "outputs": [],
   "source": [
    "with open('mortaldict.json', 'r') as f:\n",
    "    mortaldict = json.load(f)\n",
    "    \n",
    "with open('goddict.json', 'r') as f:\n",
    "    goddict = json.load(f)"
   ]
  },
  {
   "cell_type": "markdown",
   "id": "702a9b25",
   "metadata": {},
   "source": [
    "## Preprocessing"
   ]
  },
  {
   "cell_type": "markdown",
   "id": "0dabf36d",
   "metadata": {},
   "source": [
    "First, let's check what the encoding is of the text file, so that we can properly import the texts"
   ]
  },
  {
   "cell_type": "code",
   "execution_count": 3,
   "id": "1676341a",
   "metadata": {},
   "outputs": [
    {
     "name": "stdout",
     "output_type": "stream",
     "text": [
      "<_io.TextIOWrapper name='text_file.txt' mode='r' encoding='cp1252'>\n"
     ]
    }
   ],
   "source": [
    "with open('text_file.txt') as f:\n",
    "    print(f)"
   ]
  },
  {
   "cell_type": "markdown",
   "id": "f066eb31",
   "metadata": {},
   "source": [
    "As can be seen above, this file doesn't use the standard utf-8 encoding, but cp1252 encoding. So, we will use this encoder when reading it in:"
   ]
  },
  {
   "cell_type": "code",
   "execution_count": 4,
   "id": "5d1bf626",
   "metadata": {},
   "outputs": [
    {
     "name": "stdout",
     "output_type": "stream",
     "text": [
      "[313] “So do not thou, my friend, wander long far from home, leaving thy wealth behind thee and men in thy house so insolent, lest they divide and devour all thy wealth, and thou shalt have gone on a fruitless journey. But to Menelaus I bid and command thee to go, for he has but lately come from a strange land, from a folk whence no one would hope in his heart to return, whom the storms had once driven astray into a sea so great, whence the very birds do not fare in the space of a year, so great is it and terrible. But now go thy way with thy ship and thy comrades, or, if thou wilt go by land, here are chariot and horses at hand for thee, and here at thy service are my sons, who will be thy guides to goodly Lacedaemon, where lives fair-haired Menelaus. And do thou beseech him thyself that he may tell thee the very truth. A lie will be not utter, for he is wise indeed.”\n",
      "\n"
     ]
    }
   ],
   "source": [
    "with open(\"text_file.txt\",\"r\",encoding= 'cp1252') as f:\n",
    "    data = f.readlines()\n",
    "    \n",
    "print(data[700])"
   ]
  },
  {
   "cell_type": "markdown",
   "id": "777c05e5",
   "metadata": {},
   "source": [
    "We split the data into sentences"
   ]
  },
  {
   "cell_type": "code",
   "execution_count": 5,
   "id": "0ded8a06",
   "metadata": {},
   "outputs": [
    {
     "name": "stdout",
     "output_type": "stream",
     "text": [
      "['Howbeit Poseidon had gone among the far-off Ethiopians—the Ethiopians who dwell sundered in twain, the farthermost of men, some where Hyperion sets and some where he rises, there to receive a hecatomb of bulls and rams, and there he was taking his joy, sitting at the feast; but the other gods were gathered together in the halls of Olympian Zeus.', \"[28] Among them the father of gods and men was first to speak, for in his heart he thought of noble Aegisthus, whom far-famed Orestes, Agamemnon's son, had slain.\", 'Thinking on him he spoke among the immortals, and said: “Look you now, how ready mortals are to blame the gods.', 'It is from us, they say, that evils come, but they even of themselves, through their own blind folly, have sorrows beyond that which is ordained.', 'Even as now Aegisthus, beyond that which was ordained, took to himself the wedded wife of the son of Atreus, and slew him on his return, though well he knew of sheer destruction, seeing that we spake to him before, sending Hermes, the keen-sighted Argeiphontes, that he should neither slay the man nor woo his wife; for from Orestes shall come vengeance for the son of Atreus when once he has come to manhood and longs for his own land.']\n"
     ]
    }
   ],
   "source": [
    "sentences = []\n",
    "for par in data:\n",
    "    if par == '\\n':\n",
    "        continue\n",
    "    senttemp = sent_tokenize(par)\n",
    "    sentences = sentences +senttemp\n",
    "\n",
    "print(sentences[100:105])"
   ]
  },
  {
   "cell_type": "markdown",
   "id": "7817802b",
   "metadata": {},
   "source": [
    "Now, we tokenize the sentences. If the sentence consists of two words or less, we remove it since it won't contain much useful information. Also, this way we might be able to filter out as many chapter titles as possible."
   ]
  },
  {
   "cell_type": "code",
   "execution_count": 6,
   "id": "6394b7f7",
   "metadata": {},
   "outputs": [
    {
     "name": "stdout",
     "output_type": "stream",
     "text": [
      "['If', 'thou', 'couldst', 'in', 'any', 'wise', 'lie', 'in', 'wait', 'and', 'catch', 'him', ',', 'he', 'will', 'tell', 'thee', 'thy', 'way', 'and', 'the', 'measure', 'of', 'thy', 'path', ',', 'and', 'of', 'thy', 'return', ',', 'how', 'thou', 'mayest', 'go', 'over', 'the', 'teeming', 'deep', '.']\n"
     ]
    }
   ],
   "source": [
    "words = []\n",
    "for sent in sentences:\n",
    "    wordstemp = word_tokenize(sent)\n",
    "    if len(wordstemp) <= 2:\n",
    "        continue\n",
    "    words.append(wordstemp)\n",
    "    \n",
    "print(words[1000])"
   ]
  },
  {
   "cell_type": "markdown",
   "id": "72df7e92",
   "metadata": {},
   "source": [
    "Now, we PoS tag the data, so that lemmatization is easier, and names of characters can be identified more easily"
   ]
  },
  {
   "cell_type": "code",
   "execution_count": 7,
   "id": "4e774e13",
   "metadata": {},
   "outputs": [
    {
     "name": "stdout",
     "output_type": "stream",
     "text": [
      "[[('[', 'RB'), ('138', 'CD'), (']', 'JJ'), ('So', 'IN'), ('he', 'PRP'), ('spoke', 'VBD'), ('and', 'CC'), ('I', 'PRP'), ('made', 'VBD'), ('answer', 'NN'), ('and', 'CC'), ('said', 'VBD'), ('`', '``'), ('Teiresias', 'NN'), ('of', 'IN'), ('all', 'PDT'), ('this', 'DT'), ('I', 'PRP'), ('ween', 'VBP'), ('the', 'DT'), ('gods', 'NNS'), ('themselves', 'PRP'), ('have', 'VBP'), ('spun', 'VBN'), ('the', 'DT'), ('thread', 'NN')], [('But', 'CC'), ('come', 'VB'), ('tell', 'VB'), ('me', 'PRP'), ('this', 'DT'), ('and', 'CC'), ('declare', 'VB'), ('it', 'PRP'), ('truly', 'RB')], [('I', 'PRP'), ('see', 'VBP'), ('here', 'RB'), ('the', 'DT'), ('spirit', 'NN'), ('of', 'IN'), ('my', 'PRP$'), ('dead', 'JJ'), ('mother', 'NN'), ('she', 'PRP'), ('sits', 'VBZ'), ('in', 'IN'), ('silence', 'NN'), ('near', 'IN'), ('the', 'DT'), ('blood', 'NN'), ('and', 'CC'), ('deigns', 'VBZ'), ('not', 'RB'), ('to', 'TO'), ('look', 'VB'), ('upon', 'IN'), ('the', 'DT'), ('face', 'NN'), ('of', 'IN'), ('her', 'PRP$'), ('own', 'JJ'), ('son', 'NN'), ('or', 'CC'), ('to', 'TO'), ('speak', 'VB'), ('to', 'TO'), ('him', 'PRP')], [('Tell', 'VB'), ('me', 'PRP'), ('prince', 'NN'), ('how', 'WRB'), ('she', 'PRP'), ('may', 'MD'), ('recognize', 'VB'), ('that', 'IN'), ('I', 'PRP'), ('am', 'VBP'), ('he', 'PRP'), ('’', 'VB')], [('[', 'RB'), ('145', 'CD'), (']', 'JJ'), ('So', 'NNP'), ('I', 'PRP'), ('spoke', 'VBD'), ('and', 'CC'), ('he', 'PRP'), ('straightway', 'RB'), ('made', 'VBD'), ('answer', 'NN'), ('and', 'CC'), ('said', 'VBD'), ('`', '``'), ('Easy', 'NN'), ('is', 'VBZ'), ('the', 'DT'), ('word', 'NN'), ('that', 'IN'), ('I', 'PRP'), ('shall', 'MD'), ('say', 'VB'), ('and', 'CC'), ('put', 'VB'), ('in', 'IN'), ('thy', 'JJ'), ('mind', 'NN')], [('Whomsoever', 'NNP'), ('of', 'IN'), ('those', 'DT'), ('that', 'WDT'), ('are', 'VBP'), ('dead', 'JJ'), ('and', 'CC'), ('gone', 'VBN'), ('thou', 'JJ'), ('shalt', 'NN'), ('suffer', 'NN'), ('to', 'TO'), ('draw', 'VB'), ('near', 'IN'), ('the', 'DT'), ('blood', 'NN'), ('he', 'PRP'), ('will', 'MD'), ('tell', 'VB'), ('thee', 'VB'), ('sooth', 'NN'), ('but', 'CC'), ('whomsoever', 'WRB'), ('thou', 'JJ'), ('refusest', 'NN'), ('he', 'PRP'), ('surely', 'RB'), ('will', 'MD'), ('go', 'VB'), ('back', 'RB'), ('again', 'RB'), ('’', 'VB')], [('[', 'RB'), ('150', 'CD'), (']', 'JJ'), ('So', 'NNP'), ('saying', 'VBG'), ('the', 'DT'), ('spirit', 'NN'), ('of', 'IN'), ('the', 'DT'), ('prince', 'NN'), ('Teiresias', 'NNP'), ('went', 'VBD'), ('back', 'RB'), ('into', 'IN'), ('the', 'DT'), ('house', 'NN'), ('of', 'IN'), ('Hades', 'NNP'), ('when', 'WRB'), ('he', 'PRP'), ('had', 'VBD'), ('declared', 'VBN'), ('his', 'PRP$'), ('prophecies', 'NNS'), ('but', 'CC'), ('I', 'PRP'), ('remained', 'VBD'), ('there', 'EX'), ('steadfastly', 'RB'), ('until', 'IN'), ('my', 'PRP$'), ('mother', 'NN'), ('came', 'VBD'), ('up', 'RB'), ('and', 'CC'), ('drank', 'VB'), ('the', 'DT'), ('dark', 'JJ'), ('blood', 'NN')], [('At', 'IN'), ('once', 'RB'), ('then', 'RB'), ('she', 'PRP'), ('knew', 'VBD'), ('me', 'PRP'), ('and', 'CC'), ('with', 'IN'), ('wailing', 'VBG'), ('she', 'PRP'), ('spoke', 'VBD'), ('to', 'TO'), ('me', 'PRP'), ('winged', 'JJ'), ('words', 'NNS'), ('`', '``'), ('My', 'PRP$'), ('child', 'NN'), ('how', 'WRB'), ('didst', 'JJ'), ('thou', 'NN'), ('come', 'VBN'), ('beneath', 'IN'), ('the', 'DT'), ('murky', 'NN'), ('darkness', 'NN'), ('being', 'VBG'), ('still', 'RB'), ('alive', 'VB')], [('Hard', 'NNP'), ('is', 'VBZ'), ('it', 'PRP'), ('for', 'IN'), ('those', 'DT'), ('that', 'WDT'), ('live', 'VBP'), ('to', 'TO'), ('behold', 'VB'), ('these', 'DT'), ('realms', 'NNS'), ('for', 'IN'), ('between', 'IN'), ('are', 'VBP'), ('great', 'JJ'), ('rivers', 'NNS'), ('and', 'CC'), ('dread', 'JJ'), ('streams', 'NNS'), ('Oceanus', 'NNP'), ('first', 'RB'), ('which', 'WDT'), ('one', 'CD'), ('may', 'MD'), ('in', 'IN'), ('no', 'DT'), ('wise', 'NN'), ('cross', 'NN'), ('on', 'IN'), ('foot', 'NN'), ('but', 'CC'), ('only', 'RB'), ('if', 'IN'), ('one', 'CD'), ('have', 'VBP'), ('a', 'DT'), ('well-built', 'JJ'), ('ship', 'NN')], [('Art', 'NN'), ('thou', 'NNS'), ('but', 'CC'), ('now', 'RB'), ('come', 'VBP'), ('hither', 'NN'), ('from', 'IN'), ('Troy', 'NNP'), ('after', 'IN'), ('long', 'JJ'), ('wanderings', 'NNS'), ('with', 'IN'), ('thy', 'JJ'), ('ship', 'NN'), ('and', 'CC'), ('thy', 'JJ'), ('companions', 'NNS')]]\n"
     ]
    }
   ],
   "source": [
    "tagged = []\n",
    "for sent in words:\n",
    "    senttagged = nltk.pos_tag(sent)\n",
    "    tagged.append(senttagged)\n",
    "\n",
    "tagged_filtered = []\n",
    "for sent in tagged:\n",
    "    sentls = []\n",
    "    for wordtag in sent:\n",
    "        if wordtag[1] in ['.', ',', ':', '--', '$', '(', ')'] or wordtag[0] in ['“', '”', '<', '>']:\n",
    "            continue\n",
    "        else: sentls.append(wordtag)\n",
    "    tagged_filtered.append(sentls)\n",
    "        \n",
    "print(tagged_filtered[3000:3010])"
   ]
  },
  {
   "cell_type": "markdown",
   "id": "55514abb",
   "metadata": {},
   "source": [
    "Next, we lemmatize the dataset"
   ]
  },
  {
   "cell_type": "code",
   "execution_count": 8,
   "id": "860551d5",
   "metadata": {},
   "outputs": [
    {
     "name": "stdout",
     "output_type": "stream",
     "text": [
      "[[['[', 'RB'], ['138', 'CD'], [']', 'JJ'], ['So', 'IN'], ['he', 'PRP'], ['speak', 'VBD'], ['and', 'CC'], ['I', 'PRP'], ['make', 'VBD'], ['answer', 'NN'], ['and', 'CC'], ['say', 'VBD'], ['`', '``'], ['Teiresias', 'NN'], ['of', 'IN'], ['all', 'PDT'], ['this', 'DT'], ['I', 'PRP'], ['ween', 'VBP'], ['the', 'DT'], ['god', 'NNS'], ['themselves', 'PRP'], ['have', 'VBP'], ['spin', 'VBN'], ['the', 'DT'], ['thread', 'NN']], [['But', 'CC'], ['come', 'VB'], ['tell', 'VB'], ['me', 'PRP'], ['this', 'DT'], ['and', 'CC'], ['declare', 'VB'], ['it', 'PRP'], ['truly', 'RB']], [['I', 'PRP'], ['see', 'VBP'], ['here', 'RB'], ['the', 'DT'], ['spirit', 'NN'], ['of', 'IN'], ['my', 'PRP$'], ['dead', 'JJ'], ['mother', 'NN'], ['she', 'PRP'], ['sit', 'VBZ'], ['in', 'IN'], ['silence', 'NN'], ['near', 'IN'], ['the', 'DT'], ['blood', 'NN'], ['and', 'CC'], ['deign', 'VBZ'], ['not', 'RB'], ['to', 'TO'], ['look', 'VB'], ['upon', 'IN'], ['the', 'DT'], ['face', 'NN'], ['of', 'IN'], ['her', 'PRP$'], ['own', 'JJ'], ['son', 'NN'], ['or', 'CC'], ['to', 'TO'], ['speak', 'VB'], ['to', 'TO'], ['him', 'PRP']], [['Tell', 'VB'], ['me', 'PRP'], ['prince', 'NN'], ['how', 'WRB'], ['she', 'PRP'], ['may', 'MD'], ['recognize', 'VB'], ['that', 'IN'], ['I', 'PRP'], ['be', 'VBP'], ['he', 'PRP'], ['’', 'VB']], [['[', 'RB'], ['145', 'CD'], [']', 'JJ'], ['So', 'NNP'], ['I', 'PRP'], ['speak', 'VBD'], ['and', 'CC'], ['he', 'PRP'], ['straightway', 'RB'], ['make', 'VBD'], ['answer', 'NN'], ['and', 'CC'], ['say', 'VBD'], ['`', '``'], ['Easy', 'NN'], ['be', 'VBZ'], ['the', 'DT'], ['word', 'NN'], ['that', 'IN'], ['I', 'PRP'], ['shall', 'MD'], ['say', 'VB'], ['and', 'CC'], ['put', 'VB'], ['in', 'IN'], ['thy', 'JJ'], ['mind', 'NN']], [['Whomsoever', 'NNP'], ['of', 'IN'], ['those', 'DT'], ['that', 'WDT'], ['be', 'VBP'], ['dead', 'JJ'], ['and', 'CC'], ['go', 'VBN'], ['thou', 'JJ'], ['shalt', 'NN'], ['suffer', 'NN'], ['to', 'TO'], ['draw', 'VB'], ['near', 'IN'], ['the', 'DT'], ['blood', 'NN'], ['he', 'PRP'], ['will', 'MD'], ['tell', 'VB'], ['thee', 'VB'], ['sooth', 'NN'], ['but', 'CC'], ['whomsoever', 'WRB'], ['thou', 'JJ'], ['refusest', 'NN'], ['he', 'PRP'], ['surely', 'RB'], ['will', 'MD'], ['go', 'VB'], ['back', 'RB'], ['again', 'RB'], ['’', 'VB']], [['[', 'RB'], ['150', 'CD'], [']', 'JJ'], ['So', 'NNP'], ['say', 'VBG'], ['the', 'DT'], ['spirit', 'NN'], ['of', 'IN'], ['the', 'DT'], ['prince', 'NN'], ['Teiresias', 'NNP'], ['go', 'VBD'], ['back', 'RB'], ['into', 'IN'], ['the', 'DT'], ['house', 'NN'], ['of', 'IN'], ['Hades', 'NNP'], ['when', 'WRB'], ['he', 'PRP'], ['have', 'VBD'], ['declare', 'VBN'], ['his', 'PRP$'], ['prophecy', 'NNS'], ['but', 'CC'], ['I', 'PRP'], ['remain', 'VBD'], ['there', 'EX'], ['steadfastly', 'RB'], ['until', 'IN'], ['my', 'PRP$'], ['mother', 'NN'], ['come', 'VBD'], ['up', 'RB'], ['and', 'CC'], ['drink', 'VB'], ['the', 'DT'], ['dark', 'JJ'], ['blood', 'NN']], [['At', 'IN'], ['once', 'RB'], ['then', 'RB'], ['she', 'PRP'], ['know', 'VBD'], ['me', 'PRP'], ['and', 'CC'], ['with', 'IN'], ['wail', 'VBG'], ['she', 'PRP'], ['speak', 'VBD'], ['to', 'TO'], ['me', 'PRP'], ['winged', 'JJ'], ['word', 'NNS'], ['`', '``'], ['My', 'PRP$'], ['child', 'NN'], ['how', 'WRB'], ['didst', 'JJ'], ['thou', 'NN'], ['come', 'VBN'], ['beneath', 'IN'], ['the', 'DT'], ['murky', 'NN'], ['darkness', 'NN'], ['be', 'VBG'], ['still', 'RB'], ['alive', 'VB']], [['Hard', 'NNP'], ['be', 'VBZ'], ['it', 'PRP'], ['for', 'IN'], ['those', 'DT'], ['that', 'WDT'], ['live', 'VBP'], ['to', 'TO'], ['behold', 'VB'], ['these', 'DT'], ['realm', 'NNS'], ['for', 'IN'], ['between', 'IN'], ['be', 'VBP'], ['great', 'JJ'], ['river', 'NNS'], ['and', 'CC'], ['dread', 'JJ'], ['stream', 'NNS'], ['Oceanus', 'NNP'], ['first', 'RB'], ['which', 'WDT'], ['one', 'CD'], ['may', 'MD'], ['in', 'IN'], ['no', 'DT'], ['wise', 'NN'], ['cross', 'NN'], ['on', 'IN'], ['foot', 'NN'], ['but', 'CC'], ['only', 'RB'], ['if', 'IN'], ['one', 'CD'], ['have', 'VBP'], ['a', 'DT'], ['well-built', 'JJ'], ['ship', 'NN']], [['Art', 'NN'], ['thou', 'NNS'], ['but', 'CC'], ['now', 'RB'], ['come', 'VBP'], ['hither', 'NN'], ['from', 'IN'], ['Troy', 'NNP'], ['after', 'IN'], ['long', 'JJ'], ['wandering', 'NNS'], ['with', 'IN'], ['thy', 'JJ'], ['ship', 'NN'], ['and', 'CC'], ['thy', 'JJ'], ['companion', 'NNS']]]\n"
     ]
    }
   ],
   "source": [
    "# Reference for lemmatizing: https://stackoverflow.com/questions/15586721/wordnet-lemmatization-and-pos-tagging-in-python\n",
    "\n",
    "lemmatizer = WordNetLemmatizer()\n",
    "\n",
    "lemmatized = []\n",
    "for sent in tagged_filtered:\n",
    "    \n",
    "    sentls = []\n",
    "    for wordtag in sent:\n",
    "        tag = ''\n",
    "        if wordtag[1][0:2] ==  'NN':\n",
    "            tag =  'n'\n",
    "        elif wordtag[1][0:2] ==  'VB':\n",
    "            tag =  'v'\n",
    "        elif wordtag[1][0:2] ==  'JJ':\n",
    "            tag =  'a'\n",
    "        elif wordtag[1][0:2] ==  'RB':\n",
    "            tag =  'r'\n",
    "        \n",
    "        # use postag if it exists in the wordnetlemmatizer\n",
    "        if tag == '': lemma = lemmatizer.lemmatize(wordtag[0])\n",
    "        else: lemma = lemmatizer.lemmatize(wordtag[0], pos=tag)\n",
    "        \n",
    "        sentls.append([lemma, wordtag[1]])\n",
    "    lemmatized.append(sentls)\n",
    "    \n",
    "print(lemmatized[3000:3010])"
   ]
  },
  {
   "cell_type": "markdown",
   "id": "dc24bcd4",
   "metadata": {},
   "source": [
    "Next, we go through the data and print all the proper nouns that aren't in the dictionaries. If they are not and they refer to names of characters that are either Olympian gods or mortals, we add them to the dictionaries in the file characterdicts.ipynb. We do this only for names that occur at least 10 times in the book, since adding all names is not realistic. The below code prints the proper nouns (or words that were classified as such) that we didn't add to the dictionary. As can be seen, all of these are either not names, names of people who aren't part of mythology, or children of gods (in which case we left them out, since they are somewhere between god and mortal)."
   ]
  },
  {
   "cell_type": "code",
   "execution_count": 9,
   "id": "791b6f80",
   "metadata": {},
   "outputs": [
    {
     "name": "stdout",
     "output_type": "stream",
     "text": [
      "A: 135\n",
      "A-Z: 65\n",
      "A.: 67\n",
      "Aaron: 65\n",
      "Achaea: 40\n",
      "Achaean: 55\n",
      "Achaeans: 26\n",
      "Achilleid: 65\n",
      "Aeacus: 67\n",
      "Aeneid: 65\n",
      "Aeolus: 10\n",
      "Aeschylus: 455\n",
      "Against: 67\n",
      "Ah: 67\n",
      "Aiantes: 18\n",
      "Alcman: 65\n",
      "Alexander: 49\n",
      "Alexandra: 65\n",
      "Amazons: 13\n",
      "Antenor: 31\n",
      "Antinous: 57\n",
      "Apollodorus: 65\n",
      "Apollonius: 65\n",
      "Aratus: 65\n",
      "Argive: 70\n",
      "Argives: 121\n",
      "Argonautica: 130\n",
      "Argos: 54\n",
      "Armour: 25\n",
      "Asius: 20\n",
      "Astronomica: 65\n",
      "Atsma: 65\n",
      "Ay: 17\n",
      "Aye: 64\n",
      "BOOK: 130\n",
      "BY: 65\n",
      "Barring: 25\n",
      "Battle: 51\n",
      "Be: 17\n",
      "Bearers: 65\n",
      "Beggar: 50\n",
      "Beguiling: 25\n",
      "Bion: 65\n",
      "Body: 25\n",
      "Book: 65\n",
      "Bound: 65\n",
      "CLASSICAL: 65\n",
      "CONTENTS: 65\n",
      "Callimachus: 65\n",
      "Callistratus: 65\n",
      "Calypso: 50\n",
      "Child: 14\n",
      "Chiliades: 65\n",
      "Chryse: 10\n",
      "Chryses: 10\n",
      "Circe: 70\n",
      "Classical: 71\n",
      "Colluthus: 65\n",
      "Come: 62\n",
      "Contest: 65\n",
      "Copyright: 65\n",
      "Crete: 21\n",
      "Cronos: 161\n",
      "Cycle: 67\n",
      "Cyclopes: 12\n",
      "Cyclops: 47\n",
      "Danaan: 41\n",
      "Dardanus: 22\n",
      "Dawn: 78\n",
      "Days: 65\n",
      "Dead: 90\n",
      "Dear: 15\n",
      "Description: 65\n",
      "Descriptions: 65\n",
      "Dialogues: 130\n",
      "Diodorus: 65\n",
      "Dionysiaca: 65\n",
      "Dolon: 10\n",
      "Doom: 18\n",
      "Dost: 11\n",
      "Duel: 50\n",
      "Dulichium: 12\n",
      "Earth: 52\n",
      "Earth-shaker: 14\n",
      "Eclogues: 65\n",
      "Egypt: 14\n",
      "Elder: 65\n",
      "Elis: 11\n",
      "Epic: 67\n",
      "Eumenides: 65\n",
      "Euryalus: 15\n",
      "Exhortation: 65\n",
      "FALL: 45\n",
      "Fabulae: 65\n",
      "Fall: 65\n",
      "Fasti: 65\n",
      "Fate: 49\n",
      "Fates: 25\n",
      "Father: 66\n",
      "Feast: 25\n",
      "Fire-god: 12\n",
      "Flaccus: 65\n",
      "Flower: 65\n",
      "Forthwith: 17\n",
      "Friend: 12\n",
      "Fulgentius: 65\n",
      "Full: 16\n",
      "Furens: 65\n",
      "Games: 65\n",
      "Georgics: 65\n",
      "Gerenia: 36\n",
      "Gigantomachia: 65\n",
      "Glaucus: 29\n",
      "Go: 19\n",
      "God: 70\n",
      "Goddess: 17\n",
      "Gods: 112\n",
      "Greece: 66\n",
      "Greeks: 117\n",
      "HOMER: 104\n",
      "Ha: 11\n",
      "Hail: 12\n",
      "Hard: 16\n",
      "Hearken: 22\n",
      "Heaven: 19\n",
      "Helen: 155\n",
      "Hellas: 21\n",
      "Hellespont: 32\n",
      "Heroides: 65\n",
      "Hesiod: 260\n",
      "Him: 74\n",
      "Hippasus: 12\n",
      "Hippolochus: 13\n",
      "History: 65\n",
      "Homer: 182\n",
      "Horse: 38\n",
      "Howbeit: 130\n",
      "Hyginus: 130\n",
      "Hymns: 65\n",
      "Hyperion: 11\n",
      "ILIAD: 100\n",
      "Ida: 79\n",
      "Idaeus: 14\n",
      "Idylls: 65\n",
      "Iliad: 102\n",
      "Ilios: 181\n",
      "Ilium: 22\n",
      "Imagines: 130\n",
      "Immortal: 12\n",
      "Immortals: 14\n",
      "Ithaca: 133\n",
      "J.: 65\n",
      "King: 20\n",
      "LIBRARY: 65\n",
      "Lacedaemon: 15\n",
      "Lady: 11\n",
      "Laestrygones: 25\n",
      "Lemnos: 23\n",
      "Lesbos: 11\n",
      "Libation: 65\n",
      "Library: 331\n",
      "Life: 65\n",
      "Lo: 53\n",
      "Loeb: 12\n",
      "Lord: 19\n",
      "Lotus-Eaters: 25\n",
      "Love: 68\n",
      "Lycia: 24\n",
      "Lycophron: 66\n",
      "Lyric: 65\n",
      "MURRAY: 50\n",
      "May: 10\n",
      "Medea: 65\n",
      "Medon: 19\n",
      "Menoetius: 43\n",
      "Mentor: 21\n",
      "Metamorphoses: 65\n",
      "Monsters: 130\n",
      "Moschus: 65\n",
      "My: 21\n",
      "Mycenae: 10\n",
      "Myrmidons: 39\n",
      "Mythologies: 65\n",
      "Myths: 65\n",
      "Nay: 292\n",
      "Nereus: 10\n",
      "New: 65\n",
      "Night: 11\n",
      "Nonnus: 65\n",
      "North: 28\n",
      "Nymphs: 17\n",
      "O: 134\n",
      "ODYSSEY: 100\n",
      "OF: 46\n",
      "Ocean: 30\n",
      "Oceanus: 29\n",
      "Odyssey: 98\n",
      "Oetaeus: 65\n",
      "Old: 23\n",
      "Olympian: 17\n",
      "Olympus: 156\n",
      "Ones: 10\n",
      "Ovid: 195\n",
      "Parallel: 65\n",
      "Parthenius: 67\n",
      "Pausanias: 65\n",
      "Peisander: 10\n",
      "Peleides: 14\n",
      "Pelion: 11\n",
      "Persephone: 11\n",
      "Phaenomena: 65\n",
      "Philostratus: 130\n",
      "Phoenissae: 65\n",
      "Phoenix: 18\n",
      "Phthia: 20\n",
      "Phylace: 10\n",
      "Phyleus: 16\n",
      "Plant: 65\n",
      "Plutarch: 65\n",
      "Poems: 130\n",
      "Project: 130\n",
      "Prometheus: 67\n",
      "Proserpine: 65\n",
      "Pylos: 58\n",
      "QUINTUS: 32\n",
      "Queen: 21\n",
      "Quintus: 86\n",
      "Ransom: 25\n",
      "Rape: 130\n",
      "Rhodius: 66\n",
      "River: 15\n",
      "Romances: 65\n",
      "S.: 17\n",
      "SMYRNAEUS: 32\n",
      "Sack: 15\n",
      "Sarpedon: 71\n",
      "Scaean: 14\n",
      "Scamander: 16\n",
      "Scylla: 37\n",
      "Seneca: 585\n",
      "Seven: 66\n",
      "Shaker: 49\n",
      "Shield: 67\n",
      "Ships: 50\n",
      "Siculus: 65\n",
      "Simois: 10\n",
      "Sleep: 13\n",
      "Smyrnaeus: 82\n",
      "So: 69\n",
      "Soli: 65\n",
      "Son: 60\n",
      "South: 15\n",
      "Sparta: 15\n",
      "Spirits: 133\n",
      "Statius: 130\n",
      "Stories: 65\n",
      "Straightway: 20\n",
      "Strange: 10\n",
      "Stranger: 25\n",
      "Strife: 21\n",
      "Suppliant: 65\n",
      "T.: 54\n",
      "TEXTS: 65\n",
      "THE: 15\n",
      "TROY: 45\n",
      "Taking: 65\n",
      "Tenedos: 15\n",
      "Texts: 195\n",
      "Thebaid: 65\n",
      "Thebe: 18\n",
      "Thebes: 74\n",
      "Theocritus: 65\n",
      "Theogony: 65\n",
      "Theoi: 195\n",
      "Therein: 25\n",
      "Therewith: 15\n",
      "Thoas: 24\n",
      "Thou: 105\n",
      "Thrace: 12\n",
      "Thrasymedes: 13\n",
      "Thus: 23\n",
      "Thy: 15\n",
      "Tree: 67\n",
      "Troades: 65\n",
      "Trojan: 105\n",
      "Trojans: 16\n",
      "Troops: 25\n",
      "Troy: 423\n",
      "Tryphiodorus: 65\n",
      "Tzetzes: 65\n",
      "Underworld: 25\n",
      "Valerius: 65\n",
      "Virgil: 195\n",
      "WAY: 15\n",
      "War: 10\n",
      "War-god: 32\n",
      "Warrior: 65\n",
      "West: 27\n",
      "Wherefore: 13\n",
      "Wind: 62\n",
      "Women: 65\n",
      "Works: 65\n",
      "Wounding: 25\n",
      "Xanthus: 31\n",
      "Ye: 14\n",
      "Yea: 18\n",
      "Younger: 65\n",
      "Zealand: 65\n",
      "]: 18\n",
      "©: 65\n",
      "’: 15\n"
     ]
    }
   ],
   "source": [
    "# Reference for sorting dictionary: https://www.edureka.co/blog/sort-dictionary-by-value-in-python/\n",
    "\n",
    "non_occuring = {}\n",
    "non_occuring_min10 = {}\n",
    "\n",
    "mortals = mortaldict\n",
    "gods = goddict\n",
    "\n",
    "for sent in lemmatized:\n",
    "    for wordtag in sent:\n",
    "    \n",
    "        # Only look at proper nouns\n",
    "        if wordtag[1] == 'NNP':\n",
    "\n",
    "            # Binary to indicate if the word has been found\n",
    "            filled_in = 0\n",
    "\n",
    "            # Go through mortaldict\n",
    "            for idx, vals in enumerate(mortals.values()):\n",
    "                if wordtag[0] in vals[0]:\n",
    "                    filled_in = 1\n",
    "                    break\n",
    "\n",
    "            # If word hasn't been found in mortaldict, go through goddict\n",
    "            if filled_in == 0:\n",
    "                for idx, vals in enumerate(gods.values()):\n",
    "                    if wordtag[0] in vals[0]:\n",
    "                        filled_in = 1\n",
    "                        break\n",
    "\n",
    "            # Print word if it hasn't been found at all\n",
    "            if filled_in == 0:\n",
    "                if wordtag[0] in non_occuring.keys():\n",
    "                    non_occuring[wordtag[0]] += 1\n",
    "                else: non_occuring[wordtag[0]] = 1\n",
    "\n",
    "for key in non_occuring.keys():\n",
    "    if non_occuring[key] >= 10:\n",
    "        non_occuring_min10[key] = non_occuring[key]\n",
    "\n",
    "for key in sorted(non_occuring_min10.keys()):\n",
    "       print(\"%s: %s\" % (key, non_occuring_min10[key]))"
   ]
  },
  {
   "cell_type": "markdown",
   "id": "4b972c76",
   "metadata": {},
   "source": [
    "## Data exploration"
   ]
  },
  {
   "cell_type": "markdown",
   "id": "92a16f89",
   "metadata": {},
   "source": [
    "First, we go through the texts, and count how many times a certain name is mentioned."
   ]
  },
  {
   "cell_type": "code",
   "execution_count": 10,
   "id": "88495654",
   "metadata": {},
   "outputs": [],
   "source": [
    "i = 0\n",
    "for idx, sent in enumerate(lemmatized):\n",
    "    for idx2, wordtag in enumerate(sent):\n",
    "        word = wordtag[0]\n",
    "        tag = wordtag[1]\n",
    "\n",
    "        if tag == 'NNP':\n",
    "\n",
    "            # Binary to indicate if the word has been found\n",
    "            filled_in = 0\n",
    "\n",
    "            # Go through mortaldict\n",
    "            for idx3, vals in enumerate(mortaldict.values()):\n",
    "                if word in vals[0]:\n",
    "                    filled_in = 1\n",
    "                    mortaldict[str(idx3)][1] += 1\n",
    "                    lemmatized[idx][idx2][1] = 'NNPm'\n",
    "                    i += 1\n",
    "                    break\n",
    "\n",
    "            # If word hasn't been found in mortaldict, go through goddict\n",
    "            if filled_in == 0:\n",
    "                for idx4, vals in enumerate(goddict.values()):\n",
    "                    if word in vals[0]:\n",
    "                        filled_in = 1\n",
    "                        goddict[str(idx4)][1] += 1\n",
    "                        lemmatized[idx][idx2][1] = 'NNPg'\n",
    "                        i += 1\n",
    "                        break"
   ]
  },
  {
   "cell_type": "markdown",
   "id": "8a9bde79",
   "metadata": {},
   "source": [
    "Below we print the amounts of times mortals and gods are mentioned. Note that in reality this number is a bit higher because we are not looking at all mortals and all gods. While mortals are named more often, both gods and mortals are named enough times to be able to do a meaningful analysis."
   ]
  },
  {
   "cell_type": "code",
   "execution_count": 11,
   "id": "b9a511e1",
   "metadata": {},
   "outputs": [
    {
     "name": "stdout",
     "output_type": "stream",
     "text": [
      "Total amount of mortal names:  7801\n",
      "Total amount of god names:  3145\n"
     ]
    }
   ],
   "source": [
    "summortals = 0\n",
    "sumgods = 0\n",
    "\n",
    "for mval in mortaldict.values():\n",
    "    summortals += mval[1]\n",
    "    \n",
    "for gval in goddict.values():\n",
    "    sumgods += gval[1]\n",
    "    \n",
    "print('Total amount of mortal names: ', summortals)\n",
    "print('Total amount of god names: ', sumgods)"
   ]
  },
  {
   "cell_type": "markdown",
   "id": "8e2d5ec7",
   "metadata": {},
   "source": [
    "Next, we plot the 20 most common names for both mortals and gods. "
   ]
  },
  {
   "cell_type": "code",
   "execution_count": 12,
   "id": "d50756e9",
   "metadata": {},
   "outputs": [],
   "source": [
    "# Reference for sorting dict: https://www.geeksforgeeks.org/python-sort-list-according-second-element-sublist/\n",
    "\n",
    "sortm = list(mortaldict.values())\n",
    "sortm.sort(key = lambda x: x[1])\n",
    "sortm.reverse()\n",
    "\n",
    "sortg = list(goddict.values())\n",
    "sortg.sort(key = lambda x: x[1])\n",
    "sortg.reverse()"
   ]
  },
  {
   "cell_type": "code",
   "execution_count": 13,
   "id": "12dc7da9",
   "metadata": {},
   "outputs": [],
   "source": [
    "mnames = [name[0][0] for name in sortm]\n",
    "mcounts = [count[1] for count in sortm]\n",
    "\n",
    "gnames = [name[0][0] for name in sortg]\n",
    "gcounts = [count[1] for count in sortg]"
   ]
  },
  {
   "cell_type": "markdown",
   "id": "119c46b5",
   "metadata": {},
   "source": [
    "As can be seen in the graphs, the most common names make sense considering the original texts. The main characters of for example the Iliad and Odyssee occur most often, and the most important gods are named the most."
   ]
  },
  {
   "cell_type": "code",
   "execution_count": 14,
   "id": "ce4255e9",
   "metadata": {},
   "outputs": [
    {
     "data": {
      "text/plain": [
       "Text(0.5, 1.0, '20 most common mortals and their frequencies')"
      ]
     },
     "execution_count": 14,
     "metadata": {},
     "output_type": "execute_result"
    },
    {
     "data": {
      "image/png": "[encoded data removed]",
      "text/plain": [
       "<Figure size 1152x720 with 1 Axes>"
      ]
     },
     "metadata": {
      "needs_background": "light"
     },
     "output_type": "display_data"
    }
   ],
   "source": [
    "plt.figure(figsize=(16, 10))\n",
    "plt.bar(mnames[0:20], mcounts[0:20])\n",
    "plt.title('20 most common mortals and their frequencies')"
   ]
  },
  {
   "cell_type": "code",
   "execution_count": 15,
   "id": "b5e92a8d",
   "metadata": {},
   "outputs": [
    {
     "data": {
      "text/plain": [
       "Text(0.5, 1.0, '20 most common gods and their frequencies')"
      ]
     },
     "execution_count": 15,
     "metadata": {},
     "output_type": "execute_result"
    },
    {
     "data": {
      "image/png": "[encoded data removed]",
      "text/plain": [
       "<Figure size 1152x720 with 1 Axes>"
      ]
     },
     "metadata": {
      "needs_background": "light"
     },
     "output_type": "display_data"
    }
   ],
   "source": [
    "plt.figure(figsize=(16, 10))\n",
    "plt.bar(gnames[0:20], gcounts[0:20])\n",
    "plt.title('20 most common gods and their frequencies')"
   ]
  },
  {
   "cell_type": "markdown",
   "id": "c43426f9",
   "metadata": {},
   "source": [
    "Next, we take the context of each name."
   ]
  },
  {
   "cell_type": "code",
   "execution_count": 16,
   "id": "a5d41512",
   "metadata": {},
   "outputs": [
    {
     "name": "stdout",
     "output_type": "stream",
     "text": [
      "[['Penelope', 'NNPm'], [['the', 'DT'], ['daughter', 'NN'], ['of', 'IN'], ['Icarius', 'NNPm'], ['wise', 'NN'], ['hear', 'VBD'], ['his', 'PRP$'], ['wondrous', 'JJ'], ['song', 'NN']]]\n"
     ]
    }
   ],
   "source": [
    "name_cons = []\n",
    "for idx, sent in enumerate(lemmatized):\n",
    "    for idx2, wordtag in enumerate(sent):    \n",
    "        word = wordtag[0]\n",
    "        tag = wordtag[1]\n",
    "\n",
    "        if tag == 'NNPm' or tag == 'NNPg':\n",
    "            context = sent[max(0, idx2-5):idx2] + sent[idx2+1: min(len(sent), idx2+5)]\n",
    "            name_cons.append([wordtag, context])\n",
    "\n",
    "print(name_cons[100])"
   ]
  },
  {
   "cell_type": "markdown",
   "id": "a771db7e",
   "metadata": {},
   "source": [
    "We check whether there are enough adjectives and adverbs in the context of the names to be able to perform the analysis. "
   ]
  },
  {
   "cell_type": "code",
   "execution_count": 45,
   "id": "3ab4466c",
   "metadata": {},
   "outputs": [
    {
     "name": "stdout",
     "output_type": "stream",
     "text": [
      "There are  3538  adverbs, and  3594  adjectives around names of mortals.\n",
      "There are  1276  adverbs, and  1548  adjectives around names of gods.\n"
     ]
    }
   ],
   "source": [
    "advcountm = 0\n",
    "adjcountm = 0\n",
    "advcountg = 0\n",
    "adjcountg = 0\n",
    "adjcounter = Counter()\n",
    "\n",
    "for namecon in name_cons:\n",
    "    name = namecon[0]\n",
    "    con = namecon[1]\n",
    "    \n",
    "    if name[1] == 'NNPm':\n",
    "        for wordtag in con:\n",
    "            if wordtag[1][0:2] == 'RB':\n",
    "                advcountm += 1\n",
    "                adjcounter[wordtag[0]] += 1\n",
    "                \n",
    "            elif wordtag[1][0:2] == 'JJ':\n",
    "                adjcountm += 1\n",
    "                adjcounter[wordtag[0]] += 1\n",
    "                \n",
    "    elif name[1] == 'NNPg':\n",
    "        for wordtag in con:\n",
    "            if wordtag[1][0:2] == 'RB':\n",
    "                advcountg += 1\n",
    "                adjcounter[wordtag[0]] += 1\n",
    "                \n",
    "            elif wordtag[1][0:2] == 'JJ':\n",
    "                adjcountg += 1\n",
    "                adjcounter[wordtag[0]] += 1\n",
    "                \n",
    "print('There are ', advcountm, ' adverbs, and ', adjcountm, ' adjectives around names of mortals.')\n",
    "print('There are ', advcountg, ' adverbs, and ', adjcountg, ' adjectives around names of gods.')"
   ]
  },
  {
   "cell_type": "markdown",
   "id": "bfd6a6ef",
   "metadata": {},
   "source": [
    "We consider these as enough adjectives and adverbs to perform the analysis. We will also look at the most common adjectives and adverbs to see whether there are some that are not useful for this analysis."
   ]
  },
  {
   "cell_type": "code",
   "execution_count": 46,
   "id": "2f50a651",
   "metadata": {},
   "outputs": [
    {
     "name": "stdout",
     "output_type": "stream",
     "text": [
      "[('Then', 526), ('not', 362), ('[', 362), ('even', 344), ('goodly', 318), ('now', 208), ('glorious', 198), ('then', 195), ('So', 191), ('many', 182), ('great', 156), ('first', 144), ('so', 141), ('unto', 128), ('other', 114), ('thou', 113), ('good', 107), ('flashing-eyed', 104), ('verily', 101), ('again', 98), ('dear', 97), ('thy', 82), ('yet', 80), ('old', 71), ('ever', 67), ('far', 66), (']', 65), ('strong', 63), ('mighty', 62), ('forth', 60)]\n"
     ]
    }
   ],
   "source": [
    "print(adjcounter.most_common(30))"
   ]
  },
  {
   "cell_type": "markdown",
   "id": "6ba90a2c",
   "metadata": {},
   "source": [
    "## Model"
   ]
  },
  {
   "cell_type": "markdown",
   "id": "963b20b0",
   "metadata": {},
   "source": [
    "First, we will implement the Word2Vec model to see whether words around mortals are different from those around gods. Lemmatized_replace is a list of the PoS tagged data, where each name of a mortal or god is replaced by MORTALNAME or GODNAME. This way, we can clearly see the difference between gods and mortals, without having to go through all names of gods and mortals and seeing what words are most similar to them. "
   ]
  },
  {
   "cell_type": "code",
   "execution_count": 18,
   "id": "78d720b9",
   "metadata": {},
   "outputs": [
    {
     "name": "stdout",
     "output_type": "stream",
     "text": [
      "[['But', 'CC'], ['come', 'VB'], ['tell', 'VB'], ['me', 'PRP'], ['this', 'DT'], ['and', 'CC'], ['declare', 'VB'], ['it', 'PRP'], ['truly', 'RB']]\n"
     ]
    }
   ],
   "source": [
    "lemmatized_replace = []\n",
    "\n",
    "for sent in lemmatized:\n",
    "    sentls = []\n",
    "    for wordtag in sent:\n",
    "        if wordtag[1] == 'NNPm': \n",
    "            sentls.append(['MORTALNAME', 'NNPm'])\n",
    "        elif wordtag[1] == 'NNPg':\n",
    "            sentls.append(['GODNAME', 'NNPg'])\n",
    "        else: sentls.append(wordtag)\n",
    "    lemmatized_replace.append(sentls)\n",
    "\n",
    "print(lemmatized_replace[100])"
   ]
  },
  {
   "cell_type": "markdown",
   "id": "0ca7ff3a",
   "metadata": {},
   "source": [
    "Below, we made two lists that can be used in the model. One contains all names adverbs, and adjectives. The other contains all words. We were debating which one to use in the model, which is why for now we kept both in. Right now, we are using all words as input for the model. This is because if we filter out all words except adverbs and adjectives, the windows around the target words overlap much, resulting in almost identical similarity scores for mortals and gods. We will most likely filter out all the adjectives and adverbs after retrieving the words with the highest similarity scores, so that the filtering has less of an effect on the model."
   ]
  },
  {
   "cell_type": "code",
   "execution_count": 19,
   "id": "e074eb23",
   "metadata": {},
   "outputs": [],
   "source": [
    "advadjfilt = []\n",
    "nofilt = []\n",
    "for sent in lemmatized_replace:\n",
    "    sentls = []\n",
    "    sentlsfilt = []\n",
    "    for word in sent:\n",
    "        sentls.append(word[0])\n",
    "        if word[1][0:2] in ['RB', 'JJ'] or word[1] in ['NNPg', 'NNPm']:\n",
    "            sentlsfilt.append(word[0])\n",
    "    advadjfilt.append(sentlsfilt)\n",
    "    nofilt.append(sentls)"
   ]
  },
  {
   "cell_type": "markdown",
   "id": "193b5f19",
   "metadata": {},
   "source": [
    "The parameters below were mostly taken from the notebook from week 5. We lowered the min_count, since we also want rare adjectives and adverbs to be taken into account. We also upped the amount of epochs, to prevent underfitting. However, we also did not make this number as large, because overfitting should also be prevented. "
   ]
  },
  {
   "cell_type": "code",
   "execution_count": 27,
   "id": "b512c1f6",
   "metadata": {},
   "outputs": [],
   "source": [
    "params = {\n",
    "    'vector_size': 100, # dimension of embeddings\n",
    "    'window': 4, # window -/+ before and after focus word\n",
    "    'epochs': 10, # number of iterations over the corpus\n",
    "    'min_count': 2, # filter on words whose frequency is below this count\n",
    "    'sg': 0, # use the skip-gram (1) or the CBOW (0) mode. In class, we presented the CBOW (predict context given focus words). See optional materials for the skip-gram (predict focus given context)\n",
    "    'negative': 5, # how many negative samples to use (see optional class contents too)\n",
    "    'workers': 4, # how many cores to use\n",
    "    'alpha': 0.05 # initial learning rate for SGD. This is lambda in the class notes\n",
    "}\n",
    "model = Word2Vec(nofilt, **params)"
   ]
  },
  {
   "cell_type": "markdown",
   "id": "1ac8309a",
   "metadata": {},
   "source": [
    "As can be seen below, the words that are most similar to gods are different from those that are most similar to mortals, but they contain many names and words that are not adjectives or adverbs. We now make lists with specifically the most similar adverbs and adjectives to gods and mortals."
   ]
  },
  {
   "cell_type": "code",
   "execution_count": 28,
   "id": "5a4ee118",
   "metadata": {},
   "outputs": [
    {
     "name": "stdout",
     "output_type": "stream",
     "text": [
      "('aegis', 0.6054696440696716)\n",
      "('Olympian', 0.547618567943573)\n",
      "('beareth', 0.5461543202400208)\n",
      "('Circe', 0.5457561612129211)\n",
      "('Earth', 0.5340431928634644)\n",
      "('Cronos', 0.5274871587753296)\n",
      "('loud-thundering', 0.5146997570991516)\n",
      "('goddess', 0.49694350361824036)\n",
      "('Ares', 0.48949551582336426)\n",
      "('Atrytone', 0.4818022549152374)\n"
     ]
    }
   ],
   "source": [
    "for word in list(model.wv.most_similar('GODNAME', topn=10)):\n",
    "    print(word)"
   ]
  },
  {
   "cell_type": "code",
   "execution_count": 29,
   "id": "62fad942",
   "metadata": {},
   "outputs": [
    {
     "name": "stdout",
     "output_type": "stream",
     "text": [
      "('prince', 0.570689857006073)\n",
      "('Aeacus', 0.5467544794082642)\n",
      "('Menoetius', 0.5219322443008423)\n",
      "('son', 0.5188173651695251)\n",
      "('godlike', 0.49770721793174744)\n",
      "('hero', 0.4914265275001526)\n",
      "('him', 0.4898344576358795)\n",
      "('valiant', 0.4862416982650757)\n",
      "('Sarpedon', 0.4837665557861328)\n",
      "('swineherd', 0.4816221296787262)\n"
     ]
    }
   ],
   "source": [
    "for word in list(model.wv.most_similar('MORTALNAME', topn=10)):\n",
    "    print(word)"
   ]
  },
  {
   "cell_type": "code",
   "execution_count": 30,
   "id": "8b65c846",
   "metadata": {},
   "outputs": [],
   "source": [
    "lemmatized_replace_words = []\n",
    "lemmatized_replace_tags = []\n",
    "\n",
    "for sent in lemmatized_replace:\n",
    "    for word in sent:\n",
    "        lemmatized_replace_words.append(word[0])\n",
    "        lemmatized_replace_tags.append(word[1])\n",
    "\n",
    "similarg = []\n",
    "similarm = []\n",
    "\n",
    "for word in list(model.wv.most_similar('MORTALNAME', topn=3000)):\n",
    "    tag = lemmatized_replace_tags[lemmatized_replace_words.index(word[0])]\n",
    "    if tag[0:2] in ['RB', 'JJ']:\n",
    "        similarm.append([word[0], word[1]])\n",
    "\n",
    "for word in list(model.wv.most_similar('GODNAME', topn=3000)):\n",
    "    tag = lemmatized_replace_tags[lemmatized_replace_words.index(word[0])]\n",
    "    if tag[0:2] in ['RB', 'JJ']:\n",
    "        similarg.append([word[0], word[1]])"
   ]
  },
  {
   "cell_type": "markdown",
   "id": "200ca460",
   "metadata": {},
   "source": [
    "Below are the lists of the most similar adverbs and adjectives. These lists seem to make sense, since adjectives that are only for gods (like Olympian) are most similar to gods, and the other way around (godlike is much more similar to mortals, which makes sense because a god won't be described as being 'godlike'."
   ]
  },
  {
   "cell_type": "code",
   "execution_count": 31,
   "id": "8108ee25",
   "metadata": {},
   "outputs": [
    {
     "name": "stdout",
     "output_type": "stream",
     "text": [
      "['Olympian', 0.547618567943573]\n",
      "['loud-thundering', 0.5146997570991516]\n",
      "['flashing-eyed', 0.4616493880748749]\n",
      "['white-armed', 0.4388252794742584]\n",
      "['tasselled', 0.3993659019470215]\n",
      "['ox-eyed', 0.397952139377594]\n",
      "['silver-footed', 0.3876006305217743]\n",
      "['borne', 0.3577749729156494]\n",
      "['heaven', 0.35677245259284973]\n",
      "['afar', 0.3470485508441925]\n",
      "['fair-haired', 0.342867910861969]\n",
      "['keen-sighted', 0.31563112139701843]\n",
      "['gracious', 0.3137694001197815]\n",
      "['wind-footed', 0.3127768933773041]\n",
      "['golden', 0.3109144866466522]\n",
      "['fair-tressed', 0.3104632794857025]\n",
      "['twofold', 0.3077957034111023]\n",
      "['never-wearied', 0.304959774017334]\n",
      "['aegis-bearing', 0.3016645014286041]\n",
      "['crooked-counselling', 0.30124369263648987]\n",
      "\n",
      "\n",
      "['godlike', 0.49770721793174744]\n",
      "['valiant', 0.4862416982650757]\n",
      "['peerless', 0.4317980408668518]\n",
      "['glorious', 0.42567363381385803]\n",
      "['great-souled', 0.4144137501716614]\n",
      "['wise-hearted', 0.39937376976013184]\n",
      "['noble', 0.37110671401023865]\n",
      "['eldest', 0.36598560214042664]\n",
      "['mighty-hearted', 0.3334866464138031]\n",
      "['lordly', 0.3316023647785187]\n",
      "['much-enduring', 0.3219325542449951]\n",
      "['war-renowned', 0.3187783658504486]\n",
      "['nevermore', 0.31087201833724976]\n",
      "['brave', 0.30789443850517273]\n",
      "['jealous', 0.2951285243034363]\n",
      "['stood', 0.2935720980167389]\n",
      "['goodly', 0.2878410518169403]\n",
      "['valorous', 0.28663644194602966]\n",
      "['swift-footed', 0.28541678190231323]\n",
      "['covetous', 0.2828291058540344]\n"
     ]
    }
   ],
   "source": [
    "for word in similarg[:20]:\n",
    "    print(word)\n",
    "print('\\n')\n",
    "for word in similarm[:20]:\n",
    "    print(word)"
   ]
  },
  {
   "cell_type": "markdown",
   "id": "d0ce8d43",
   "metadata": {},
   "source": [
    "## rough draft data visualisation"
   ]
  },
  {
   "cell_type": "code",
   "execution_count": 32,
   "id": "96e2c0dc",
   "metadata": {},
   "outputs": [],
   "source": [
    "from sklearn.decomposition import PCA\n",
    "def display_pca_scatterplot(model, words=None, sample=0):\n",
    "    if words == None:\n",
    "        if sample > 0:\n",
    "            words = np.random.choice(list(model.vocab.keys()), sample)\n",
    "        else:\n",
    "            words = [ word for word in model.vocab ]\n",
    "        \n",
    "    word_vectors = np.array([model[w] for w in words])\n",
    "\n",
    "    # do PCA on the selected embeddings\n",
    "    twodim = PCA().fit_transform(word_vectors)[:,:2]\n",
    "    \n",
    "    plt.figure(figsize=(6,6))\n",
    "    plt.scatter(twodim[:,0], twodim[:,1], edgecolors='k', c='r')\n",
    "    for word, (x,y) in zip(words, twodim):\n",
    "        plt.text(x+0.05, y+0.05, word)"
   ]
  },
  {
   "cell_type": "code",
   "execution_count": 33,
   "id": "4c5f00ec",
   "metadata": {},
   "outputs": [
    {
     "data": {
      "image/png": "[encoded data removed]",
      "text/plain": [
       "<Figure size 432x432 with 1 Axes>"
      ]
     },
     "metadata": {
      "needs_background": "light"
     },
     "output_type": "display_data"
    }
   ],
   "source": [
    "#words taken from most_similar above\n",
    "display_pca_scatterplot(model.wv, \n",
    "                        ['GODNAME', 'MORTALNAME']+[x[0] for x in similarm[:20]]+[x[0] for x in similarg[:20]])"
   ]
  },
  {
   "cell_type": "markdown",
   "id": "d6423884",
   "metadata": {},
   "source": [
    "## Word embedding"
   ]
  },
  {
   "cell_type": "code",
   "execution_count": 47,
   "id": "806b4d2c",
   "metadata": {},
   "outputs": [
    {
     "name": "stdout",
     "output_type": "stream",
     "text": [
      "(('Odysseus', 'many'), 116)\n",
      "(('Odysseus', 'goodly'), 110)\n",
      "(('Odysseus', 'Then'), 89)\n",
      "(('Odysseus', '['), 63)\n",
      "(('Athena', 'flashing-eyed'), 59)\n",
      "(('Achilles', 'goodly'), 52)\n",
      "(('Telemachus', 'Then'), 44)\n",
      "(('Zeus', 'great'), 42)\n",
      "(('Hector', 'goodly'), 40)\n",
      "(('Hector', 'even'), 38)\n",
      "(('Athena', 'Then'), 36)\n",
      "(('Telemachus', '['), 36)\n",
      "(('Zeus', 'even'), 33)\n",
      "(('Zeus', 'not'), 33)\n",
      "(('Menelaus', 'fair-haired'), 32)\n",
      "(('Athene', 'flashing-eyed'), 31)\n",
      "(('Hector', 'glorious'), 31)\n",
      "(('Odysseus', 'then'), 30)\n",
      "(('Odysseus', 'even'), 29)\n",
      "(('Zeus', 'other'), 27)\n",
      "(('Menelaus', 'good'), 27)\n",
      "(('Menelaus', 'Then'), 25)\n",
      "(('Penelope', 'Then'), 25)\n",
      "(('Patroclus', 'Funeral'), 25)\n",
      "(('Hera', 'white-armed'), 25)\n",
      "(('Achilles', 'not'), 25)\n",
      "(('Achilles', 'swift-footed'), 25)\n",
      "(('Odysseus', 'not'), 24)\n",
      "(('Odysseus', 'dear'), 24)\n",
      "(('Zeus', 'now'), 23)\n",
      "(('Hera', 'queenly'), 22)\n",
      "(('Zeus', 'many'), 22)\n",
      "(('Aias', 'Then'), 22)\n",
      "(('Zeus', 'thou'), 21)\n",
      "(('Zeus', 'borne'), 21)\n",
      "(('Penelope', '['), 21)\n",
      "(('Hector', '['), 21)\n",
      "(('Achilles', 'even'), 21)\n",
      "(('Zeus', 'Then'), 20)\n",
      "(('Zeus', 'high'), 20)\n",
      "(('Achilles', '['), 20)\n",
      "(('Aias', 'great'), 20)\n",
      "(('Diomedes', 'good'), 20)\n",
      "(('Agamemnon', 'not'), 19)\n",
      "(('Hera', 'not'), 19)\n",
      "(('Aias', 'Telamonian'), 19)\n",
      "(('Hector', 'So'), 19)\n",
      "(('Hector', 'unto'), 19)\n",
      "(('Nestor', 'Then'), 18)\n",
      "(('Zeus', 'then'), 18)\n",
      "(('Odysseus', 'now'), 18)\n",
      "(('Hector', 'now'), 18)\n",
      "(('Hector', 'not'), 18)\n",
      "(('Zeus', '['), 17)\n",
      "(('Menelaus', 'glorious'), 17)\n",
      "(('Aias', '['), 16)\n",
      "(('Odysseus', 'steadfast'), 15)\n",
      "(('Odysseus', 'thou'), 15)\n",
      "(('Athena', 'So'), 15)\n",
      "(('Telemachus', 'verily'), 15)\n",
      "(('Zeus', 'ever'), 15)\n",
      "(('Eumaeus', 'swineherd'), 15)\n",
      "(('Patroclus', 'dead'), 15)\n",
      "(('Achilles', 'Then'), 15)\n",
      "(('Priam', 'old'), 15)\n",
      "(('Achilles', 'Funeral'), 15)\n",
      "(('Telemachus', 'not'), 14)\n",
      "(('Odysseus', 'glorious'), 14)\n",
      "(('Atreus', 'wide-ruling'), 14)\n",
      "(('Agamemnon', 'wide-ruling'), 14)\n",
      "(('Menelaus', '['), 14)\n",
      "(('Odysseus', 'verily'), 14)\n",
      "(('Achilles', 'so'), 14)\n",
      "(('Odysseus', 'ever'), 13)\n",
      "(('Zeus', 'good'), 13)\n",
      "(('Zeus', 'so'), 13)\n",
      "(('Odysseus', 'So'), 13)\n",
      "(('Atreus', 'Most'), 13)\n",
      "(('Atreus', 'glorious'), 13)\n",
      "(('Eumaeus', 'then'), 13)\n",
      "(('Thetis', 'silver-footed'), 13)\n",
      "(('Priam', 'not'), 13)\n",
      "(('Hector', 'then'), 13)\n",
      "(('Hector', 'so'), 13)\n",
      "(('Patroclus', 'even'), 13)\n",
      "(('Achilles', 'then'), 13)\n",
      "(('Zeus', 'Olympian'), 12)\n",
      "(('Priam', 'great'), 12)\n",
      "(('Zeus', 'verily'), 12)\n",
      "(('Zeus', 'most'), 12)\n",
      "(('Telemachus', 'dear'), 12)\n",
      "(('Odysseus', 'much-enduring'), 12)\n",
      "(('Achilles', 'glorious'), 12)\n",
      "(('Agamemnon', 'even'), 12)\n",
      "(('Peleus', 'swift-footed'), 12)\n",
      "(('Achilles', 'now'), 12)\n",
      "(('Priam', 'even'), 12)\n",
      "(('Telemachus', 'first'), 11)\n",
      "(('Eurymachus', 'Then'), 11)\n",
      "(('Telemachus', 'So'), 11)\n"
     ]
    }
   ],
   "source": [
    "coocu = Counter()\n",
    "for sent in name_cons:\n",
    "    target = sent[0]\n",
    "    con = sent[1]\n",
    "        \n",
    "    for conword in con:\n",
    "        if conword[1][0:2] in ['RB', 'JJ']:\n",
    "            coocu[(target[0], conword[0])] += 1\n",
    "            \n",
    "for common in list(coocu.most_common(100)):\n",
    "    print(common)"
   ]
  },
  {
   "cell_type": "code",
   "execution_count": null,
   "id": "bf1ed955",
   "metadata": {},
   "outputs": [],
   "source": []
  }
 ],
 "metadata": {
  "kernelspec": {
   "display_name": "Python 3 (ipykernel)",
   "language": "python",
   "name": "python3"
  },
  "language_info": {
   "codemirror_mode": {
    "name": "ipython",
    "version": 3
   },
   "file_extension": ".py",
   "mimetype": "text/x-python",
   "name": "python",
   "nbconvert_exporter": "python",
   "pygments_lexer": "ipython3",
   "version": "3.9.7"
  }
 },
 "nbformat": 4,
 "nbformat_minor": 5
}
