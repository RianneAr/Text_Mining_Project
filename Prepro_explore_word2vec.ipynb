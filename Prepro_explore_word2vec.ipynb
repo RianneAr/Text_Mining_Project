{
 "cells": [
  {
   "cell_type": "markdown",
   "id": "c6a17586",
   "metadata": {},
   "source": [
    "# Preprocessing, data exploration and model"
   ]
  },
  {
   "cell_type": "markdown",
   "id": "ec932fe6",
   "metadata": {},
   "source": [
    "Necessary imports"
   ]
  },
  {
   "cell_type": "code",
   "execution_count": 47,
   "id": "9d5a413b",
   "metadata": {},
   "outputs": [],
   "source": [
    "import numpy as np\n",
    "import nltk\n",
    "import json\n",
    "import matplotlib.pyplot as plt\n",
    "import gensim.downloader as api\n",
    "from nltk.tokenize import sent_tokenize, word_tokenize\n",
    "from nltk.stem.wordnet import WordNetLemmatizer\n",
    "from gensim.models import Word2Vec"
   ]
  },
  {
   "cell_type": "code",
   "execution_count": 2,
   "id": "eefa5dbe",
   "metadata": {},
   "outputs": [],
   "source": [
    "with open('mortaldict.json', 'r') as f:\n",
    "    mortaldict = json.load(f)\n",
    "    \n",
    "with open('goddict.json', 'r') as f:\n",
    "    goddict = json.load(f)"
   ]
  },
  {
   "cell_type": "markdown",
   "id": "702a9b25",
   "metadata": {},
   "source": [
    "## Preprocessing"
   ]
  },
  {
   "cell_type": "markdown",
   "id": "0dabf36d",
   "metadata": {},
   "source": [
    "First, let's check what the encoding is of the text file, so that we can properly import the texts"
   ]
  },
  {
   "cell_type": "code",
   "execution_count": 3,
   "id": "1676341a",
   "metadata": {},
   "outputs": [
    {
     "name": "stdout",
     "output_type": "stream",
     "text": [
      "<_io.TextIOWrapper name='text_file.txt' mode='r' encoding='cp1252'>\n"
     ]
    }
   ],
   "source": [
    "with open('text_file.txt') as f:\n",
    "    print(f)"
   ]
  },
  {
   "cell_type": "markdown",
   "id": "f066eb31",
   "metadata": {},
   "source": [
    "As can be seen above, this file doesn't use the standard utf-8 encoding, but cp1252 encoding. So, we will use this encoder when reading it in:"
   ]
  },
  {
   "cell_type": "code",
   "execution_count": 4,
   "id": "5d1bf626",
   "metadata": {},
   "outputs": [
    {
     "name": "stdout",
     "output_type": "stream",
     "text": [
      "[313] “So do not thou, my friend, wander long far from home, leaving thy wealth behind thee and men in thy house so insolent, lest they divide and devour all thy wealth, and thou shalt have gone on a fruitless journey. But to Menelaus I bid and command thee to go, for he has but lately come from a strange land, from a folk whence no one would hope in his heart to return, whom the storms had once driven astray into a sea so great, whence the very birds do not fare in the space of a year, so great is it and terrible. But now go thy way with thy ship and thy comrades, or, if thou wilt go by land, here are chariot and horses at hand for thee, and here at thy service are my sons, who will be thy guides to goodly Lacedaemon, where lives fair-haired Menelaus. And do thou beseech him thyself that he may tell thee the very truth. A lie will be not utter, for he is wise indeed.”\n",
      "\n"
     ]
    }
   ],
   "source": [
    "with open(\"text_file.txt\",\"r\",encoding= 'cp1252') as f:\n",
    "    data = f.readlines()\n",
    "    \n",
    "print(data[700])"
   ]
  },
  {
   "cell_type": "markdown",
   "id": "777c05e5",
   "metadata": {},
   "source": [
    "We split the data into sentences"
   ]
  },
  {
   "cell_type": "code",
   "execution_count": 5,
   "id": "0ded8a06",
   "metadata": {},
   "outputs": [
    {
     "name": "stdout",
     "output_type": "stream",
     "text": [
      "['Howbeit Poseidon had gone among the far-off Ethiopians—the Ethiopians who dwell sundered in twain, the farthermost of men, some where Hyperion sets and some where he rises, there to receive a hecatomb of bulls and rams, and there he was taking his joy, sitting at the feast; but the other gods were gathered together in the halls of Olympian Zeus.', \"[28] Among them the father of gods and men was first to speak, for in his heart he thought of noble Aegisthus, whom far-famed Orestes, Agamemnon's son, had slain.\", 'Thinking on him he spoke among the immortals, and said: “Look you now, how ready mortals are to blame the gods.', 'It is from us, they say, that evils come, but they even of themselves, through their own blind folly, have sorrows beyond that which is ordained.', 'Even as now Aegisthus, beyond that which was ordained, took to himself the wedded wife of the son of Atreus, and slew him on his return, though well he knew of sheer destruction, seeing that we spake to him before, sending Hermes, the keen-sighted Argeiphontes, that he should neither slay the man nor woo his wife; for from Orestes shall come vengeance for the son of Atreus when once he has come to manhood and longs for his own land.']\n"
     ]
    }
   ],
   "source": [
    "sentences = []\n",
    "for par in data:\n",
    "    if par == '\\n':\n",
    "        continue\n",
    "    senttemp = sent_tokenize(par)\n",
    "    sentences = sentences +senttemp\n",
    "\n",
    "print(sentences[100:105])"
   ]
  },
  {
   "cell_type": "markdown",
   "id": "7817802b",
   "metadata": {},
   "source": [
    "Now, we tokenize the sentences"
   ]
  },
  {
   "cell_type": "code",
   "execution_count": 6,
   "id": "6394b7f7",
   "metadata": {},
   "outputs": [
    {
     "name": "stdout",
     "output_type": "stream",
     "text": [
      "['my', 'heart', ',', 'and', 'as', 'I', 'think', 'it', 'shall', 'be', 'brought', 'to', 'pass', ',', 'though', 'I', 'am', 'in', 'no', 'wise', 'a', 'soothsayer', ',', 'nor', 'one', 'versed', 'in', 'the', 'signs', 'of', 'birds', '.', 'Not', 'much', 'longer', 'shall', 'he', 'be', 'absent', 'from', 'his', 'dear', 'native', 'land', ',', 'no', ',', 'not', 'though', 'bonds', 'of', 'iron', 'hold', 'him', '.', 'He', 'will', 'contrive', 'a', 'way', 'to', 'return', ',', 'for', 'he', 'is', 'a', 'man', 'of', 'many', 'devices', '.', 'But', 'come', ',', 'tell', 'me', 'this', 'and', 'declare', 'it', 'truly', ',', 'whether', 'indeed', ',', 'tall', 'as', 'thou', 'art', ',', 'thou', 'art', 'the', 'son', 'of', 'Odysseus', 'himself', '.', 'Wondrously']\n"
     ]
    }
   ],
   "source": [
    "words = []\n",
    "for sent in sentences:\n",
    "    wordstemp = word_tokenize(sent)\n",
    "    words = words + wordstemp\n",
    "    \n",
    "print(words[3000:3100])"
   ]
  },
  {
   "cell_type": "markdown",
   "id": "72df7e92",
   "metadata": {},
   "source": [
    "Now, we PoS tag the data, so that lemmatization is easier, and names of characters can be identified more easily"
   ]
  },
  {
   "cell_type": "code",
   "execution_count": 7,
   "id": "4e774e13",
   "metadata": {},
   "outputs": [
    {
     "name": "stdout",
     "output_type": "stream",
     "text": [
      "[('seeing', 'VBG'), ('that', 'IN'), ('they', 'PRP'), ('have', 'VBP'), ('caused', 'VBN'), ('him', 'PRP'), ('to', 'TO'), ('pass', 'VB'), ('from', 'IN'), ('sight', 'NN'), ('as', 'IN'), ('they', 'PRP'), ('have', 'VBP'), ('no', 'DT'), ('other', 'JJ'), ('man', 'NN'), ('For', 'IN'), ('I', 'PRP'), ('should', 'MD'), ('not', 'RB'), ('so', 'RB'), ('grieve', 'VB'), ('for', 'IN'), ('his', 'PRP$'), ('death', 'NN'), ('if', 'IN'), ('he', 'PRP'), ('had', 'VBD'), ('been', 'VBN'), ('slain', 'VBN'), ('among', 'IN'), ('his', 'PRP$'), ('comrades', 'NNS'), ('in', 'IN'), ('the', 'DT'), ('land', 'NN'), ('of', 'IN'), ('the', 'DT'), ('Trojans', 'NNPS'), ('or', 'CC'), ('had', 'VBD'), ('died', 'VBN'), ('in', 'IN'), ('the', 'DT'), ('arms', 'NNS'), ('of', 'IN'), ('his', 'PRP$'), ('friends', 'NNS'), ('when', 'WRB'), ('he', 'PRP'), ('had', 'VBD'), ('wound', 'VBN'), ('up', 'RP'), ('the', 'DT'), ('skein', 'NN'), ('of', 'IN'), ('war', 'NN'), ('Then', 'RB'), ('would', 'MD'), ('the', 'DT'), ('whole', 'JJ'), ('host', 'NN'), ('of', 'IN'), ('the', 'DT'), ('Achaeans', 'NNPS'), ('have', 'VBP'), ('made', 'VBN'), ('him', 'PRP'), ('a', 'DT'), ('tomb', 'NN'), ('and', 'CC'), ('for', 'IN'), ('his', 'PRP$'), ('son', 'NN'), ('too', 'RB'), ('he', 'PRP'), ('would', 'MD'), ('have', 'VB'), ('won', 'VBN'), ('great', 'JJ'), ('glory', 'NN'), ('in', 'IN'), ('days', 'NNS'), ('to', 'TO'), ('come', 'VB'), ('But', 'CC'), ('as', 'IN'), ('it', 'PRP'), ('is', 'VBZ'), ('the', 'DT'), ('spirits', 'NNS'), ('of', 'IN'), ('the', 'DT'), ('storm', 'NN'), ('have', 'VBP'), ('swept', 'VBN'), ('him', 'PRP'), ('away', 'RB'), ('and', 'CC'), ('left', 'VBD')]\n"
     ]
    }
   ],
   "source": [
    "tagged = nltk.pos_tag(words)\n",
    "\n",
    "tagged_filtered = []\n",
    "for wordtag in tagged:\n",
    "    if wordtag[1] in ['.', ',', ':', '--', '$', '(', ')'] or wordtag[0] in ['“', '”']:\n",
    "        continue\n",
    "    else: tagged_filtered.append(wordtag)\n",
    "        \n",
    "print(tagged_filtered[3000:3100])"
   ]
  },
  {
   "cell_type": "markdown",
   "id": "55514abb",
   "metadata": {},
   "source": [
    "Next, we lemmatize the dataset"
   ]
  },
  {
   "cell_type": "code",
   "execution_count": 19,
   "id": "860551d5",
   "metadata": {},
   "outputs": [
    {
     "name": "stdout",
     "output_type": "stream",
     "text": [
      "[['see', 'VBG'], ['that', 'IN'], ['they', 'PRP'], ['have', 'VBP'], ['cause', 'VBN'], ['him', 'PRP'], ['to', 'TO'], ['pass', 'VB'], ['from', 'IN'], ['sight', 'NN'], ['a', 'IN'], ['they', 'PRP'], ['have', 'VBP'], ['no', 'DT'], ['other', 'JJ'], ['man', 'NN'], ['For', 'IN'], ['I', 'PRP'], ['should', 'MD'], ['not', 'RB'], ['so', 'RB'], ['grieve', 'VB'], ['for', 'IN'], ['his', 'PRP$'], ['death', 'NN'], ['if', 'IN'], ['he', 'PRP'], ['have', 'VBD'], ['be', 'VBN'], ['slay', 'VBN'], ['among', 'IN'], ['his', 'PRP$'], ['comrade', 'NNS'], ['in', 'IN'], ['the', 'DT'], ['land', 'NN'], ['of', 'IN'], ['the', 'DT'], ['Trojans', 'NNPS'], ['or', 'CC'], ['have', 'VBD'], ['die', 'VBN'], ['in', 'IN'], ['the', 'DT'], ['arm', 'NNS'], ['of', 'IN'], ['his', 'PRP$'], ['friend', 'NNS'], ['when', 'WRB'], ['he', 'PRP'], ['have', 'VBD'], ['wind', 'VBN'], ['up', 'RP'], ['the', 'DT'], ['skein', 'NN'], ['of', 'IN'], ['war', 'NN'], ['Then', 'RB'], ['would', 'MD'], ['the', 'DT'], ['whole', 'JJ'], ['host', 'NN'], ['of', 'IN'], ['the', 'DT'], ['Achaeans', 'NNPS'], ['have', 'VBP'], ['make', 'VBN'], ['him', 'PRP'], ['a', 'DT'], ['tomb', 'NN'], ['and', 'CC'], ['for', 'IN'], ['his', 'PRP$'], ['son', 'NN'], ['too', 'RB'], ['he', 'PRP'], ['would', 'MD'], ['have', 'VB'], ['win', 'VBN'], ['great', 'JJ'], ['glory', 'NN'], ['in', 'IN'], ['day', 'NNS'], ['to', 'TO'], ['come', 'VB'], ['But', 'CC'], ['a', 'IN'], ['it', 'PRP'], ['be', 'VBZ'], ['the', 'DT'], ['spirit', 'NNS'], ['of', 'IN'], ['the', 'DT'], ['storm', 'NN'], ['have', 'VBP'], ['sweep', 'VBN'], ['him', 'PRP'], ['away', 'RB'], ['and', 'CC'], ['leave', 'VBD']]\n"
     ]
    }
   ],
   "source": [
    "# Reference for lemmatizing: https://stackoverflow.com/questions/15586721/wordnet-lemmatization-and-pos-tagging-in-python\n",
    "\n",
    "lemmatizer = WordNetLemmatizer()\n",
    "\n",
    "lemmatized = []\n",
    "for wordtag in tagged_filtered:\n",
    "    tag = ''\n",
    "    if wordtag[1][0:2] ==  'NN':\n",
    "        tag =  'n'\n",
    "    elif wordtag[1][0:2] ==  'VB':\n",
    "        tag =  'v'\n",
    "    elif wordtag[1][0:2] ==  'JJ':\n",
    "        tag =  'a'\n",
    "    elif wordtag[1][0:2] ==  'RB':\n",
    "        tag =  'r'\n",
    "        \n",
    "    # use postag if it exists in the wordnetlemmatizer\n",
    "    if tag == '': lemma = lemmatizer.lemmatize(wordtag[0])\n",
    "    else: lemma = lemmatizer.lemmatize(wordtag[0], pos=tag)\n",
    "        \n",
    "    lemmatized.append([lemma, wordtag[1]])\n",
    "    \n",
    "print(lemmatized[3000:3100])"
   ]
  },
  {
   "cell_type": "markdown",
   "id": "dc24bcd4",
   "metadata": {},
   "source": [
    "Next, we go through the data and print all the proper nouns that aren't in the dictionaries. If they are not and they refer to names of characters that are either Olympian gods or mortals, we add them to the dictionaries in the file characterdicts.ipynb. We do this only for names that occur at least 10 times in the book, since adding all names is not realistic. The below code prints the proper nouns (or words that were classified as such) that we didn't add to the dictionary. As can be seen, all of these are either not names, names of people who aren't part of mythology, or children of gods (in which case we left them out, since they are somewhere between god and mortal)."
   ]
  },
  {
   "cell_type": "code",
   "execution_count": 20,
   "id": "791b6f80",
   "metadata": {},
   "outputs": [
    {
     "name": "stdout",
     "output_type": "stream",
     "text": [
      ">: 325\n",
      "A: 142\n",
      "A-Z: 65\n",
      "A.: 67\n",
      "ARTICLES: 65\n",
      "Aaron: 65\n",
      "Achaea: 40\n",
      "Achaean: 54\n",
      "Achaeans: 26\n",
      "Achilleid: 65\n",
      "Aeacus: 67\n",
      "Aeneid: 65\n",
      "Aeolus: 10\n",
      "Aeschylus: 455\n",
      "Against: 67\n",
      "Ah: 68\n",
      "Aiantes: 18\n",
      "Alcman: 65\n",
      "Alexander: 49\n",
      "Alexandra: 65\n",
      "Amazon: 20\n",
      "Amazons: 15\n",
      "Amphimachus: 10\n",
      "Antenor: 31\n",
      "Antinous: 54\n",
      "Apollodorus: 65\n",
      "Apollonius: 65\n",
      "Aratus: 65\n",
      "Argive: 70\n",
      "Argives: 122\n",
      "Argonautica: 130\n",
      "Argos: 54\n",
      "Armour: 25\n",
      "Arms: 15\n",
      "Asius: 20\n",
      "Astronomica: 65\n",
      "Atsma: 65\n",
      "Ay: 17\n",
      "Aye: 64\n",
      "BESTIARY: 65\n",
      "BOOK: 1540\n",
      "BY: 65\n",
      "Barring: 25\n",
      "Battefield: 25\n",
      "Battle: 51\n",
      "Battlefield: 350\n",
      "Battles: 30\n",
      "Be: 16\n",
      "Bearers: 65\n",
      "Beggar: 50\n",
      "Beguiling: 25\n",
      "Bion: 65\n",
      "Body: 25\n",
      "Book: 65\n",
      "Bound: 65\n",
      "CLASSICAL: 65\n",
      "CONTENTS: 65\n",
      "Callimachus: 65\n",
      "Callistratus: 65\n",
      "Calypso: 50\n",
      "Catalogue: 25\n",
      "Child: 14\n",
      "Chiliades: 65\n",
      "Chryse: 10\n",
      "Chryses: 10\n",
      "Circe: 70\n",
      "Classical: 136\n",
      "Claudian: 130\n",
      "Clement: 130\n",
      "Colluthus: 65\n",
      "Come: 60\n",
      "Contact: 65\n",
      "Contest: 65\n",
      "Copyright: 65\n",
      "Creatures: 65\n",
      "Crete: 21\n",
      "Cretensis: 65\n",
      "Cronos: 161\n",
      "Cycle: 67\n",
      "Cyclopes: 12\n",
      "Cyclops: 47\n",
      "Daemones-Spirits: 65\n",
      "Danaan: 41\n",
      "Dardanus: 23\n",
      "Dares: 66\n",
      "Dawn: 78\n",
      "Days: 65\n",
      "Dead: 91\n",
      "Dear: 15\n",
      "Death: 55\n",
      "Departure: 25\n",
      "Description: 65\n",
      "Descriptions: 65\n",
      "Dialogues: 130\n",
      "Dictys: 65\n",
      "Diodorus: 65\n",
      "Dionysiaca: 65\n",
      "Dolon: 10\n",
      "Doom: 18\n",
      "Dost: 11\n",
      "Duel: 50\n",
      "Dulichium: 11\n",
      "Earth: 52\n",
      "Earth-shaker: 14\n",
      "Eclogues: 65\n",
      "Egypt: 14\n",
      "Elder: 65\n",
      "Elis: 11\n",
      "Embassy: 25\n",
      "Epic: 67\n",
      "Ethiopian: 15\n",
      "Eumenides: 65\n",
      "Euryalus: 15\n",
      "Exhortation: 65\n",
      "FALL: 45\n",
      "Fabulae: 65\n",
      "Fall: 65\n",
      "Family: 65\n",
      "Far: 16\n",
      "Fasti: 65\n",
      "Fate: 52\n",
      "Fates: 24\n",
      "Father: 66\n",
      "Feast: 25\n",
      "Final: 30\n",
      "Fire-god: 12\n",
      "First: 29\n",
      "Flaccus: 65\n",
      "Flower: 65\n",
      "Foray: 25\n",
      "Forthwith: 19\n",
      "Fragments: 325\n",
      "Friend: 12\n",
      "Fulgentius: 65\n",
      "Full: 16\n",
      "Funeral: 40\n",
      "Furens: 65\n",
      "GALLERY: 65\n",
      "GODS: 65\n",
      "GREEK: 130\n",
      "Games: 25\n",
      "Georgics: 65\n",
      "Gerenia: 36\n",
      "Gigantomachia: 65\n",
      "Glaucus: 29\n",
      "Go: 17\n",
      "God: 71\n",
      "Goddess: 17\n",
      "Gods: 879\n",
      "Greece: 66\n",
      "Greek: 73\n",
      "Greeks: 117\n",
      "HEROES: 65\n",
      "HOME: 65\n",
      "HOMER: 104\n",
      "Ha: 11\n",
      "Hail: 12\n",
      "Hard: 18\n",
      "Hearken: 22\n",
      "Heaven: 19\n",
      "Helen: 155\n",
      "Hellas: 21\n",
      "Hellespont: 32\n",
      "Heroides: 65\n",
      "Hesiod: 260\n",
      "Him: 72\n",
      "Hippasus: 12\n",
      "Hippolochus: 13\n",
      "History: 65\n",
      "Homer: 186\n",
      "Homeric: 65\n",
      "Horse: 38\n",
      "Howbeit: 129\n",
      "Hyginus: 130\n",
      "Hymns: 195\n",
      "Hyperion: 11\n",
      "ILIAD: 100\n",
      "Ida: 79\n",
      "Idaeus: 14\n",
      "Idylls: 65\n",
      "Iliad: 102\n",
      "Ilios: 181\n",
      "Ilium: 23\n",
      "Imagines: 130\n",
      "Immortal: 12\n",
      "Immortals: 16\n",
      "Ithaca: 133\n",
      "J.: 65\n",
      "King: 20\n",
      "LIBRARY: 130\n",
      "Lacedaemon: 15\n",
      "Laestrygones: 25\n",
      "Legendary: 130\n",
      "Lemnos: 23\n",
      "Lesbos: 11\n",
      "Libation: 65\n",
      "Library: 331\n",
      "Life: 65\n",
      "Lo: 53\n",
      "Loeb: 12\n",
      "Lord: 19\n",
      "Lotus-Eaters: 25\n",
      "Love: 68\n",
      "Lucian: 130\n",
      "Lycia: 24\n",
      "Lycophron: 66\n",
      "Lyric: 65\n",
      "MISCELLANY: 65\n",
      "MURRAY: 50\n",
      "MYTHOLOGY: 65\n",
      "May: 10\n",
      "Medea: 65\n",
      "Medon: 19\n",
      "Menoetius: 43\n",
      "Mentor: 21\n",
      "Metamorphoses: 65\n",
      "Monsters: 130\n",
      "Moschus: 65\n",
      "My: 22\n",
      "Mycenae: 10\n",
      "Myrmidons: 42\n",
      "Mythologies: 65\n",
      "Myths: 130\n",
      "Nay: 296\n",
      "Nereus: 10\n",
      "Never: 10\n",
      "New: 65\n",
      "Night: 11\n",
      "Nonnus: 65\n",
      "North: 28\n",
      "Nymphs: 82\n",
      "O: 134\n",
      "ODYSSEY: 100\n",
      "OF: 46\n",
      "Ocean: 30\n",
      "Oceanus: 29\n",
      "Odyssey: 98\n",
      "Oetaeus: 65\n",
      "Old: 23\n",
      "Olympian: 82\n",
      "Olympus: 156\n",
      "Ones: 11\n",
      "Orphic: 65\n",
      "Ovid: 195\n",
      "Parallel: 65\n",
      "Parthenius: 67\n",
      "Pattern: 65\n",
      "Pausanias: 65\n",
      "Peisander: 10\n",
      "Peleides: 14\n",
      "Pelion: 11\n",
      "Persephone: 11\n",
      "Phaenomena: 65\n",
      "Philostratus: 130\n",
      "Phoenissae: 65\n",
      "Phoenix: 18\n",
      "Phrygius: 65\n",
      "Phthia: 20\n",
      "Phylace: 10\n",
      "Phyleus: 16\n",
      "Plant: 65\n",
      "Plutarch: 130\n",
      "Poems: 195\n",
      "Primordial: 65\n",
      "Project: 130\n",
      "Prometheus: 67\n",
      "Proserpine: 65\n",
      "Pylos: 58\n",
      "QUINTUS: 32\n",
      "Quarrel: 25\n",
      "Queen: 21\n",
      "Quintus: 86\n",
      "RECENT: 65\n",
      "Raft: 25\n",
      "Rallying: 25\n",
      "Ransom: 25\n",
      "Rape: 130\n",
      "Recognitions: 65\n",
      "Reconciliation: 25\n",
      "Return: 50\n",
      "Returns: 65\n",
      "Rhodius: 66\n",
      "River: 15\n",
      "Romances: 65\n",
      "Rustic: 65\n",
      "S.: 17\n",
      "SEARCH: 65\n",
      "SMYRNAEUS: 32\n",
      "Sack: 15\n",
      "Sarpedon: 71\n",
      "Scaean: 14\n",
      "Scamander: 16\n",
      "Scylla: 37\n",
      "Sea: 69\n",
      "Seneca: 585\n",
      "Seven: 67\n",
      "Shaker: 49\n",
      "Shield: 67\n",
      "Ships: 50\n",
      "Siculus: 65\n",
      "Simois: 10\n",
      "Sky: 66\n",
      "Slaying: 25\n",
      "Sleep: 13\n",
      "Smyrnaeus: 82\n",
      "So: 224\n",
      "Soli: 65\n",
      "Son: 64\n",
      "South: 15\n",
      "Sparta: 15\n",
      "Spirits: 133\n",
      "Star: 67\n",
      "Statius: 130\n",
      "Stories: 65\n",
      "Straightway: 40\n",
      "Strange: 11\n",
      "Stranger: 25\n",
      "Strife: 21\n",
      "Suitors: 75\n",
      "Suppliant: 65\n",
      "T.: 54\n",
      "TEXTS: 65\n",
      "THE: 118\n",
      "THEOI: 65\n",
      "TROY: 45\n",
      "Taking: 65\n",
      "Tell: 11\n",
      "Tenedos: 15\n",
      "Teuthranian: 15\n",
      "Texts: 195\n",
      "Thebaid: 65\n",
      "Thebe: 18\n",
      "Thebes: 74\n",
      "Theocritus: 65\n",
      "Theogony: 65\n",
      "Theoi: 195\n",
      "Therefore: 25\n",
      "Therein: 24\n",
      "Therewith: 16\n",
      "Thoas: 24\n",
      "Thou: 106\n",
      "Thrace: 12\n",
      "Thrasymedes: 13\n",
      "Thrice: 12\n",
      "Thus: 44\n",
      "Thy: 15\n",
      "Titan: 72\n",
      "Toggle: 65\n",
      "Tree: 67\n",
      "Tribes: 65\n",
      "Troades: 65\n",
      "Trojan: 105\n",
      "Trojans: 16\n",
      "Troops: 25\n",
      "Troy: 423\n",
      "Tryphiodorus: 65\n",
      "Tzetzes: 65\n",
      "Underworld: 90\n",
      "Us: 65\n",
      "Valerius: 65\n",
      "Verily: 26\n",
      "Virgil: 195\n",
      "WAY: 15\n",
      "War: 10\n",
      "War-god: 32\n",
      "Warrior: 65\n",
      "Was: 67\n",
      "West: 27\n",
      "Wherefore: 22\n",
      "Who: 68\n",
      "Wind: 62\n",
      "Women: 65\n",
      "Works: 65\n",
      "Wounding: 25\n",
      "Xanthus: 32\n",
      "Ye: 14\n",
      "Yea: 34\n",
      "Younger: 65\n",
      "Zealand: 65\n",
      "]: 191\n",
      "ye: 11\n",
      "©: 65\n",
      "’: 16\n"
     ]
    }
   ],
   "source": [
    "# Reference for sorting dictionary: https://www.edureka.co/blog/sort-dictionary-by-value-in-python/\n",
    "\n",
    "non_occuring = {}\n",
    "non_occuring_min10 = {}\n",
    "\n",
    "mortals = mortaldict\n",
    "gods = goddict\n",
    "\n",
    "for wordtag in lemmatized:\n",
    "    \n",
    "    # Only look at proper nouns\n",
    "    if wordtag[1] == 'NNP':\n",
    "        \n",
    "        # Binary to indicate if the word has been found\n",
    "        filled_in = 0\n",
    "        \n",
    "        # Go through mortaldict\n",
    "        for idx, vals in enumerate(mortals.values()):\n",
    "            if wordtag[0] in vals[0]:\n",
    "                filled_in = 1\n",
    "                break\n",
    "                \n",
    "        # If word hasn't been found in mortaldict, go through goddict\n",
    "        if filled_in == 0:\n",
    "            for idx, vals in enumerate(gods.values()):\n",
    "                if wordtag[0] in vals[0]:\n",
    "                    filled_in = 1\n",
    "                    break\n",
    "        \n",
    "        # Print word if it hasn't been found at all\n",
    "        if filled_in == 0:\n",
    "            if wordtag[0] in non_occuring.keys():\n",
    "                non_occuring[wordtag[0]] += 1\n",
    "            else: non_occuring[wordtag[0]] = 1\n",
    "\n",
    "for key in non_occuring.keys():\n",
    "    if non_occuring[key] >= 10:\n",
    "        non_occuring_min10[key] = non_occuring[key]\n",
    "\n",
    "for key in sorted(non_occuring_min10.keys()):\n",
    "       print(\"%s: %s\" % (key, non_occuring_min10[key]))"
   ]
  },
  {
   "cell_type": "markdown",
   "id": "4b972c76",
   "metadata": {},
   "source": [
    "## Data exploration"
   ]
  },
  {
   "cell_type": "markdown",
   "id": "92a16f89",
   "metadata": {},
   "source": [
    "First, we go through the texts, and count how many times a certain name is mentioned."
   ]
  },
  {
   "cell_type": "code",
   "execution_count": 21,
   "id": "88495654",
   "metadata": {},
   "outputs": [],
   "source": [
    "for idx, wordtag in enumerate(lemmatized):\n",
    "    word = wordtag[0]\n",
    "    tag = wordtag[1]\n",
    "\n",
    "    if tag == 'NNP':\n",
    "        \n",
    "        # Binary to indicate if the word has been found\n",
    "        filled_in = 0\n",
    "        \n",
    "        # Go through mortaldict\n",
    "        for idx1, vals in enumerate(mortaldict.values()):\n",
    "            if word in vals[0]:\n",
    "                filled_in = 1\n",
    "                mortaldict[str(idx1)][1] += 1\n",
    "                lemmatized[idx][1] = 'NNPm'\n",
    "                break\n",
    "                \n",
    "        # If word hasn't been found in mortaldict, go through goddict\n",
    "        if filled_in == 0:\n",
    "            for idx2, vals in enumerate(goddict.values()):\n",
    "                if word in vals[0]:\n",
    "                    filled_in = 1\n",
    "                    goddict[str(idx2)][1] += 1\n",
    "                    lemmatized[idx][1] = 'NNPg'\n",
    "                    break"
   ]
  },
  {
   "cell_type": "markdown",
   "id": "8a9bde79",
   "metadata": {},
   "source": [
    "Below we print the amounts of times mortals and gods are mentioned. Note that in reality this number is a bit higher because we are not looking at all mortals and all gods. While mortals are named more often, both gods and mortals are named enough times to be able to do a meaningful analysis."
   ]
  },
  {
   "cell_type": "code",
   "execution_count": 22,
   "id": "b9a511e1",
   "metadata": {},
   "outputs": [
    {
     "name": "stdout",
     "output_type": "stream",
     "text": [
      "Total amount of mortal names:  8021\n",
      "Total amount of god names:  3130\n"
     ]
    }
   ],
   "source": [
    "summortals = 0\n",
    "sumgods = 0\n",
    "\n",
    "for mval in mortaldict.values():\n",
    "    summortals += mval[1]\n",
    "    \n",
    "for gval in goddict.values():\n",
    "    sumgods += gval[1]\n",
    "    \n",
    "print('Total amount of mortal names: ', summortals)\n",
    "print('Total amount of god names: ', sumgods)"
   ]
  },
  {
   "cell_type": "markdown",
   "id": "8e2d5ec7",
   "metadata": {},
   "source": [
    "Next, we plot the 20 most common names for both mortals and gods. "
   ]
  },
  {
   "cell_type": "code",
   "execution_count": 23,
   "id": "d50756e9",
   "metadata": {},
   "outputs": [],
   "source": [
    "# Reference for sorting dict: https://www.geeksforgeeks.org/python-sort-list-according-second-element-sublist/\n",
    "\n",
    "sortm = list(mortaldict.values())\n",
    "sortm.sort(key = lambda x: x[1])\n",
    "sortm.reverse()\n",
    "\n",
    "sortg = list(goddict.values())\n",
    "sortg.sort(key = lambda x: x[1])\n",
    "sortg.reverse()"
   ]
  },
  {
   "cell_type": "code",
   "execution_count": 24,
   "id": "12dc7da9",
   "metadata": {},
   "outputs": [],
   "source": [
    "mnames = [name[0][0] for name in sortm]\n",
    "mcounts = [count[1] for count in sortm]\n",
    "\n",
    "gnames = [name[0][0] for name in sortg]\n",
    "gcounts = [count[1] for count in sortg]"
   ]
  },
  {
   "cell_type": "markdown",
   "id": "119c46b5",
   "metadata": {},
   "source": [
    "As can be seen in the graphs, the most common names make sense considering the original texts. The main characters of for example the Iliad and Odyssee occur most often, and the most important gods are named the most."
   ]
  },
  {
   "cell_type": "code",
   "execution_count": 27,
   "id": "ce4255e9",
   "metadata": {},
   "outputs": [
    {
     "data": {
      "text/plain": [
       "Text(0.5, 1.0, '20 most common mortals and their frequencies')"
      ]
     },
     "execution_count": 27,
     "metadata": {},
     "output_type": "execute_result"
    },
    {
     "data": {
      "image/png": "[encoded data removed]",
      "text/plain": [
       "<Figure size 1152x720 with 1 Axes>"
      ]
     },
     "metadata": {
      "needs_background": "light"
     },
     "output_type": "display_data"
    }
   ],
   "source": [
    "plt.figure(figsize=(16, 10))\n",
    "plt.bar(mnames[0:20], mcounts[0:20])\n",
    "plt.title('20 most common mortals and their frequencies')"
   ]
  },
  {
   "cell_type": "code",
   "execution_count": 28,
   "id": "b5e92a8d",
   "metadata": {},
   "outputs": [
    {
     "data": {
      "text/plain": [
       "Text(0.5, 1.0, '20 most common gods and their frequencies')"
      ]
     },
     "execution_count": 28,
     "metadata": {},
     "output_type": "execute_result"
    },
    {
     "data": {
      "image/png": "[encoded data removed]",
      "text/plain": [
       "<Figure size 1152x720 with 1 Axes>"
      ]
     },
     "metadata": {
      "needs_background": "light"
     },
     "output_type": "display_data"
    }
   ],
   "source": [
    "plt.figure(figsize=(16, 10))\n",
    "plt.bar(gnames[0:20], gcounts[0:20])\n",
    "plt.title('20 most common gods and their frequencies')"
   ]
  },
  {
   "cell_type": "markdown",
   "id": "c43426f9",
   "metadata": {},
   "source": [
    "Next, we take the context of each name."
   ]
  },
  {
   "cell_type": "code",
   "execution_count": 38,
   "id": "a5d41512",
   "metadata": {},
   "outputs": [
    {
     "name": "stdout",
     "output_type": "stream",
     "text": [
      "[['The', 'DT'], ['Odyssey', 'NNP'], ['The', 'DT'], ['exact', 'JJ'], ['date', 'NN'], ['of', 'IN'], ['these', 'DT'], ['work', 'NNS'], ['be', 'VBZ'], ['dispute', 'VBN'], ['by', 'IN'], ['modern', 'JJ'], ['scholar', 'NNS'], ['but', 'CC'], ['they', 'PRP'], ['be', 'VBP'], ['usually', 'RB'], ['place', 'VBN'], ['in', 'IN'], ['the', 'DT']]\n",
      "[['Poseidon', 'NNPg'], ['From', 'IN'], ['that', 'DT'], ['time', 'NN'], ['forth', 'JJ'], ['Poseidon', 'NNPg'], ['the', 'DT'], ['earth-shaker', 'NN'], ['do', 'VBZ'], ['not', 'RB']]\n",
      "[['earth-shaker', 'NN'], ['do', 'VBZ'], ['not', 'RB'], ['indeed', 'RB'], ['slay', 'JJ'], ['Odysseus', 'NNPm'], ['but', 'CC'], ['make', 'VBZ'], ['him', 'PRP'], ['a', 'DT']]\n",
      "[['he', 'PRP'], ['may', 'MD'], ['come', 'VB'], ['home', 'NN'], ['and', 'CC'], ['Poseidon', 'NNPg'], ['will', 'MD'], ['let', 'VB'], ['go', 'VB'], ['his', 'PRP$']]\n"
     ]
    }
   ],
   "source": [
    "contexts = []\n",
    "for idx, wordtag in enumerate(lemmatized):    \n",
    "    word = wordtag[0]\n",
    "    tag = wordtag[1]\n",
    "    \n",
    "    if tag == 'NNPm' or tag == 'NNPg':\n",
    "        context = lemmatized[max(0, idx-5):min(len(lemmatized), idx+5)]\n",
    "        contexts.append(context)\n",
    "        \n",
    "for entry in contexts[60:63]:\n",
    "    print(entry)"
   ]
  },
  {
   "cell_type": "code",
   "execution_count": 30,
   "id": "46a45093",
   "metadata": {},
   "outputs": [
    {
     "name": "stdout",
     "output_type": "stream",
     "text": [
      "[['Poseidon', 'NNPg'], [['Poseidon', 'NNPg'], ['From', 'IN'], ['that', 'DT'], ['time', 'NN'], ['forth', 'JJ'], ['the', 'DT'], ['earth-shaker', 'NN'], ['do', 'VBZ'], ['not', 'RB']]]\n",
      "[['Odysseus', 'NNPm'], [['earth-shaker', 'NN'], ['do', 'VBZ'], ['not', 'RB'], ['indeed', 'RB'], ['slay', 'JJ'], ['but', 'CC'], ['make', 'VBZ'], ['him', 'PRP'], ['a', 'DT']]]\n",
      "[['Poseidon', 'NNPg'], [['he', 'PRP'], ['may', 'MD'], ['come', 'VB'], ['home', 'NN'], ['and', 'CC'], ['will', 'MD'], ['let', 'VB'], ['go', 'VB'], ['his', 'PRP$']]]\n"
     ]
    }
   ],
   "source": [
    "name_cons = []\n",
    "for context in contexts:\n",
    "    name = context[5]\n",
    "    con = context[0:5]+context[6:]\n",
    "    name_cons.append([name, con])\n",
    "    \n",
    "for entry in name_cons[60:63]:\n",
    "    print(entry)"
   ]
  },
  {
   "cell_type": "markdown",
   "id": "a771db7e",
   "metadata": {},
   "source": [
    "We check whether there are enough adjectives and adverbs in the context of the names to be able to perform the analysis. "
   ]
  },
  {
   "cell_type": "code",
   "execution_count": 31,
   "id": "3ab4466c",
   "metadata": {},
   "outputs": [
    {
     "name": "stdout",
     "output_type": "stream",
     "text": [
      "There are  3501  adverbs, and  4035  adjectives around names of mortals.\n",
      "There are  1303  adverbs, and  1726  adjectives around names of gods.\n"
     ]
    }
   ],
   "source": [
    "advcountm = 0\n",
    "adjcountm = 0\n",
    "advcountg = 0\n",
    "adjcountg = 0\n",
    "\n",
    "for namecon in name_cons:\n",
    "    name = namecon[0]\n",
    "    con = namecon[1]\n",
    "    \n",
    "    if name[1] == 'NNPm':\n",
    "        for wordtag in con:\n",
    "            if wordtag[1][0:2] == 'RB':\n",
    "                advcountm += 1\n",
    "            elif wordtag[1][0:2] == 'JJ':\n",
    "                adjcountm += 1\n",
    "                \n",
    "    elif name[1] == 'NNPg':\n",
    "        for wordtag in con:\n",
    "            if wordtag[1][0:2] == 'RB':\n",
    "                advcountg += 1\n",
    "            elif wordtag[1][0:2] == 'JJ':\n",
    "                adjcountg += 1\n",
    "                \n",
    "print('There are ', advcountm, ' adverbs, and ', adjcountm, ' adjectives around names of mortals.')\n",
    "print('There are ', advcountg, ' adverbs, and ', adjcountg, ' adjectives around names of gods.')"
   ]
  },
  {
   "cell_type": "markdown",
   "id": "bfd6a6ef",
   "metadata": {},
   "source": [
    "We consider these as enough adjectives and adverbs to perform the analysis. We'll save the contexts so that they can be used in the model (we focused on Word2Vec first, we will use these context for the analysis after that)."
   ]
  },
  {
   "cell_type": "code",
   "execution_count": 35,
   "id": "4712145e",
   "metadata": {},
   "outputs": [
    {
     "name": "stdout",
     "output_type": "stream",
     "text": [
      "['So', 'speak', 'the', 'goddess', 'flashing-eyed', 'and', 'depart', 'fly', 'upward']\n",
      "Athena\n"
     ]
    }
   ],
   "source": [
    "#with open('names_and_contexts.json', 'w') as f:\n",
    "#   json.dump(name_cons, f)\n",
    "print([x[0] for x in name_cons[100][1]])\n",
    "\n",
    "print(name_cons[100][0][0])"
   ]
  },
  {
   "cell_type": "markdown",
   "id": "6ba90a2c",
   "metadata": {},
   "source": [
    "## Model"
   ]
  },
  {
   "cell_type": "markdown",
   "id": "963b20b0",
   "metadata": {},
   "source": [
    "First, we will implement the Word2Vec model to see whether words around mortals are different from those around gods. Lemmatized_replace is a list of the PoS tagged data, where each name of a mortal or god is replaced by MORTALNAME or GODNAME. This way, we can clearly see the difference between gods and mortals, without having to go through all names of gods and mortals and seeing what words are most similar to them. "
   ]
  },
  {
   "cell_type": "code",
   "execution_count": 194,
   "id": "78d720b9",
   "metadata": {},
   "outputs": [
    {
     "name": "stdout",
     "output_type": "stream",
     "text": [
      "[['if', 'IN'], ['haply', 'VBN'], ['any', 'DT'], ['mortal', 'JJ'], ['may', 'MD'], ['tell', 'VB'], ['thee', 'NN'], ['or', 'CC'], ['thou', 'JJ'], ['mayest', 'JJS'], ['hear', 'VBP'], ['a', 'DT'], ['voice', 'NN'], ['from', 'IN'], ['GODNAME', 'NNPg'], ['which', 'WDT'], ['oftenest', 'JJS'], ['brings', 'NNS'], ['tidings', 'NNS'], ['to', 'TO']]\n"
     ]
    }
   ],
   "source": [
    "lemmatized_replace = []\n",
    "for wordtag in lemmatized:\n",
    "    if wordtag[1] == 'NNPm': \n",
    "        lemmatized_replace.append(['MORTALNAME', 'NNPm'])\n",
    "    elif wordtag[1] == 'NNPg':\n",
    "        lemmatized_replace.append(['GODNAME', 'NNPg'])\n",
    "    else: lemmatized_replace.append(wordtag)\n",
    "        \n",
    "print(lemmatized_replace[3550:3570])"
   ]
  },
  {
   "cell_type": "markdown",
   "id": "0ca7ff3a",
   "metadata": {},
   "source": [
    "Below, we made two lists that can be used in the model. One contains all names adverbs, and adjectives. The other contains all words. We were debating which one to use in the model, which is why for now we kept both in. Right now, we are using all words as input for the model. This is because if we filter out all words except adverbs and adjectives, the windows around the target words overlap much, resulting in almost identical similarity scores for mortals and gods. We will most likely filter out all the adjectives and adverbs after retrieving the words with the highest similarity scores, so that the filtering has less of an effect on the model."
   ]
  },
  {
   "cell_type": "code",
   "execution_count": 195,
   "id": "e074eb23",
   "metadata": {},
   "outputs": [],
   "source": [
    "advadjfilt = []\n",
    "nofilt = []\n",
    "for word in lemmatized_replace:\n",
    "    nofilt.append(word[0])\n",
    "    if word[1][0:2] in ['RB', 'JJ'] or word[1] in ['NNPg', 'NNPm']:\n",
    "        advadjfilt.append(word[0])"
   ]
  },
  {
   "cell_type": "markdown",
   "id": "193b5f19",
   "metadata": {},
   "source": [
    "The parameters below were mostly taken from the notebook from week 5. We lowered the min_count, since we also want rare adjectives and adverbs to be taken into account. We also upped the amount of epochs, to prevent underfitting. However, we also did not make this number as large, because overfitting should also be prevented. "
   ]
  },
  {
   "cell_type": "code",
   "execution_count": 203,
   "id": "b512c1f6",
   "metadata": {},
   "outputs": [],
   "source": [
    "params = {\n",
    "    'vector_size': 100, # dimension of embeddings\n",
    "    'window': 5, # window -/+ before and after focus word\n",
    "    'epochs': 10, # number of iterations over the corpus\n",
    "    'min_count': 2, # filter on words whose frequency is below this count\n",
    "    'sg': 0, # use the skip-gram (1) or the CBOW (0) mode. In class, we presented the CBOW (predict context given focus words). See optional materials for the skip-gram (predict focus given context)\n",
    "    'negative': 5, # how many negative samples to use (see optional class contents too)\n",
    "    'workers': 4, # how many cores to use\n",
    "    'alpha': 0.05 # initial learning rate for SGD. This is lambda in the class notes\n",
    "}\n",
    "model = Word2Vec([nofilt], **params)"
   ]
  },
  {
   "cell_type": "markdown",
   "id": "1ac8309a",
   "metadata": {},
   "source": [
    "As can be seen below, the words that are most similar to gods are different from those that are most similar to mortals. We plan on retrieving a list of all these words that have at least a set similarity score (so for example all words with a similarity score above 0.8), and filtering these lists for only adjectives and adverbs."
   ]
  },
  {
   "cell_type": "code",
   "execution_count": 208,
   "id": "5a4ee118",
   "metadata": {},
   "outputs": [
    {
     "name": "stdout",
     "output_type": "stream",
     "text": [
      "('pledge', 0.9681337475776672)\n",
      "('lead', 0.9671785831451416)\n",
      "('stir', 0.9633991718292236)\n",
      "('goddess', 0.9624571204185486)\n",
      "('flashing-eyed', 0.9511569142341614)\n",
      "('messenger', 0.943204402923584)\n",
      "('Tell', 0.9430031776428223)\n",
      "('spake', 0.9421069025993347)\n",
      "('25', 0.9420650601387024)\n",
      "('cloud-gatherer', 0.9416881799697876)\n",
      "('345', 0.9401202201843262)\n",
      "('horseman', 0.9394966959953308)\n",
      "('314', 0.9380941987037659)\n",
      "('So', 0.9375028014183044)\n",
      "('vineyard', 0.937065601348877)\n",
      "('hearten', 0.9362161755561829)\n",
      "('208', 0.935426652431488)\n",
      "('102', 0.9352216720581055)\n",
      "('Stranger', 0.9341081976890564)\n",
      "('Gerenia', 0.9332564473152161)\n"
     ]
    }
   ],
   "source": [
    "for word in list(model.wv.most_similar('GODNAME', topn=20)):\n",
    "    print(word)"
   ]
  },
  {
   "cell_type": "code",
   "execution_count": 209,
   "id": "62fad942",
   "metadata": {},
   "outputs": [
    {
     "name": "stdout",
     "output_type": "stream",
     "text": [
      "('steadfast', 0.969447672367096)\n",
      "('Argos', 0.9687749743461609)\n",
      "('shepherd', 0.9646798968315125)\n",
      "('16', 0.9644894003868103)\n",
      "('glory', 0.9597904682159424)\n",
      "('tamer', 0.9596766233444214)\n",
      "('mankind', 0.950306236743927)\n",
      "('Ops', 0.9500877857208252)\n",
      "('18', 0.9464300274848938)\n",
      "('warlike', 0.9428395628929138)\n",
      "('great-hearted', 0.9427754878997803)\n",
      "('17', 0.9427667260169983)\n",
      "('Mastor', 0.9406383633613586)\n",
      "('15', 0.9404510259628296)\n",
      "('24', 0.939504086971283)\n",
      "('Calypso', 0.9393128752708435)\n",
      "('21', 0.9365764260292053)\n",
      "('stay', 0.9346396327018738)\n",
      "('alike', 0.9329937100410461)\n",
      "('Peisenor', 0.9322775602340698)\n"
     ]
    }
   ],
   "source": [
    "for word in list(model.wv.most_similar('MORTALNAME', topn=20)):\n",
    "    print(word)"
   ]
  },
  {
   "cell_type": "markdown",
   "id": "d0ce8d43",
   "metadata": {},
   "source": [
    "## rough draft data visualisation"
   ]
  },
  {
   "cell_type": "code",
   "execution_count": 33,
   "id": "96e2c0dc",
   "metadata": {},
   "outputs": [],
   "source": [
    "from sklearn.decomposition import PCA\n",
    "def display_pca_scatterplot(model, words=None, sample=0):\n",
    "    if words == None:\n",
    "        if sample > 0:\n",
    "            words = np.random.choice(list(model.vocab.keys()), sample)\n",
    "        else:\n",
    "            words = [ word for word in model.vocab ]\n",
    "        \n",
    "    word_vectors = np.array([model[w] for w in words])\n",
    "\n",
    "    # do PCA on the selected embeddings\n",
    "    twodim = PCA().fit_transform(word_vectors)[:,:2]\n",
    "    \n",
    "    plt.figure(figsize=(6,6))\n",
    "    plt.scatter(twodim[:,0], twodim[:,1], edgecolors='k', c='r')\n",
    "    for word, (x,y) in zip(words, twodim):\n",
    "        plt.text(x+0.05, y+0.05, word)"
   ]
  },
  {
   "cell_type": "code",
   "execution_count": 34,
   "id": "4c5f00ec",
   "metadata": {},
   "outputs": [
    {
     "data": {
      "image/png": "[encoded data removed]",
      "text/plain": [
       "<Figure size 432x432 with 1 Axes>"
      ]
     },
     "metadata": {
      "needs_background": "light"
     },
     "output_type": "display_data"
    }
   ],
   "source": [
    "#words taken from most_similar above\n",
    "display_pca_scatterplot(model.wv, \n",
    "                        ['GODNAME', 'assent', 'Classical', 'furiously', 'glorious', 'wide-spread', 'fittingly', 'great-hearted',\n",
    "                         'famous', 'spacious', 'fittingly', 'brazen', 'further', 'shamefully', 'peerless',\n",
    "                         'golden', 'swift-footed', 'great-hearted'])"
   ]
  },
  {
   "cell_type": "code",
   "execution_count": null,
   "id": "7ef46c0e",
   "metadata": {},
   "outputs": [],
   "source": []
  }
 ],
 "metadata": {
  "kernelspec": {
   "display_name": "Python 3 (ipykernel)",
   "language": "python",
   "name": "python3"
  },
  "language_info": {
   "codemirror_mode": {
    "name": "ipython",
    "version": 3
   },
   "file_extension": ".py",
   "mimetype": "text/x-python",
   "name": "python",
   "nbconvert_exporter": "python",
   "pygments_lexer": "ipython3",
   "version": "3.9.7"
  }
 },
 "nbformat": 4,
 "nbformat_minor": 5
}
