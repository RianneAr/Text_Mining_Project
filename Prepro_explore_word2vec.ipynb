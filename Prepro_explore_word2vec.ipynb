{
 "cells": [
  {
   "cell_type": "markdown",
   "id": "c6a17586",
   "metadata": {},
   "source": [
    "# Project Code File"
   ]
  },
  {
   "cell_type": "markdown",
   "id": "5c1ceb16",
   "metadata": {},
   "source": [
    "In this document you will find the following: <br>\n",
    "- [Necessary imports](#Necessary-imports)\n",
    "- [Data Qquisition](#Data-Aquisition)\n",
    "- [Preprocessing](#Preprocessing)\n",
    "- [Data Exploration](#Data-Exploration) \n",
    "- [Model](#Model) + [Word Embeddings](#Word-Embeddings)\n",
    "- [Data Visualisation](#Data-Visualisation)"
   ]
  },
  {
   "cell_type": "markdown",
   "id": "ec932fe6",
   "metadata": {},
   "source": [
    "## Necessary imports"
   ]
  },
  {
   "cell_type": "code",
   "execution_count": 1,
   "id": "9d5a413b",
   "metadata": {},
   "outputs": [],
   "source": [
    "import numpy as np\n",
    "import nltk\n",
    "import json\n",
    "import urllib\n",
    "import requests\n",
    "import matplotlib.pyplot as plt\n",
    "import gensim.downloader as api\n",
    "from nltk.tokenize import sent_tokenize, word_tokenize\n",
    "from nltk.stem.wordnet import WordNetLemmatizer\n",
    "from gensim.models import Word2Vec\n",
    "from collections import Counter\n",
    "from urllib.request import urlopen\n",
    "from bs4 import BeautifulSoup"
   ]
  },
  {
   "cell_type": "code",
   "execution_count": 2,
   "id": "eefa5dbe",
   "metadata": {},
   "outputs": [],
   "source": [
    "with open('mortaldict.json', 'r') as f:\n",
    "    mortaldict = json.load(f)\n",
    "    \n",
    "with open('goddict.json', 'r') as f:\n",
    "    goddict = json.load(f)"
   ]
  },
  {
   "cell_type": "markdown",
   "id": "318226b0",
   "metadata": {},
   "source": [
    "## Data Aquisition"
   ]
  },
  {
   "cell_type": "markdown",
   "id": "95f8060f",
   "metadata": {},
   "source": [
    "All our texts will be extracted from the website [theoi](https://www.theoi.com/). It contains almost all of the original texts of Greek Mythology translated into English. In this project, we have decided to extract some of the more popular stories, namely; [Homer Odysee](#Homer-Odysee) , [The Iliad](#The-Iliad) , [The Fall of Troy](#The-Fall-of-Troy) , and the [Ovid Metamorphosis](#Ovid-Metamorphosis)."
   ]
  },
  {
   "cell_type": "markdown",
   "id": "378ee2c6",
   "metadata": {},
   "source": [
    "#### Homer Odysee"
   ]
  },
  {
   "cell_type": "code",
   "execution_count": null,
   "id": "63eb044d",
   "metadata": {},
   "outputs": [],
   "source": [
    "Odysee_URL = \"https://www.theoi.com/Text/HomerOdyssey1.html\"\n",
    "Odysee_page = requests.get(Odysee_URL)\n",
    "Odysee_soup = BeautifulSoup(Odysee_page.content, \"html.parser\")\n",
    "\n",
    "#visual part of text\n",
    "Odysee_soup.get_text()[4000:5000]"
   ]
  },
  {
   "cell_type": "markdown",
   "id": "9cb80733",
   "metadata": {},
   "source": [
    "#### The Iliad"
   ]
  },
  {
   "cell_type": "code",
   "execution_count": null,
   "id": "d703f7f7",
   "metadata": {},
   "outputs": [],
   "source": [
    "Iliad_URL = \"https://www.theoi.com/Text/HomerIliad1.html\"\n",
    "Iliad_page = requests.get(Iliad_URL)\n",
    "Iliad_soup = BeautifulSoup(Iliad_page.content, \"html.parser\")\n",
    "\n",
    "Iliad_soup.get_text()[4000:5000]"
   ]
  },
  {
   "cell_type": "code",
   "execution_count": null,
   "id": "6f45177b",
   "metadata": {},
   "outputs": [],
   "source": []
  },
  {
   "cell_type": "code",
   "execution_count": null,
   "id": "73756d74",
   "metadata": {},
   "outputs": [],
   "source": [
    "#setting up the fall of troy\n",
    "Troy_URL = \"https://www.theoi.com/Text/QuintusSmyrnaeus1.html\"\n",
    "Troy_page = requests.get(Troy_URL)\n",
    "Troy_soup = BeautifulSoup(Troy_page.content, \"html.parser\")"
   ]
  },
  {
   "cell_type": "code",
   "execution_count": null,
   "id": "e4d8c4f9",
   "metadata": {},
   "outputs": [],
   "source": [
    "#example of Troy\n",
    "Troy_soup.get_text()[4000:5000]"
   ]
  },
  {
   "cell_type": "code",
   "execution_count": null,
   "id": "3c3f6c2d",
   "metadata": {},
   "outputs": [],
   "source": [
    "#getting Ovid metamorphosis set up\n",
    "OvidM_URL = \"https://www.theoi.com/Text/OvidMetamorphoses1.html\"\n",
    "OvidM_page = requests.get(OvidM_URL)\n",
    "OvidM_soup = BeautifulSoup(OvidM_page.content, \"html.parser\")"
   ]
  },
  {
   "cell_type": "code",
   "execution_count": null,
   "id": "0a64f6c8",
   "metadata": {},
   "outputs": [],
   "source": [
    "#example of Ovid-Metamorphosis\n",
    "OvidM_soup.get_text()[4000:5000]"
   ]
  },
  {
   "cell_type": "code",
   "execution_count": null,
   "id": "4b6d0822",
   "metadata": {},
   "outputs": [],
   "source": [
    "OvidM_soup.find_all('a')"
   ]
  },
  {
   "cell_type": "code",
   "execution_count": null,
   "id": "7ee2dc4b",
   "metadata": {},
   "outputs": [],
   "source": [
    "empty = []\n",
    "for link in OvidM_soup.find_all('a'):\n",
    " #   empty = empty.append(link.get('href'))\n",
    "#print(empty)\n",
    " #   if \"OvidMetamorphoses\" in link.get('href'):\n",
    "    \n",
    "    print(link.get('href'))"
   ]
  },
  {
   "cell_type": "code",
   "execution_count": null,
   "id": "b8deddad",
   "metadata": {},
   "outputs": [],
   "source": [
    "OvidM_soup.get('href')"
   ]
  },
  {
   "cell_type": "code",
   "execution_count": null,
   "id": "626a26bc",
   "metadata": {},
   "outputs": [],
   "source": [
    "list = []\n",
    "for link in OvidM_soup.find_all('a'):\n",
    "    if link.get('href') == None:\n",
    "        continue\n",
    "    elif \"OvidMetamorphoses\" in link.get('href') and not '#' in link.get('href'):\n",
    "        list.append(\"https://www.theoi.com/Text/\" + link.get('href'))\n",
    "print(list)"
   ]
  },
  {
   "cell_type": "code",
   "execution_count": null,
   "id": "d6b5dbd2",
   "metadata": {},
   "outputs": [],
   "source": [
    "list"
   ]
  },
  {
   "cell_type": "code",
   "execution_count": null,
   "id": "8a7ddea6",
   "metadata": {},
   "outputs": [],
   "source": [
    "#creating a list where all the book links of the homer odysee & iliad & troy are in\n",
    "\n",
    "Websites = []\n",
    "\n",
    "#Odysee\n",
    "for link in Odysee_soup.find_all('a'):\n",
    "    if \"HomerOdyssey\" in link.get('href'):\n",
    "        Websites.append(\"https://www.theoi.com/Text/\" + link.get('href'))\n",
    "        \n",
    "#Iliad\n",
    "for link in Iliad_soup.find_all('a'):\n",
    "    if \"HomerIliad\" in link.get('href'):\n",
    "        Websites.append(\"https://www.theoi.com/Text/\" + link.get('href'))\n",
    "        \n",
    "#Troy\n",
    "for link in Troy_soup.find_all('a'):\n",
    "    if \"QuintusSmyrnaeus\" in link.get('href'):\n",
    "        Websites.append(\"https://www.theoi.com/Text/\" + link.get('href'))\n",
    "        \n",
    "#Ovid-Metamorphosis\n",
    "for link in OvidM_soup.find_all('a'):\n",
    "    if link.get('href') == None:\n",
    "        continue\n",
    "    elif \"OvidMetamorphoses\" in link.get('href') and not '#' in link.get('href'):\n",
    "        Websites.append(\"https://www.theoi.com/Text/\" + link.get('href'))    \n",
    "\n",
    "for web in Websites:\n",
    "    print(web)\n"
   ]
  },
  {
   "cell_type": "code",
   "execution_count": null,
   "id": "3d55f6ef",
   "metadata": {},
   "outputs": [],
   "source": [
    "#function which takes a list of html-urls and prints the texts in there\n",
    "\n",
    "full_text = []\n",
    "def text(list):\n",
    "    for link in list:\n",
    "        p = requests.get(link)\n",
    "        s = BeautifulSoup(p.content, \"html.parser\")\n",
    "        full_text.append(s.get_text())\n",
    "        print(s.title) #check which books have been printed\n",
    "    #return full_text"
   ]
  },
  {
   "cell_type": "code",
   "execution_count": null,
   "id": "85badb5c",
   "metadata": {},
   "outputs": [],
   "source": [
    "print(text(Websites))"
   ]
  },
  {
   "cell_type": "code",
   "execution_count": null,
   "id": "047e9680",
   "metadata": {},
   "outputs": [],
   "source": [
    "#save full_text to txt file to import to preprocessing \n",
    "\n",
    "textfile = open(\"text_file.txt\", \"w\")\n",
    "for element in full_text:\n",
    "    textfile.write(element + \"\\n\")\n",
    "textfile.close()"
   ]
  },
  {
   "cell_type": "code",
   "execution_count": null,
   "id": "902e6497",
   "metadata": {},
   "outputs": [],
   "source": []
  },
  {
   "cell_type": "markdown",
   "id": "702a9b25",
   "metadata": {},
   "source": [
    "## Preprocessing"
   ]
  },
  {
   "cell_type": "markdown",
   "id": "0dabf36d",
   "metadata": {},
   "source": [
    "First, let's check what the encoding is of the text file, so that we can properly import the texts"
   ]
  },
  {
   "cell_type": "code",
   "execution_count": 3,
   "id": "1676341a",
   "metadata": {},
   "outputs": [
    {
     "name": "stdout",
     "output_type": "stream",
     "text": [
      "<_io.TextIOWrapper name='text_file 6.txt' mode='r' encoding='UTF-8'>\n"
     ]
    }
   ],
   "source": [
    "with open('text_file 6.txt') as f:\n",
    "    print(f)"
   ]
  },
  {
   "cell_type": "markdown",
   "id": "f066eb31",
   "metadata": {},
   "source": [
    "As can be seen above, this file doesn't use the standard utf-8 encoding, but cp1252 encoding. So, we will use this encoder when reading it in:"
   ]
  },
  {
   "cell_type": "code",
   "execution_count": 4,
   "id": "5d1bf626",
   "metadata": {},
   "outputs": [
    {
     "name": "stdout",
     "output_type": "stream",
     "text": [
      "[313] “So do not thou, my friend, wander long far from home, leaving thy wealth behind thee and men in thy house so insolent, lest they divide and devour all thy wealth, and thou shalt have gone on a fruitless journey. But to Menelaus I bid and command thee to go, for he has but lately come from a strange land, from a folk whence no one would hope in his heart to return, whom the storms had once driven astray into a sea so great, whence the very birds do not fare in the space of a year, so great is it and terrible. But now go thy way with thy ship and thy comrades, or, if thou wilt go by land, here are chariot and horses at hand for thee, and here at thy service are my sons, who will be thy guides to goodly Lacedaemon, where lives fair-haired Menelaus. And do thou beseech him thyself that he may tell thee the very truth. A lie will be not utter, for he is wise indeed.”\n",
      "\n"
     ]
    }
   ],
   "source": [
    "with open(\"text_file 6.txt\",\"r\",encoding= 'UTF-8') as f:\n",
    "    data = f.readlines()\n",
    "    \n",
    "print(data[700])"
   ]
  },
  {
   "cell_type": "markdown",
   "id": "777c05e5",
   "metadata": {},
   "source": [
    "We split the data into sentences"
   ]
  },
  {
   "cell_type": "code",
   "execution_count": 5,
   "id": "0ded8a06",
   "metadata": {},
   "outputs": [
    {
     "name": "stdout",
     "output_type": "stream",
     "text": [
      "['Howbeit Poseidon had gone among the far-off Ethiopians—the Ethiopians who dwell sundered in twain, the farthermost of men, some where Hyperion sets and some where he rises, there to receive a hecatomb of bulls and rams, and there he was taking his joy, sitting at the feast; but the other gods were gathered together in the halls of Olympian Zeus.', \"[28] Among them the father of gods and men was first to speak, for in his heart he thought of noble Aegisthus, whom far-famed Orestes, Agamemnon's son, had slain.\", 'Thinking on him he spoke among the immortals, and said: “Look you now, how ready mortals are to blame the gods.', 'It is from us, they say, that evils come, but they even of themselves, through their own blind folly, have sorrows beyond that which is ordained.', 'Even as now Aegisthus, beyond that which was ordained, took to himself the wedded wife of the son of Atreus, and slew him on his return, though well he knew of sheer destruction, seeing that we spake to him before, sending Hermes, the keen-sighted Argeiphontes, that he should neither slay the man nor woo his wife; for from Orestes shall come vengeance for the son of Atreus when once he has come to manhood and longs for his own land.']\n"
     ]
    }
   ],
   "source": [
    "sentences = []\n",
    "for par in data:\n",
    "    if par == '\\n':\n",
    "        continue\n",
    "    senttemp = sent_tokenize(par)\n",
    "    sentences = sentences +senttemp\n",
    "\n",
    "print(sentences[100:105])"
   ]
  },
  {
   "cell_type": "markdown",
   "id": "7817802b",
   "metadata": {},
   "source": [
    "Now, we tokenize the sentences. If the sentence consists of two words or less, we remove it since it won't contain much useful information. Also, this way we might be able to filter out as many chapter titles as possible."
   ]
  },
  {
   "cell_type": "code",
   "execution_count": 6,
   "id": "6394b7f7",
   "metadata": {},
   "outputs": [
    {
     "name": "stdout",
     "output_type": "stream",
     "text": [
      "['If', 'thou', 'couldst', 'in', 'any', 'wise', 'lie', 'in', 'wait', 'and', 'catch', 'him', ',', 'he', 'will', 'tell', 'thee', 'thy', 'way', 'and', 'the', 'measure', 'of', 'thy', 'path', ',', 'and', 'of', 'thy', 'return', ',', 'how', 'thou', 'mayest', 'go', 'over', 'the', 'teeming', 'deep', '.']\n"
     ]
    }
   ],
   "source": [
    "words = []\n",
    "for sent in sentences:\n",
    "    wordstemp = word_tokenize(sent)\n",
    "    if len(wordstemp) <= 2:\n",
    "        continue\n",
    "    words.append(wordstemp)\n",
    "    \n",
    "print(words[1000])"
   ]
  },
  {
   "cell_type": "markdown",
   "id": "72df7e92",
   "metadata": {},
   "source": [
    "Now, we PoS tag the data, so that lemmatization is easier, and names of characters can be identified more easily"
   ]
  },
  {
   "cell_type": "code",
   "execution_count": 7,
   "id": "4e774e13",
   "metadata": {},
   "outputs": [
    {
     "name": "stdout",
     "output_type": "stream",
     "text": [
      "[[('[', 'RB'), ('138', 'CD'), (']', 'JJ'), ('So', 'IN'), ('he', 'PRP'), ('spoke', 'VBD'), ('and', 'CC'), ('I', 'PRP'), ('made', 'VBD'), ('answer', 'NN'), ('and', 'CC'), ('said', 'VBD'), ('`', '``'), ('Teiresias', 'NN'), ('of', 'IN'), ('all', 'PDT'), ('this', 'DT'), ('I', 'PRP'), ('ween', 'VBP'), ('the', 'DT'), ('gods', 'NNS'), ('themselves', 'PRP'), ('have', 'VBP'), ('spun', 'VBN'), ('the', 'DT'), ('thread', 'NN')], [('But', 'CC'), ('come', 'VB'), ('tell', 'VB'), ('me', 'PRP'), ('this', 'DT'), ('and', 'CC'), ('declare', 'VB'), ('it', 'PRP'), ('truly', 'RB')], [('I', 'PRP'), ('see', 'VBP'), ('here', 'RB'), ('the', 'DT'), ('spirit', 'NN'), ('of', 'IN'), ('my', 'PRP$'), ('dead', 'JJ'), ('mother', 'NN'), ('she', 'PRP'), ('sits', 'VBZ'), ('in', 'IN'), ('silence', 'NN'), ('near', 'IN'), ('the', 'DT'), ('blood', 'NN'), ('and', 'CC'), ('deigns', 'VBZ'), ('not', 'RB'), ('to', 'TO'), ('look', 'VB'), ('upon', 'IN'), ('the', 'DT'), ('face', 'NN'), ('of', 'IN'), ('her', 'PRP$'), ('own', 'JJ'), ('son', 'NN'), ('or', 'CC'), ('to', 'TO'), ('speak', 'VB'), ('to', 'TO'), ('him', 'PRP')], [('Tell', 'VB'), ('me', 'PRP'), ('prince', 'NN'), ('how', 'WRB'), ('she', 'PRP'), ('may', 'MD'), ('recognize', 'VB'), ('that', 'IN'), ('I', 'PRP'), ('am', 'VBP'), ('he', 'PRP'), ('’', 'VB')], [('[', 'RB'), ('145', 'CD'), (']', 'JJ'), ('So', 'NNP'), ('I', 'PRP'), ('spoke', 'VBD'), ('and', 'CC'), ('he', 'PRP'), ('straightway', 'RB'), ('made', 'VBD'), ('answer', 'NN'), ('and', 'CC'), ('said', 'VBD'), ('`', '``'), ('Easy', 'NN'), ('is', 'VBZ'), ('the', 'DT'), ('word', 'NN'), ('that', 'IN'), ('I', 'PRP'), ('shall', 'MD'), ('say', 'VB'), ('and', 'CC'), ('put', 'VB'), ('in', 'IN'), ('thy', 'JJ'), ('mind', 'NN')], [('Whomsoever', 'NNP'), ('of', 'IN'), ('those', 'DT'), ('that', 'WDT'), ('are', 'VBP'), ('dead', 'JJ'), ('and', 'CC'), ('gone', 'VBN'), ('thou', 'JJ'), ('shalt', 'NN'), ('suffer', 'NN'), ('to', 'TO'), ('draw', 'VB'), ('near', 'IN'), ('the', 'DT'), ('blood', 'NN'), ('he', 'PRP'), ('will', 'MD'), ('tell', 'VB'), ('thee', 'VB'), ('sooth', 'NN'), ('but', 'CC'), ('whomsoever', 'WRB'), ('thou', 'JJ'), ('refusest', 'NN'), ('he', 'PRP'), ('surely', 'RB'), ('will', 'MD'), ('go', 'VB'), ('back', 'RB'), ('again', 'RB'), ('’', 'VB')], [('[', 'RB'), ('150', 'CD'), (']', 'JJ'), ('So', 'NNP'), ('saying', 'VBG'), ('the', 'DT'), ('spirit', 'NN'), ('of', 'IN'), ('the', 'DT'), ('prince', 'NN'), ('Teiresias', 'NNP'), ('went', 'VBD'), ('back', 'RB'), ('into', 'IN'), ('the', 'DT'), ('house', 'NN'), ('of', 'IN'), ('Hades', 'NNP'), ('when', 'WRB'), ('he', 'PRP'), ('had', 'VBD'), ('declared', 'VBN'), ('his', 'PRP$'), ('prophecies', 'NNS'), ('but', 'CC'), ('I', 'PRP'), ('remained', 'VBD'), ('there', 'EX'), ('steadfastly', 'RB'), ('until', 'IN'), ('my', 'PRP$'), ('mother', 'NN'), ('came', 'VBD'), ('up', 'RB'), ('and', 'CC'), ('drank', 'VB'), ('the', 'DT'), ('dark', 'JJ'), ('blood', 'NN')], [('At', 'IN'), ('once', 'RB'), ('then', 'RB'), ('she', 'PRP'), ('knew', 'VBD'), ('me', 'PRP'), ('and', 'CC'), ('with', 'IN'), ('wailing', 'VBG'), ('she', 'PRP'), ('spoke', 'VBD'), ('to', 'TO'), ('me', 'PRP'), ('winged', 'JJ'), ('words', 'NNS'), ('`', '``'), ('My', 'PRP$'), ('child', 'NN'), ('how', 'WRB'), ('didst', 'JJ'), ('thou', 'NN'), ('come', 'VBN'), ('beneath', 'IN'), ('the', 'DT'), ('murky', 'NN'), ('darkness', 'NN'), ('being', 'VBG'), ('still', 'RB'), ('alive', 'VB')], [('Hard', 'NNP'), ('is', 'VBZ'), ('it', 'PRP'), ('for', 'IN'), ('those', 'DT'), ('that', 'WDT'), ('live', 'VBP'), ('to', 'TO'), ('behold', 'VB'), ('these', 'DT'), ('realms', 'NNS'), ('for', 'IN'), ('between', 'IN'), ('are', 'VBP'), ('great', 'JJ'), ('rivers', 'NNS'), ('and', 'CC'), ('dread', 'JJ'), ('streams', 'NNS'), ('Oceanus', 'NNP'), ('first', 'RB'), ('which', 'WDT'), ('one', 'CD'), ('may', 'MD'), ('in', 'IN'), ('no', 'DT'), ('wise', 'NN'), ('cross', 'NN'), ('on', 'IN'), ('foot', 'NN'), ('but', 'CC'), ('only', 'RB'), ('if', 'IN'), ('one', 'CD'), ('have', 'VBP'), ('a', 'DT'), ('well-built', 'JJ'), ('ship', 'NN')], [('Art', 'NN'), ('thou', 'NNS'), ('but', 'CC'), ('now', 'RB'), ('come', 'VBP'), ('hither', 'NN'), ('from', 'IN'), ('Troy', 'NNP'), ('after', 'IN'), ('long', 'JJ'), ('wanderings', 'NNS'), ('with', 'IN'), ('thy', 'JJ'), ('ship', 'NN'), ('and', 'CC'), ('thy', 'JJ'), ('companions', 'NNS')]]\n"
     ]
    }
   ],
   "source": [
    "tagged = []\n",
    "for sent in words:\n",
    "    senttagged = nltk.pos_tag(sent)\n",
    "    tagged.append(senttagged)\n",
    "\n",
    "tagged_filtered = []\n",
    "for sent in tagged:\n",
    "    sentls = []\n",
    "    for wordtag in sent:\n",
    "        if wordtag[1] in ['.', ',', ':', '--', '$', '(', ')'] or wordtag[0] in ['“', '”', '<', '>']:\n",
    "            continue\n",
    "        else: sentls.append(wordtag)\n",
    "    tagged_filtered.append(sentls)\n",
    "        \n",
    "print(tagged_filtered[3000:3010])"
   ]
  },
  {
   "cell_type": "markdown",
   "id": "55514abb",
   "metadata": {},
   "source": [
    "Next, we lemmatize the dataset"
   ]
  },
  {
   "cell_type": "code",
   "execution_count": 8,
   "id": "860551d5",
   "metadata": {},
   "outputs": [
    {
     "name": "stdout",
     "output_type": "stream",
     "text": [
      "[[['[', 'RB'], ['138', 'CD'], [']', 'JJ'], ['So', 'IN'], ['he', 'PRP'], ['speak', 'VBD'], ['and', 'CC'], ['I', 'PRP'], ['make', 'VBD'], ['answer', 'NN'], ['and', 'CC'], ['say', 'VBD'], ['`', '``'], ['Teiresias', 'NN'], ['of', 'IN'], ['all', 'PDT'], ['this', 'DT'], ['I', 'PRP'], ['ween', 'VBP'], ['the', 'DT'], ['god', 'NNS'], ['themselves', 'PRP'], ['have', 'VBP'], ['spin', 'VBN'], ['the', 'DT'], ['thread', 'NN']], [['But', 'CC'], ['come', 'VB'], ['tell', 'VB'], ['me', 'PRP'], ['this', 'DT'], ['and', 'CC'], ['declare', 'VB'], ['it', 'PRP'], ['truly', 'RB']], [['I', 'PRP'], ['see', 'VBP'], ['here', 'RB'], ['the', 'DT'], ['spirit', 'NN'], ['of', 'IN'], ['my', 'PRP$'], ['dead', 'JJ'], ['mother', 'NN'], ['she', 'PRP'], ['sit', 'VBZ'], ['in', 'IN'], ['silence', 'NN'], ['near', 'IN'], ['the', 'DT'], ['blood', 'NN'], ['and', 'CC'], ['deign', 'VBZ'], ['not', 'RB'], ['to', 'TO'], ['look', 'VB'], ['upon', 'IN'], ['the', 'DT'], ['face', 'NN'], ['of', 'IN'], ['her', 'PRP$'], ['own', 'JJ'], ['son', 'NN'], ['or', 'CC'], ['to', 'TO'], ['speak', 'VB'], ['to', 'TO'], ['him', 'PRP']], [['Tell', 'VB'], ['me', 'PRP'], ['prince', 'NN'], ['how', 'WRB'], ['she', 'PRP'], ['may', 'MD'], ['recognize', 'VB'], ['that', 'IN'], ['I', 'PRP'], ['be', 'VBP'], ['he', 'PRP'], ['’', 'VB']], [['[', 'RB'], ['145', 'CD'], [']', 'JJ'], ['So', 'NNP'], ['I', 'PRP'], ['speak', 'VBD'], ['and', 'CC'], ['he', 'PRP'], ['straightway', 'RB'], ['make', 'VBD'], ['answer', 'NN'], ['and', 'CC'], ['say', 'VBD'], ['`', '``'], ['Easy', 'NN'], ['be', 'VBZ'], ['the', 'DT'], ['word', 'NN'], ['that', 'IN'], ['I', 'PRP'], ['shall', 'MD'], ['say', 'VB'], ['and', 'CC'], ['put', 'VB'], ['in', 'IN'], ['thy', 'JJ'], ['mind', 'NN']], [['Whomsoever', 'NNP'], ['of', 'IN'], ['those', 'DT'], ['that', 'WDT'], ['be', 'VBP'], ['dead', 'JJ'], ['and', 'CC'], ['go', 'VBN'], ['thou', 'JJ'], ['shalt', 'NN'], ['suffer', 'NN'], ['to', 'TO'], ['draw', 'VB'], ['near', 'IN'], ['the', 'DT'], ['blood', 'NN'], ['he', 'PRP'], ['will', 'MD'], ['tell', 'VB'], ['thee', 'VB'], ['sooth', 'NN'], ['but', 'CC'], ['whomsoever', 'WRB'], ['thou', 'JJ'], ['refusest', 'NN'], ['he', 'PRP'], ['surely', 'RB'], ['will', 'MD'], ['go', 'VB'], ['back', 'RB'], ['again', 'RB'], ['’', 'VB']], [['[', 'RB'], ['150', 'CD'], [']', 'JJ'], ['So', 'NNP'], ['say', 'VBG'], ['the', 'DT'], ['spirit', 'NN'], ['of', 'IN'], ['the', 'DT'], ['prince', 'NN'], ['Teiresias', 'NNP'], ['go', 'VBD'], ['back', 'RB'], ['into', 'IN'], ['the', 'DT'], ['house', 'NN'], ['of', 'IN'], ['Hades', 'NNP'], ['when', 'WRB'], ['he', 'PRP'], ['have', 'VBD'], ['declare', 'VBN'], ['his', 'PRP$'], ['prophecy', 'NNS'], ['but', 'CC'], ['I', 'PRP'], ['remain', 'VBD'], ['there', 'EX'], ['steadfastly', 'RB'], ['until', 'IN'], ['my', 'PRP$'], ['mother', 'NN'], ['come', 'VBD'], ['up', 'RB'], ['and', 'CC'], ['drink', 'VB'], ['the', 'DT'], ['dark', 'JJ'], ['blood', 'NN']], [['At', 'IN'], ['once', 'RB'], ['then', 'RB'], ['she', 'PRP'], ['know', 'VBD'], ['me', 'PRP'], ['and', 'CC'], ['with', 'IN'], ['wail', 'VBG'], ['she', 'PRP'], ['speak', 'VBD'], ['to', 'TO'], ['me', 'PRP'], ['winged', 'JJ'], ['word', 'NNS'], ['`', '``'], ['My', 'PRP$'], ['child', 'NN'], ['how', 'WRB'], ['didst', 'JJ'], ['thou', 'NN'], ['come', 'VBN'], ['beneath', 'IN'], ['the', 'DT'], ['murky', 'NN'], ['darkness', 'NN'], ['be', 'VBG'], ['still', 'RB'], ['alive', 'VB']], [['Hard', 'NNP'], ['be', 'VBZ'], ['it', 'PRP'], ['for', 'IN'], ['those', 'DT'], ['that', 'WDT'], ['live', 'VBP'], ['to', 'TO'], ['behold', 'VB'], ['these', 'DT'], ['realm', 'NNS'], ['for', 'IN'], ['between', 'IN'], ['be', 'VBP'], ['great', 'JJ'], ['river', 'NNS'], ['and', 'CC'], ['dread', 'JJ'], ['stream', 'NNS'], ['Oceanus', 'NNP'], ['first', 'RB'], ['which', 'WDT'], ['one', 'CD'], ['may', 'MD'], ['in', 'IN'], ['no', 'DT'], ['wise', 'NN'], ['cross', 'NN'], ['on', 'IN'], ['foot', 'NN'], ['but', 'CC'], ['only', 'RB'], ['if', 'IN'], ['one', 'CD'], ['have', 'VBP'], ['a', 'DT'], ['well-built', 'JJ'], ['ship', 'NN']], [['Art', 'NN'], ['thou', 'NNS'], ['but', 'CC'], ['now', 'RB'], ['come', 'VBP'], ['hither', 'NN'], ['from', 'IN'], ['Troy', 'NNP'], ['after', 'IN'], ['long', 'JJ'], ['wandering', 'NNS'], ['with', 'IN'], ['thy', 'JJ'], ['ship', 'NN'], ['and', 'CC'], ['thy', 'JJ'], ['companion', 'NNS']]]\n"
     ]
    }
   ],
   "source": [
    "# Reference for lemmatizing: https://stackoverflow.com/questions/15586721/wordnet-lemmatization-and-pos-tagging-in-python\n",
    "\n",
    "lemmatizer = WordNetLemmatizer()\n",
    "\n",
    "lemmatized = []\n",
    "for sent in tagged_filtered:\n",
    "    \n",
    "    sentls = []\n",
    "    for wordtag in sent:\n",
    "        tag = ''\n",
    "        if wordtag[1][0:2] ==  'NN':\n",
    "            tag =  'n'\n",
    "        elif wordtag[1][0:2] ==  'VB':\n",
    "            tag =  'v'\n",
    "        elif wordtag[1][0:2] ==  'JJ':\n",
    "            tag =  'a'\n",
    "        elif wordtag[1][0:2] ==  'RB':\n",
    "            tag =  'r'\n",
    "        \n",
    "        # use postag if it exists in the wordnetlemmatizer\n",
    "        if tag == '': lemma = lemmatizer.lemmatize(wordtag[0])\n",
    "        else: lemma = lemmatizer.lemmatize(wordtag[0], pos=tag)\n",
    "        \n",
    "        sentls.append([lemma, wordtag[1]])\n",
    "    lemmatized.append(sentls)\n",
    "    \n",
    "print(lemmatized[3000:3010])"
   ]
  },
  {
   "cell_type": "markdown",
   "id": "dc24bcd4",
   "metadata": {},
   "source": [
    "Next, we go through the data and print all the proper nouns that aren't in the dictionaries. If they are not and they refer to names of characters that are either Olympian gods or mortals, we add them to the dictionaries in the file characterdicts.ipynb. We do this only for names that occur at least 10 times in the book, since adding all names is not realistic. The below code prints the proper nouns (or words that were classified as such) that we didn't add to the dictionary. As can be seen, all of these are either not names, names of people who aren't part of mythology, or children of gods (in which case we left them out, since they are somewhere between god and mortal)."
   ]
  },
  {
   "cell_type": "code",
   "execution_count": 9,
   "id": "791b6f80",
   "metadata": {},
   "outputs": [
    {
     "name": "stdout",
     "output_type": "stream",
     "text": [
      "A: 190\n",
      "A-Z: 81\n",
      "A.: 67\n",
      "AND: 55\n",
      "Aaron: 81\n",
      "Achaea: 41\n",
      "Achaean: 56\n",
      "Achaeans: 26\n",
      "Achelous: 38\n",
      "Achilleid: 81\n",
      "Actor: 12\n",
      "Aeacus: 100\n",
      "Aegeus: 28\n",
      "Aeneid: 81\n",
      "Aeolus: 18\n",
      "Aesacus: 20\n",
      "Aeschylus: 567\n",
      "Aeson: 23\n",
      "Against: 83\n",
      "Age: 11\n",
      "Aglauros: 25\n",
      "Ah: 100\n",
      "Aiantes: 18\n",
      "Alas: 28\n",
      "Alcman: 81\n",
      "Alexander: 49\n",
      "Alexandra: 81\n",
      "Alpheus: 22\n",
      "Althaea: 21\n",
      "Amazons: 13\n",
      "Anaxarete: 18\n",
      "Antenor: 32\n",
      "Antimachus: 10\n",
      "Antinous: 57\n",
      "Apollodorus: 81\n",
      "Apollonius: 81\n",
      "Aratus: 81\n",
      "Arethusa: 24\n",
      "Argive: 76\n",
      "Argives: 121\n",
      "Argonautica: 162\n",
      "Argos: 60\n",
      "Argus: 19\n",
      "Armour: 25\n",
      "Asius: 20\n",
      "Astronomica: 81\n",
      "Athamas: 22\n",
      "Athens: 17\n",
      "Atlas: 32\n",
      "Atsma: 81\n",
      "Attis: 17\n",
      "Aulis: 22\n",
      "Aurora: 23\n",
      "Ay: 17\n",
      "Aye: 65\n",
      "BOOK: 146\n",
      "BROOKES: 16\n",
      "BY: 81\n",
      "Barring: 25\n",
      "Battle: 51\n",
      "Battus: 18\n",
      "Baucis: 22\n",
      "Be: 20\n",
      "Bearers: 81\n",
      "Beggar: 50\n",
      "Beguiling: 25\n",
      "Behold: 12\n",
      "Bion: 81\n",
      "Boar: 17\n",
      "Body: 25\n",
      "Book: 81\n",
      "Boreas: 31\n",
      "Bound: 81\n",
      "Byblis: 24\n",
      "CLASSICAL: 81\n",
      "CONTENTS: 65\n",
      "Cadmus: 57\n",
      "Caeneus: 31\n",
      "Callimachus: 81\n",
      "Callistratus: 81\n",
      "Calydon: 12\n",
      "Calypso: 50\n",
      "Caunus: 17\n",
      "Cephalus: 26\n",
      "Ceyx: 35\n",
      "Charybdis: 13\n",
      "Child: 14\n",
      "Chiliades: 81\n",
      "Chione: 19\n",
      "Chryse: 11\n",
      "Chryses: 10\n",
      "Cinyras: 25\n",
      "Cipus: 16\n",
      "Circe: 134\n",
      "Classical: 87\n",
      "Clytie: 19\n",
      "Colluthus: 81\n",
      "Come: 74\n",
      "Contest: 65\n",
      "Copyright: 81\n",
      "Crete: 38\n",
      "Cronos: 161\n",
      "Croton: 18\n",
      "Cumaean: 18\n",
      "Cybele: 19\n",
      "Cycle: 83\n",
      "Cyclopes: 12\n",
      "Cyclops: 61\n",
      "Cygnus: 30\n",
      "Cyprus: 10\n",
      "Daedalion: 16\n",
      "Daedalus: 24\n",
      "Danaan: 41\n",
      "Daphne: 24\n",
      "Dardanus: 22\n",
      "Dawn: 80\n",
      "Days: 81\n",
      "Dead: 106\n",
      "Dear: 16\n",
      "Death: 28\n",
      "Description: 81\n",
      "Descriptions: 81\n",
      "Dialogues: 162\n",
      "Did: 13\n",
      "Diodorus: 81\n",
      "Dionysiaca: 81\n",
      "Dolon: 12\n",
      "Doom: 18\n",
      "Dost: 12\n",
      "Duel: 50\n",
      "Dulichium: 13\n",
      "Earth: 65\n",
      "Earth-shaker: 14\n",
      "Echo: 24\n",
      "Eclogues: 81\n",
      "Egeria: 17\n",
      "Egypt: 18\n",
      "Elder: 81\n",
      "Elis: 18\n",
      "Epic: 83\n",
      "Erebus: 12\n",
      "Eumenides: 81\n",
      "Euryalus: 15\n",
      "Eurydice: 22\n",
      "Eurytus: 14\n",
      "Exhortation: 81\n",
      "FALL: 45\n",
      "Fabulae: 81\n",
      "Fall: 81\n",
      "Fasti: 83\n",
      "Fate: 60\n",
      "Fates: 28\n",
      "Father: 73\n",
      "Feast: 25\n",
      "Fire-god: 12\n",
      "First: 13\n",
      "Flaccus: 81\n",
      "Flower: 81\n",
      "Forthwith: 17\n",
      "Friend: 12\n",
      "Fulgentius: 81\n",
      "Full: 20\n",
      "Furens: 81\n",
      "Galatea: 26\n",
      "Games: 65\n",
      "Georgics: 81\n",
      "Gerenia: 36\n",
      "Gigantomachia: 81\n",
      "Glaucus: 35\n",
      "Go: 27\n",
      "God: 139\n",
      "Goddess: 19\n",
      "Gods: 233\n",
      "Golden: 12\n",
      "Greece: 88\n",
      "Greek: 11\n",
      "Greeks: 157\n",
      "HOMER: 104\n",
      "Ha: 12\n",
      "Hail: 13\n",
      "Halcyone: 31\n",
      "Hard: 16\n",
      "Hearken: 22\n",
      "Heaven: 70\n",
      "Hecuba: 27\n",
      "Helen: 174\n",
      "Hellas: 21\n",
      "Hellespont: 33\n",
      "Heroides: 83\n",
      "Hesiod: 324\n",
      "Hesperia: 17\n",
      "Him: 78\n",
      "Hippasus: 15\n",
      "Hippolochus: 13\n",
      "Hippolytus: 19\n",
      "Hippomenes: 18\n",
      "History: 81\n",
      "Homer: 214\n",
      "Horse: 38\n",
      "Howbeit: 130\n",
      "Hunt: 16\n",
      "Hyginus: 162\n",
      "Hymns: 81\n",
      "Hyperion: 15\n",
      "ILIAD: 100\n",
      "Icarus: 23\n",
      "Ida: 89\n",
      "Idaeus: 14\n",
      "Idylls: 81\n",
      "Iliad: 118\n",
      "Ilios: 197\n",
      "Ilium: 23\n",
      "Imagines: 162\n",
      "Immortal: 13\n",
      "Immortals: 14\n",
      "Inachus: 10\n",
      "Ino: 28\n",
      "Iphis: 44\n",
      "Italy: 19\n",
      "Ithaca: 136\n",
      "J.: 81\n",
      "King: 48\n",
      "LIBRARY: 81\n",
      "Lacedaemon: 15\n",
      "Lady: 11\n",
      "Laestrygones: 25\n",
      "Land: 10\n",
      "Latin: 10\n",
      "Lemnos: 27\n",
      "Lesbos: 13\n",
      "Leucothea: 23\n",
      "Libation: 81\n",
      "Library: 411\n",
      "Life: 84\n",
      "Lo: 56\n",
      "Loeb: 12\n",
      "Lord: 22\n",
      "Lotus-Eaters: 25\n",
      "Love: 97\n",
      "Lucifer: 11\n",
      "Lycia: 28\n",
      "Lycophron: 82\n",
      "Lyncus: 19\n",
      "Lyric: 81\n",
      "METAMORPHOSES: 49\n",
      "MORE: 16\n",
      "MURRAY: 50\n",
      "May: 13\n",
      "Medea: 166\n",
      "Medon: 20\n",
      "Medusa: 15\n",
      "Menoetius: 43\n",
      "Mentor: 21\n",
      "Mestra: 17\n",
      "Metamorphoses: 99\n",
      "Minos: 44\n",
      "Monsters: 162\n",
      "Moschus: 81\n",
      "Mount: 14\n",
      "My: 31\n",
      "Mycenae: 13\n",
      "Myrmidons: 40\n",
      "Myrrha: 27\n",
      "Myscelus: 18\n",
      "Mythologies: 81\n",
      "Myths: 81\n",
      "Naiad: 11\n",
      "Naiads: 13\n",
      "Nature: 21\n",
      "Nay: 294\n",
      "Nereid: 11\n",
      "Nereids: 11\n",
      "Nereus: 18\n",
      "Nessus: 27\n",
      "New: 82\n",
      "Night: 24\n",
      "Nonnus: 81\n",
      "North: 28\n",
      "Nymph: 43\n",
      "Nymphs: 36\n",
      "O: 305\n",
      "ODYSSEY: 100\n",
      "OF: 66\n",
      "OVID: 34\n",
      "Ocean: 39\n",
      "Oceanus: 32\n",
      "Ocyroe: 16\n",
      "Odyssey: 114\n",
      "Oetaeus: 81\n",
      "Oh: 17\n",
      "Old: 27\n",
      "Olympian: 18\n",
      "Olympus: 165\n",
      "Ones: 10\n",
      "Orithyia: 19\n",
      "Orpheus: 50\n",
      "Ovid: 263\n",
      "Pan: 33\n",
      "Parallel: 81\n",
      "Parnassus: 13\n",
      "Parthenius: 83\n",
      "Pausanias: 81\n",
      "Peisander: 10\n",
      "Peleides: 14\n",
      "Pelias: 22\n",
      "Pelion: 15\n",
      "Pentheus: 27\n",
      "Periclymenus: 19\n",
      "Perimela: 17\n",
      "Persephone: 11\n",
      "Phaenomena: 81\n",
      "Philemon: 19\n",
      "Philomela: 31\n",
      "Philostratus: 162\n",
      "Phineus: 27\n",
      "Phoenissae: 81\n",
      "Phoenix: 21\n",
      "Phorcys: 11\n",
      "Phrygia: 15\n",
      "Phthia: 21\n",
      "Phylace: 10\n",
      "Phyleus: 17\n",
      "Picus: 22\n",
      "Pierides: 17\n",
      "Pirates: 16\n",
      "Plant: 81\n",
      "Plutarch: 81\n",
      "Pluto: 24\n",
      "Poems: 162\n",
      "Polydorus: 12\n",
      "Polymnestor: 18\n",
      "Polyphemus: 43\n",
      "Pomona: 17\n",
      "Procne: 17\n",
      "Procris: 23\n",
      "Project: 162\n",
      "Prometheus: 85\n",
      "Proserpine: 106\n",
      "Psamathe: 18\n",
      "Pylos: 61\n",
      "Pyramus: 21\n",
      "Pyreneus: 16\n",
      "QUINTUS: 32\n",
      "Queen: 26\n",
      "Quintus: 102\n",
      "Ransom: 25\n",
      "Rape: 162\n",
      "Rhodius: 82\n",
      "River: 29\n",
      "Roman: 16\n",
      "Romances: 81\n",
      "Rome: 24\n",
      "S.: 17\n",
      "SMYRNAEUS: 32\n",
      "Sack: 15\n",
      "Samos: 10\n",
      "Sarpedon: 72\n",
      "Saturn: 15\n",
      "Scaean: 14\n",
      "Scamander: 16\n",
      "Scylla: 79\n",
      "Semele: 26\n",
      "Seneca: 729\n",
      "Seven: 85\n",
      "Shaker: 49\n",
      "Shield: 83\n",
      "Ships: 50\n",
      "Sibyl: 17\n",
      "Siculus: 81\n",
      "Simois: 11\n",
      "Sleep: 21\n",
      "Smyrnaeus: 98\n",
      "So: 78\n",
      "Soli: 81\n",
      "Son: 66\n",
      "South: 16\n",
      "Sparta: 20\n",
      "Spirits: 165\n",
      "Statius: 162\n",
      "Stories: 81\n",
      "Straightway: 22\n",
      "Strange: 10\n",
      "Stranger: 26\n",
      "Strife: 21\n",
      "Sun: 35\n",
      "Suppliant: 81\n",
      "T.: 54\n",
      "TEXTS: 81\n",
      "THE: 34\n",
      "TO: 12\n",
      "TRANSFORMED: 12\n",
      "TROY: 45\n",
      "Taking: 81\n",
      "Tartarus: 10\n",
      "Tell: 11\n",
      "Tenedos: 19\n",
      "Tereus: 30\n",
      "Tethys: 11\n",
      "Texts: 243\n",
      "Thebaid: 81\n",
      "Theban: 10\n",
      "Thebe: 18\n",
      "Thebes: 100\n",
      "Theocritus: 81\n",
      "Theogony: 81\n",
      "Theoi: 243\n",
      "Therein: 25\n",
      "Therewith: 15\n",
      "Thisbe: 26\n",
      "Thoas: 25\n",
      "Thou: 114\n",
      "Thrace: 23\n",
      "Thrasymedes: 13\n",
      "Thus: 31\n",
      "Thy: 21\n",
      "Titan: 13\n",
      "Tree: 83\n",
      "Troades: 81\n",
      "Trojan: 130\n",
      "Trojans: 17\n",
      "Troops: 25\n",
      "Troy: 483\n",
      "Tryphiodorus: 81\n",
      "Tzetzes: 81\n",
      "Underworld: 25\n",
      "Valerius: 81\n",
      "Vertumnus: 18\n",
      "Virgil: 243\n",
      "WAY: 15\n",
      "War: 13\n",
      "War-god: 32\n",
      "Warrior: 81\n",
      "West: 27\n",
      "Wherefore: 15\n",
      "Wind: 64\n",
      "Woe: 10\n",
      "Women: 81\n",
      "Works: 81\n",
      "Wounding: 25\n",
      "Xanthus: 32\n",
      "Ye: 14\n",
      "Yea: 18\n",
      "Younger: 81\n",
      "Zealand: 81\n",
      "]: 25\n",
      "ye: 10\n",
      "©: 81\n",
      "—: 10\n",
      "—and: 19\n",
      "’: 25\n"
     ]
    }
   ],
   "source": [
    "# Reference for sorting dictionary: https://www.edureka.co/blog/sort-dictionary-by-value-in-python/\n",
    "\n",
    "non_occuring = {}\n",
    "non_occuring_min10 = {}\n",
    "\n",
    "mortals = mortaldict\n",
    "gods = goddict\n",
    "\n",
    "for sent in lemmatized:\n",
    "    for wordtag in sent:\n",
    "    \n",
    "        # Only look at proper nouns\n",
    "        if wordtag[1] == 'NNP':\n",
    "\n",
    "            # Binary to indicate if the word has been found\n",
    "            filled_in = 0\n",
    "\n",
    "            # Go through mortaldict\n",
    "            for idx, vals in enumerate(mortals.values()):\n",
    "                if wordtag[0] in vals[0]:\n",
    "                    filled_in = 1\n",
    "                    break\n",
    "\n",
    "            # If word hasn't been found in mortaldict, go through goddict\n",
    "            if filled_in == 0:\n",
    "                for idx, vals in enumerate(gods.values()):\n",
    "                    if wordtag[0] in vals[0]:\n",
    "                        filled_in = 1\n",
    "                        break\n",
    "\n",
    "            # Print word if it hasn't been found at all\n",
    "            if filled_in == 0:\n",
    "                if wordtag[0] in non_occuring.keys():\n",
    "                    non_occuring[wordtag[0]] += 1\n",
    "                else: non_occuring[wordtag[0]] = 1\n",
    "\n",
    "for key in non_occuring.keys():\n",
    "    if non_occuring[key] >= 10:\n",
    "        non_occuring_min10[key] = non_occuring[key]\n",
    "\n",
    "for key in sorted(non_occuring_min10.keys()):\n",
    "       print(\"%s: %s\" % (key, non_occuring_min10[key]))"
   ]
  },
  {
   "cell_type": "markdown",
   "id": "4b972c76",
   "metadata": {},
   "source": [
    "## Data exploration"
   ]
  },
  {
   "cell_type": "markdown",
   "id": "92a16f89",
   "metadata": {},
   "source": [
    "First, we go through the texts, and count how many times a certain name is mentioned."
   ]
  },
  {
   "cell_type": "code",
   "execution_count": 10,
   "id": "88495654",
   "metadata": {},
   "outputs": [],
   "source": [
    "i = 0\n",
    "for idx, sent in enumerate(lemmatized):\n",
    "    for idx2, wordtag in enumerate(sent):\n",
    "        word = wordtag[0]\n",
    "        tag = wordtag[1]\n",
    "\n",
    "        if tag == 'NNP':\n",
    "\n",
    "            # Binary to indicate if the word has been found\n",
    "            filled_in = 0\n",
    "\n",
    "            # Go through mortaldict\n",
    "            for idx3, vals in enumerate(mortaldict.values()):\n",
    "                if word in vals[0]:\n",
    "                    filled_in = 1\n",
    "                    mortaldict[str(idx3)][1] += 1\n",
    "                    lemmatized[idx][idx2][1] = 'NNPm'\n",
    "                    i += 1\n",
    "                    break\n",
    "\n",
    "            # If word hasn't been found in mortaldict, go through goddict\n",
    "            if filled_in == 0:\n",
    "                for idx4, vals in enumerate(goddict.values()):\n",
    "                    if word in vals[0]:\n",
    "                        filled_in = 1\n",
    "                        goddict[str(idx4)][1] += 1\n",
    "                        lemmatized[idx][idx2][1] = 'NNPg'\n",
    "                        i += 1\n",
    "                        break"
   ]
  },
  {
   "cell_type": "markdown",
   "id": "8a9bde79",
   "metadata": {},
   "source": [
    "Below we print the amounts of times mortals and gods are mentioned. Note that in reality this number is a bit higher because we are not looking at all mortals and all gods. While mortals are named more often, both gods and mortals are named enough times to be able to do a meaningful analysis."
   ]
  },
  {
   "cell_type": "code",
   "execution_count": 11,
   "id": "b9a511e1",
   "metadata": {},
   "outputs": [
    {
     "name": "stdout",
     "output_type": "stream",
     "text": [
      "Total amount of mortal names:  8808\n",
      "Total amount of god names:  4378\n"
     ]
    }
   ],
   "source": [
    "summortals = 0\n",
    "sumgods = 0\n",
    "\n",
    "for mval in mortaldict.values():\n",
    "    summortals += mval[1]\n",
    "    \n",
    "for gval in goddict.values():\n",
    "    sumgods += gval[1]\n",
    "    \n",
    "print('Total amount of mortal names: ', summortals)\n",
    "print('Total amount of god names: ', sumgods)"
   ]
  },
  {
   "cell_type": "markdown",
   "id": "8e2d5ec7",
   "metadata": {},
   "source": [
    "Next, we plot the 20 most common names for both mortals and gods. "
   ]
  },
  {
   "cell_type": "code",
   "execution_count": 12,
   "id": "d50756e9",
   "metadata": {},
   "outputs": [],
   "source": [
    "# Reference for sorting dict: https://www.geeksforgeeks.org/python-sort-list-according-second-element-sublist/\n",
    "\n",
    "sortm = list(mortaldict.values())\n",
    "sortm.sort(key = lambda x: x[1])\n",
    "sortm.reverse()\n",
    "\n",
    "sortg = list(goddict.values())\n",
    "sortg.sort(key = lambda x: x[1])\n",
    "sortg.reverse()"
   ]
  },
  {
   "cell_type": "code",
   "execution_count": 13,
   "id": "12dc7da9",
   "metadata": {},
   "outputs": [],
   "source": [
    "mnames = [name[0][0] for name in sortm]\n",
    "mcounts = [count[1] for count in sortm]\n",
    "\n",
    "gnames = [name[0][0] for name in sortg]\n",
    "gcounts = [count[1] for count in sortg]"
   ]
  },
  {
   "cell_type": "markdown",
   "id": "119c46b5",
   "metadata": {},
   "source": [
    "As can be seen in the graphs, the most common names make sense considering the original texts. The main characters of for example the Iliad and Odyssee occur most often, and the most important gods are named the most."
   ]
  },
  {
   "cell_type": "code",
   "execution_count": 14,
   "id": "ce4255e9",
   "metadata": {},
   "outputs": [
    {
     "data": {
      "text/plain": [
       "Text(0.5, 1.0, '20 most common mortals and their frequencies')"
      ]
     },
     "execution_count": 14,
     "metadata": {},
     "output_type": "execute_result"
    },
    {
     "data": {
      "image/png": "[encoded data removed]",
      "text/plain": [
       "<Figure size 1152x720 with 1 Axes>"
      ]
     },
     "metadata": {
      "needs_background": "light"
     },
     "output_type": "display_data"
    }
   ],
   "source": [
    "plt.figure(figsize=(16, 10))\n",
    "plt.bar(mnames[0:20], mcounts[0:20])\n",
    "plt.title('20 most common mortals and their frequencies')"
   ]
  },
  {
   "cell_type": "code",
   "execution_count": 15,
   "id": "b5e92a8d",
   "metadata": {},
   "outputs": [
    {
     "data": {
      "text/plain": [
       "Text(0.5, 1.0, '20 most common gods and their frequencies')"
      ]
     },
     "execution_count": 15,
     "metadata": {},
     "output_type": "execute_result"
    },
    {
     "data": {
      "image/png": "[encoded data removed]",
      "text/plain": [
       "<Figure size 1152x720 with 1 Axes>"
      ]
     },
     "metadata": {
      "needs_background": "light"
     },
     "output_type": "display_data"
    }
   ],
   "source": [
    "plt.figure(figsize=(16, 10))\n",
    "plt.bar(gnames[0:20], gcounts[0:20])\n",
    "plt.title('20 most common gods and their frequencies')"
   ]
  },
  {
   "cell_type": "markdown",
   "id": "c43426f9",
   "metadata": {},
   "source": [
    "Next, we take the context of each name."
   ]
  },
  {
   "cell_type": "code",
   "execution_count": 16,
   "id": "a5d41512",
   "metadata": {},
   "outputs": [
    {
     "name": "stdout",
     "output_type": "stream",
     "text": [
      "[['Penelope', 'NNPm'], [['the', 'DT'], ['daughter', 'NN'], ['of', 'IN'], ['Icarius', 'NNPm'], ['wise', 'NN'], ['hear', 'VBD'], ['his', 'PRP$'], ['wondrous', 'JJ'], ['song', 'NN']]]\n"
     ]
    }
   ],
   "source": [
    "name_cons = []\n",
    "for idx, sent in enumerate(lemmatized):\n",
    "    for idx2, wordtag in enumerate(sent):    \n",
    "        word = wordtag[0]\n",
    "        tag = wordtag[1]\n",
    "\n",
    "        if tag == 'NNPm' or tag == 'NNPg':\n",
    "            context = sent[max(0, idx2-5):idx2] + sent[idx2+1: min(len(sent), idx2+5)]\n",
    "            name_cons.append([wordtag, context])\n",
    "\n",
    "print(name_cons[100])"
   ]
  },
  {
   "cell_type": "markdown",
   "id": "a771db7e",
   "metadata": {},
   "source": [
    "We check whether there are enough adjectives and adverbs in the context of the names to be able to perform the analysis. "
   ]
  },
  {
   "cell_type": "code",
   "execution_count": 17,
   "id": "3ab4466c",
   "metadata": {},
   "outputs": [
    {
     "name": "stdout",
     "output_type": "stream",
     "text": [
      "There are  3731  adverbs, and  3816  adjectives around names of mortals.\n",
      "There are  1524  adverbs, and  1872  adjectives around names of gods.\n"
     ]
    }
   ],
   "source": [
    "advcountm = 0\n",
    "adjcountm = 0\n",
    "advcountg = 0\n",
    "adjcountg = 0\n",
    "adjcounter = Counter()\n",
    "\n",
    "for namecon in name_cons:\n",
    "    name = namecon[0]\n",
    "    con = namecon[1]\n",
    "    \n",
    "    if name[1] == 'NNPm':\n",
    "        for wordtag in con:\n",
    "            if wordtag[1][0:2] == 'RB':\n",
    "                advcountm += 1\n",
    "                adjcounter[wordtag[0]] += 1\n",
    "                \n",
    "            elif wordtag[1][0:2] == 'JJ':\n",
    "                adjcountm += 1\n",
    "                adjcounter[wordtag[0]] += 1\n",
    "                \n",
    "    elif name[1] == 'NNPg':\n",
    "        for wordtag in con:\n",
    "            if wordtag[1][0:2] == 'RB':\n",
    "                advcountg += 1\n",
    "                adjcounter[wordtag[0]] += 1\n",
    "                \n",
    "            elif wordtag[1][0:2] == 'JJ':\n",
    "                adjcountg += 1\n",
    "                adjcounter[wordtag[0]] += 1\n",
    "                \n",
    "print('There are ', advcountm, ' adverbs, and ', adjcountm, ' adjectives around names of mortals.')\n",
    "print('There are ', advcountg, ' adverbs, and ', adjcountg, ' adjectives around names of gods.')"
   ]
  },
  {
   "cell_type": "markdown",
   "id": "bfd6a6ef",
   "metadata": {},
   "source": [
    "We consider these as enough adjectives and adverbs to perform the analysis. We will also look at the most common adjectives and adverbs to see whether there are some that are not useful for this analysis."
   ]
  },
  {
   "cell_type": "code",
   "execution_count": 18,
   "id": "2f50a651",
   "metadata": {},
   "outputs": [
    {
     "name": "stdout",
     "output_type": "stream",
     "text": [
      "[('Then', 539), ('[', 439), ('not', 412), ('even', 361), ('goodly', 318), ('now', 223), ('then', 209), ('glorious', 205), ('So', 196), ('great', 192), ('many', 188), ('so', 156), ('first', 154), ('unto', 134), ('other', 116), ('thou', 113), ('good', 110), (']', 107), ('flashing-eyed', 104), ('verily', 101), ('again', 101), ('dear', 98), ('thy', 85), ('old', 83), ('yet', 80), ('ever', 71), ('far', 70), ('thus', 68), ('strong', 65), ('valiant', 65)]\n"
     ]
    }
   ],
   "source": [
    "print(adjcounter.most_common(30))"
   ]
  },
  {
   "cell_type": "markdown",
   "id": "6ba90a2c",
   "metadata": {},
   "source": [
    "## Model"
   ]
  },
  {
   "cell_type": "markdown",
   "id": "963b20b0",
   "metadata": {},
   "source": [
    "First, we will implement the Word2Vec model to see whether words around mortals are different from those around gods. Lemmatized_replace is a list of the PoS tagged data, where each name of a mortal or god is replaced by MORTALNAME or GODNAME. This way, we can clearly see the difference between gods and mortals, without having to go through all names of gods and mortals and seeing what words are most similar to them. "
   ]
  },
  {
   "cell_type": "code",
   "execution_count": 19,
   "id": "78d720b9",
   "metadata": {},
   "outputs": [
    {
     "name": "stdout",
     "output_type": "stream",
     "text": [
      "[['But', 'CC'], ['come', 'VB'], ['tell', 'VB'], ['me', 'PRP'], ['this', 'DT'], ['and', 'CC'], ['declare', 'VB'], ['it', 'PRP'], ['truly', 'RB']]\n"
     ]
    }
   ],
   "source": [
    "lemmatized_replace = []\n",
    "\n",
    "for sent in lemmatized:\n",
    "    sentls = []\n",
    "    for wordtag in sent:\n",
    "        if wordtag[1] == 'NNPm': \n",
    "            sentls.append(['MORTALNAME', 'NNPm'])\n",
    "        elif wordtag[1] == 'NNPg':\n",
    "            sentls.append(['GODNAME', 'NNPg'])\n",
    "        else: sentls.append(wordtag)\n",
    "    lemmatized_replace.append(sentls)\n",
    "\n",
    "print(lemmatized_replace[100])"
   ]
  },
  {
   "cell_type": "markdown",
   "id": "0ca7ff3a",
   "metadata": {},
   "source": [
    "Below, we made two lists that can be used in the model. One contains all names adverbs, and adjectives. The other contains all words. We were debating which one to use in the model, which is why for now we kept both in. Right now, we are using all words as input for the model. This is because if we filter out all words except adverbs and adjectives, the windows around the target words overlap much, resulting in almost identical similarity scores for mortals and gods. We will most likely filter out all the adjectives and adverbs after retrieving the words with the highest similarity scores, so that the filtering has less of an effect on the model."
   ]
  },
  {
   "cell_type": "code",
   "execution_count": 31,
   "id": "e074eb23",
   "metadata": {},
   "outputs": [],
   "source": [
    "advadjfilt = []\n",
    "nofilt = []\n",
    "remove = [\"Then\", \"then\", \"thou\"]\n",
    "\n",
    "for sent in lemmatized_replace:\n",
    "    sentls = []\n",
    "    sentlsfilt = []\n",
    "    for word in sent:\n",
    "        if word[0] in remove:\n",
    "            continue\n",
    "        else:\n",
    "            sentls.append(word[0]) \n",
    "        \n",
    "        if word[1][0:2] in ['RB', 'JJ'] or word[1] in ['NNPg', 'NNPm']:\n",
    "            if word[0] in remove:\n",
    "                continue\n",
    "            else:\n",
    "                sentlsfilt.append(word[0])\n",
    "                \n",
    "    advadjfilt.append(sentlsfilt)\n",
    "    nofilt.append(sentls)"
   ]
  },
  {
   "cell_type": "code",
   "execution_count": null,
   "id": "32040591",
   "metadata": {},
   "outputs": [],
   "source": []
  },
  {
   "cell_type": "markdown",
   "id": "193b5f19",
   "metadata": {},
   "source": [
    "The parameters below were mostly taken from the notebook from week 5. We lowered the min_count, since we also want rare adjectives and adverbs to be taken into account. We also upped the amount of epochs, to prevent underfitting. However, we also did not make this number as large, because overfitting should also be prevented. "
   ]
  },
  {
   "cell_type": "code",
   "execution_count": 32,
   "id": "b512c1f6",
   "metadata": {},
   "outputs": [],
   "source": [
    "params = {\n",
    "    'vector_size': 100, # dimension of embeddings\n",
    "    'window': 4, # window -/+ before and after focus word\n",
    "    'epochs': 10, # number of iterations over the corpus\n",
    "    'min_count': 2, # filter on words whose frequency is below this count\n",
    "    'sg': 0, # use the skip-gram (1) or the CBOW (0) mode. In class, we presented the CBOW (predict context given focus words). See optional materials for the skip-gram (predict focus given context)\n",
    "    'negative': 5, # how many negative samples to use (see optional class contents too)\n",
    "    'workers': 4, # how many cores to use\n",
    "    'alpha': 0.05 # initial learning rate for SGD. This is lambda in the class notes\n",
    "}\n",
    "model = Word2Vec(nofilt, **params)"
   ]
  },
  {
   "cell_type": "markdown",
   "id": "1ac8309a",
   "metadata": {},
   "source": [
    "As can be seen below, the words that are most similar to gods are different from those that are most similar to mortals, but they contain many names and words that are not adjectives or adverbs. We now make lists with specifically the most similar adverbs and adjectives to gods and mortals."
   ]
  },
  {
   "cell_type": "code",
   "execution_count": 33,
   "id": "5a4ee118",
   "metadata": {},
   "outputs": [
    {
     "name": "stdout",
     "output_type": "stream",
     "text": [
      "('aegis', 0.5814357995986938)\n",
      "('Cronos', 0.555854856967926)\n",
      "('goddess', 0.5435217618942261)\n",
      "('Earth', 0.5413773655891418)\n",
      "('Olympian', 0.5290615558624268)\n",
      "('beareth', 0.4981394410133362)\n",
      "('Shaker', 0.49626773595809937)\n",
      "('Circe', 0.49582889676094055)\n",
      "('loud-thundering', 0.48337531089782715)\n",
      "('god', 0.4802838861942291)\n"
     ]
    }
   ],
   "source": [
    "for word in list(model.wv.most_similar('GODNAME', topn=10)):\n",
    "    print(word)"
   ]
  },
  {
   "cell_type": "code",
   "execution_count": 34,
   "id": "62fad942",
   "metadata": {},
   "outputs": [
    {
     "name": "stdout",
     "output_type": "stream",
     "text": [
      "('Alexander', 0.5821502208709717)\n",
      "('Aeacus', 0.5617689490318298)\n",
      "('son', 0.5456911325454712)\n",
      "('Sarpedon', 0.5406906604766846)\n",
      "('prince', 0.5293571352958679)\n",
      "('swineherd', 0.5270262360572815)\n",
      "('him', 0.5163664221763611)\n",
      "('Glaucus', 0.5079203248023987)\n",
      "('Achilles', 0.5054300427436829)\n",
      "('squire', 0.49859705567359924)\n"
     ]
    }
   ],
   "source": [
    "for word in list(model.wv.most_similar('MORTALNAME', topn=10)):\n",
    "    print(word)"
   ]
  },
  {
   "cell_type": "code",
   "execution_count": 35,
   "id": "8b65c846",
   "metadata": {},
   "outputs": [],
   "source": [
    "lemmatized_replace_words = []\n",
    "lemmatized_replace_tags = []\n",
    "\n",
    "for sent in lemmatized_replace:\n",
    "    for word in sent:\n",
    "        lemmatized_replace_words.append(word[0])\n",
    "        lemmatized_replace_tags.append(word[1])\n",
    "\n",
    "similarg = []\n",
    "similarm = []\n",
    "\n",
    "for word in list(model.wv.most_similar('MORTALNAME', topn=3000)):\n",
    "    tag = lemmatized_replace_tags[lemmatized_replace_words.index(word[0])]\n",
    "    if tag[0:2] in ['RB', 'JJ']:\n",
    "        similarm.append([word[0], word[1]])\n",
    "    \n",
    "\n",
    "for word in list(model.wv.most_similar('GODNAME', topn=3000)):\n",
    "    tag = lemmatized_replace_tags[lemmatized_replace_words.index(word[0])]\n",
    "    if tag[0:2] in ['RB', 'JJ']:\n",
    "        similarg.append([word[0], word[1]])"
   ]
  },
  {
   "cell_type": "markdown",
   "id": "200ca460",
   "metadata": {},
   "source": [
    "Below are the lists of the most similar adverbs and adjectives. These lists seem to make sense, since adjectives that are only for gods (like Olympian) are most similar to gods, and the other way around (godlike is much more similar to mortals, which makes sense because a god won't be described as being 'godlike'."
   ]
  },
  {
   "cell_type": "code",
   "execution_count": 36,
   "id": "8108ee25",
   "metadata": {},
   "outputs": [
    {
     "name": "stdout",
     "output_type": "stream",
     "text": [
      "['Olympian', 0.5290615558624268]\n",
      "['loud-thundering', 0.48337531089782715]\n",
      "['flashing-eyed', 0.4636233448982239]\n",
      "['gracious', 0.4425492286682129]\n",
      "['tasselled', 0.42820054292678833]\n",
      "['afar', 0.38922542333602905]\n",
      "['ox-eyed', 0.3885491192340851]\n",
      "['white-armed', 0.37766775488853455]\n",
      "['heaven', 0.3714108467102051]\n",
      "['wind-footed', 0.369925856590271]\n",
      "\n",
      "\n",
      "['peerless', 0.46368736028671265]\n",
      "['valiant', 0.423467218875885]\n",
      "['glorious', 0.42079678177833557]\n",
      "['godlike', 0.4090319573879242]\n",
      "['lordly', 0.39040249586105347]\n",
      "['great-souled', 0.3626636266708374]\n",
      "['much-enduring', 0.3588070571422577]\n",
      "['likewise', 0.31885623931884766]\n",
      "['vengeful', 0.31876808404922485]\n",
      "['swift-footed', 0.3147048056125641]\n"
     ]
    }
   ],
   "source": [
    "for word in similarg[:10]:\n",
    "    print(word)\n",
    "print('\\n')\n",
    "for word in similarm[:10]:\n",
    "    print(word)"
   ]
  },
  {
   "cell_type": "markdown",
   "id": "3bf16407",
   "metadata": {},
   "source": [
    "The above results can be visualised in the following way to make interpretation easier. "
   ]
  },
  {
   "cell_type": "markdown",
   "id": "d0ce8d43",
   "metadata": {},
   "source": [
    "### Data visualisation"
   ]
  },
  {
   "cell_type": "code",
   "execution_count": 37,
   "id": "04f25099",
   "metadata": {},
   "outputs": [],
   "source": [
    "from sklearn.decomposition import PCA"
   ]
  },
  {
   "cell_type": "code",
   "execution_count": 38,
   "id": "96e2c0dc",
   "metadata": {},
   "outputs": [],
   "source": [
    "def display_pca_scatterplot(model, words=None, sample=0):\n",
    "    if words == None:\n",
    "        if sample > 0:\n",
    "            words = np.random.choice(list(model.vocab.keys()), sample)\n",
    "        else:\n",
    "            words = [ word for word in model.vocab ]\n",
    "        \n",
    "    word_vectors = np.array([model[w] for w in words])\n",
    "\n",
    "    # do PCA on the selected embeddings\n",
    "    twodim = PCA().fit_transform(word_vectors)[:,:2]\n",
    "    \n",
    "    plt.figure(figsize=(6,6))\n",
    "    plt.scatter(twodim[:,0], twodim[:,1], edgecolors='k', c='r')\n",
    "    for word, (x,y) in zip(words, twodim):\n",
    "        plt.text(x+0.05, y+0.05, word)"
   ]
  },
  {
   "cell_type": "code",
   "execution_count": 39,
   "id": "855801f8",
   "metadata": {},
   "outputs": [
    {
     "data": {
      "text/plain": [
       "Text(0.5, 1.0, 'Most Similar Adverbs and Adjectives in Mortals')"
      ]
     },
     "execution_count": 39,
     "metadata": {},
     "output_type": "execute_result"
    },
    {
     "data": {
      "image/png": "[encoded data removed]",
      "text/plain": [
       "<Figure size 432x432 with 1 Axes>"
      ]
     },
     "metadata": {
      "needs_background": "light"
     },
     "output_type": "display_data"
    }
   ],
   "source": [
    "#MORTAL\n",
    "display_pca_scatterplot(model.wv, \n",
    "                        ['MORTALNAME']+[x[0] for x in similarm[:15]])\n",
    "plt.title(\"Most Similar Adverbs and Adjectives in Mortals\")"
   ]
  },
  {
   "cell_type": "code",
   "execution_count": 41,
   "id": "e5d48bf6",
   "metadata": {},
   "outputs": [
    {
     "data": {
      "image/png": "[encoded data removed]",
      "text/plain": [
       "<Figure size 432x432 with 1 Axes>"
      ]
     },
     "metadata": {
      "needs_background": "light"
     },
     "output_type": "display_data"
    }
   ],
   "source": [
    "#MORTAL\n",
    "display_pca_scatterplot(model.wv, \n",
    "                        ['GODNAME']+[x[0] for x in similarg[:10]])"
   ]
  },
  {
   "cell_type": "code",
   "execution_count": null,
   "id": "4c5f00ec",
   "metadata": {},
   "outputs": [],
   "source": [
    "#words taken from most_similar above\n",
    "display_pca_scatterplot(model.wv, \n",
    "                        ['GODNAME', 'MORTALNAME']+[x[0] for x in similarm[:5]]+[x[0] for x in similarg[:5]])"
   ]
  },
  {
   "cell_type": "markdown",
   "id": "d6423884",
   "metadata": {},
   "source": [
    "## Word embedding"
   ]
  },
  {
   "cell_type": "code",
   "execution_count": 40,
   "id": "806b4d2c",
   "metadata": {
    "scrolled": true
   },
   "outputs": [
    {
     "name": "stdout",
     "output_type": "stream",
     "text": [
      "(('Odysseus', 'goodly'), 110)\n",
      "(('Athena', 'flashing-eyed'), 59)\n",
      "(('Achilles', 'goodly'), 52)\n",
      "(('Zeus', 'great'), 42)\n",
      "(('Hector', 'goodly'), 40)\n",
      "(('Menelaus', 'fair-haired'), 32)\n",
      "(('Hector', 'glorious'), 32)\n",
      "(('Athene', 'flashing-eyed'), 31)\n",
      "(('Zeus', 'other'), 27)\n",
      "(('Menelaus', 'good'), 27)\n",
      "(('Patroclus', 'Funeral'), 25)\n",
      "(('Hera', 'white-armed'), 25)\n",
      "(('Achilles', 'swift-footed'), 25)\n",
      "(('Odysseus', 'dear'), 24)\n",
      "(('Hera', 'queenly'), 22)\n",
      "(('Zeus', 'borne'), 21)\n",
      "(('Zeus', 'high'), 20)\n",
      "(('Aias', 'great'), 20)\n",
      "(('Diomedes', 'good'), 20)\n",
      "(('Aias', 'Telamonian'), 19)\n",
      "(('Hector', 'unto'), 19)\n",
      "(('Menelaus', 'glorious'), 17)\n",
      "(('Priam', 'old'), 17)\n",
      "(('Bacchus', 'Tyrrhenian'), 16)\n",
      "(('Odysseus', 'steadfast'), 15)\n",
      "(('Telemachus', 'verily'), 15)\n",
      "(('Eumaeus', 'swineherd'), 15)\n",
      "(('Patroclus', 'dead'), 15)\n",
      "(('Hector', 'great'), 15)\n",
      "(('Achilles', 'Funeral'), 15)\n",
      "(('Odysseus', 'glorious'), 14)\n",
      "(('Atreus', 'wide-ruling'), 14)\n",
      "(('Agamemnon', 'wide-ruling'), 14)\n",
      "(('Odysseus', 'verily'), 14)\n",
      "(('Zeus', 'good'), 13)\n",
      "(('Atreus', 'Most'), 13)\n",
      "(('Atreus', 'glorious'), 13)\n",
      "(('Thetis', 'silver-footed'), 13)\n",
      "(('Achilles', 'great'), 13)\n",
      "(('Zeus', 'Olympian'), 12)\n",
      "(('Priam', 'great'), 12)\n",
      "(('Zeus', 'verily'), 12)\n",
      "(('Zeus', 'most'), 12)\n",
      "(('Telemachus', 'dear'), 12)\n",
      "(('Odysseus', 'much-enduring'), 12)\n",
      "(('Achilles', 'glorious'), 12)\n",
      "(('Peleus', 'swift-footed'), 12)\n",
      "(('Achilles', 'dead'), 12)\n",
      "(('Telemachus', 'first'), 11)\n",
      "(('Nestor', 'first'), 11)\n",
      "(('Aphrodite', 'golden'), 11)\n",
      "(('Hector', 'man-slaying'), 11)\n",
      "(('Achilles', 'far'), 11)\n",
      "(('Aias', 'glorious'), 11)\n",
      "(('Odysseus', 'godlike'), 10)\n",
      "(('Odysseus', 'such'), 10)\n",
      "(('Odysseus', 'noble'), 10)\n",
      "(('Peleus', 'peerless'), 10)\n",
      "(('Zeus', 'glorious'), 10)\n",
      "(('Zeus', 'far'), 10)\n",
      "(('Iris', 'wind-footed'), 10)\n",
      "(('Priam', 'goodly'), 10)\n",
      "(('Hector', 'back'), 10)\n",
      "(('Achilles', 'unto'), 10)\n",
      "(('Achilles', 'still'), 10)\n",
      "(('Odysseus', 'far'), 9)\n",
      "(('Odysseus', 'great-hearted'), 9)\n",
      "(('Aias', 'first'), 9)\n",
      "(('Odysseus', 'other'), 9)\n",
      "(('Odysseus', 'great'), 9)\n",
      "(('Hades', 'down'), 9)\n",
      "(('Odysseus', 'close'), 9)\n",
      "(('Atreus', 'other'), 9)\n",
      "(('Hera', 'ox-eyed'), 9)\n",
      "(('Achilles', 'nigh'), 9)\n",
      "(('Zeus', 'unto'), 8)\n",
      "(('Eurycleia', 'dear'), 8)\n",
      "(('Zeus', 'yet'), 8)\n",
      "(('Odysseus', 'down'), 8)\n",
      "(('Nestor', 'old'), 8)\n",
      "(('Odysseus', 'back'), 8)\n",
      "(('Odysseus', 'straightway'), 8)\n",
      "(('Odysseus', 'up'), 8)\n",
      "(('Odysseus', 'Zeus-born'), 8)\n",
      "(('Agamemnon', 'goodly'), 8)\n",
      "(('Odysseus', 'first'), 8)\n",
      "(('Eurycleia', 'nurse'), 8)\n",
      "(('Zeus', 'first'), 8)\n",
      "(('Briseis', 'fair-cheeked'), 8)\n",
      "(('Agamemnon', 'Most'), 8)\n",
      "(('Agamemnon', 'glorious'), 8)\n",
      "(('Achilles', 'yet'), 8)\n",
      "(('Hector', 'close'), 8)\n",
      "(('Priam', 'godlike'), 8)\n",
      "(('Hera', 'unto'), 8)\n",
      "(('Achilles', 'forth'), 8)\n",
      "(('Zeus', 'such'), 7)\n",
      "(('Nestor', 'goodly'), 7)\n",
      "(('Odysseus', 'here'), 7)\n",
      "(('Athena', 'other'), 7)\n",
      "(('Telemachus', 'strong'), 7)\n",
      "(('Telemachus', 'mighty'), 7)\n",
      "(('Nestor', 'great'), 7)\n",
      "(('Artemis', 'golden'), 7)\n",
      "(('Alcinous', 'great-hearted'), 7)\n",
      "(('Odysseus', 'again'), 7)\n",
      "(('Agamemnon', 'first'), 7)\n",
      "(('Peleus', 'mighty'), 7)\n",
      "(('Zeus', 'Now'), 7)\n",
      "(('Zeus', 'witness'), 7)\n",
      "(('Eumaeus', 'goodly'), 7)\n",
      "(('Hephaestus', 'famed'), 7)\n",
      "(('Iris', 'swift'), 7)\n",
      "(('Iris', 'swift-footed'), 7)\n",
      "(('Lycaon', 'glorious'), 7)\n",
      "(('Hector', 'yet'), 7)\n",
      "(('Zeus', 'mighty'), 7)\n",
      "(('Peleus', 'unto'), 7)\n",
      "(('Agenor', 'goodly'), 7)\n",
      "(('Achilles', 'swift'), 7)\n",
      "(('Hector', 'long'), 7)\n",
      "(('Achilles', 'valiant'), 7)\n",
      "(('Aegisthus', 'guileful'), 6)\n",
      "(('Athena', 'sleep'), 6)\n",
      "(('Odysseus', 'long'), 6)\n",
      "(('Odysseus', 'there'), 6)\n",
      "(('Neleus', 'great'), 6)\n",
      "(('Nestor', 'glorious'), 6)\n",
      "(('Zeus', 'long'), 6)\n",
      "(('Zeus', 'broad'), 6)\n",
      "(('Zeus', 'own'), 6)\n",
      "(('Odysseus', 'glad'), 6)\n",
      "(('Aphrodite', 'fair'), 6)\n",
      "(('Aphrodite', 'laughter-loving'), 6)\n",
      "(('Telemachus', 'again'), 6)\n",
      "(('Hera', 'golden'), 6)\n",
      "(('Agamemnon', 'lord'), 6)\n",
      "(('Athene', 'verily'), 6)\n",
      "(('Tydeus', 'wise-hearted'), 6)\n",
      "(('Apollo', 'unto'), 6)\n",
      "(('Hector', 'horse-taming'), 6)\n",
      "(('Hector', 'mighty'), 6)\n",
      "(('Hector', 'good'), 6)\n",
      "(('Peleus', 'old'), 6)\n",
      "(('Hector', 'own'), 6)\n",
      "(('Hector', 'nigh'), 6)\n",
      "(('Hector', 'wondrous'), 6)\n",
      "(('Hector', 'dear'), 6)\n",
      "(('Achilles', 'more'), 6)\n",
      "(('Priam', 'unto'), 6)\n",
      "(('Achilles', 'strong'), 6)\n",
      "(('Jove', 'great'), 6)\n",
      "(('Odysseus', 'alone'), 5)\n",
      "(('Odysseus', 'indeed'), 5)\n",
      "(('Odysseus', 'too'), 5)\n",
      "(('Zeus', 'mayest'), 5)\n",
      "(('Athena', 'dear'), 5)\n",
      "(('Athena', 'sweet'), 5)\n",
      "(('Odysseus', 'dead'), 5)\n",
      "(('Athena', 'first'), 5)\n",
      "(('Antilochus', 'peerless'), 5)\n",
      "(('Odysseus', 'crafty-minded'), 5)\n",
      "(('Apollo', 'such'), 5)\n",
      "(('Penelope', 'again'), 5)\n",
      "(('Odysseus', 'more'), 5)\n",
      "(('Zeus', 'thus'), 5)\n",
      "(('Zeus', 'aegis-bearing'), 5)\n",
      "(('Alcinous', 'strong'), 5)\n",
      "(('Alcinous', 'mighty'), 5)\n",
      "(('Phoebus', 'thus'), 5)\n",
      "(('Odysseus', 'most'), 5)\n",
      "(('Atreus', 'first'), 5)\n",
      "(('Peleus', 'far'), 5)\n",
      "(('Peleus', 'noble'), 5)\n",
      "(('Zeus', 'immortal'), 5)\n",
      "(('Zeus', 'dear'), 5)\n",
      "(('Odysseus', 'as'), 5)\n",
      "(('Zeus', 'loud-thundering'), 5)\n",
      "(('Odysseus', 'sure'), 5)\n",
      "(('Odysseus', 'angry'), 5)\n",
      "(('Athene', 'great'), 5)\n",
      "(('Achilles', 'first'), 5)\n",
      "(('Agamemnon', 'yet'), 5)\n",
      "(('Zeus', 'forth'), 5)\n",
      "(('Idomeneus', 'first'), 5)\n",
      "(('Zeus', 'old'), 5)\n",
      "(('Eurypylus', 'glorious'), 5)\n",
      "(('Aeneas', 'goodly'), 5)\n",
      "(('Aeneas', 'great-hearted'), 5)\n",
      "(('Nestor', 'great-souled'), 5)\n",
      "(('Hector', 'other'), 5)\n",
      "(('Hector', 'verily'), 5)\n",
      "(('Aias', 'unto'), 5)\n",
      "(('Hector', 'bold'), 5)\n",
      "(('Zeus', 'father'), 5)\n",
      "(('Hector', 'again'), 5)\n",
      "(('Achilles', 'alone'), 5)\n",
      "(('Hector', 'hard'), 5)\n",
      "(('Hephaestus', 'dear'), 5)\n",
      "(('Zeus', 'bright'), 5)\n",
      "(('Hector', 'first'), 5)\n",
      "(('Aias', 'good'), 5)\n",
      "(('Achilles', 'good'), 5)\n",
      "(('Aias', 'mighty'), 5)\n",
      "(('Laomedon', 'old'), 5)\n",
      "(('Achilles', 'battle-eager'), 5)\n",
      "(('Telemachus', 'far'), 4)\n",
      "(('Telemachus', 'flashing-eyed'), 4)\n",
      "(('Athena', 'close'), 4)\n",
      "(('Laertes', 'old'), 4)\n",
      "(('Odysseus', 'divine'), 4)\n",
      "(('Telemachus', 'long'), 4)\n",
      "(('Athena', 'again'), 4)\n",
      "(('Atreus', 'fair-haired'), 4)\n",
      "(('Athena', 'verily'), 4)\n",
      "(('Telemachus', 'great-hearted'), 4)\n",
      "(('Menelaus', 'Now'), 4)\n",
      "(('Penelope', 'constant'), 4)\n",
      "(('Zeus', 'fair'), 4)\n",
      "(('Zeus', 'ye'), 4)\n",
      "(('Hermes', 'dear'), 4)\n",
      "(('Nausicaa', 'white-armed'), 4)\n",
      "(('Odysseus', 'strong'), 4)\n",
      "(('Zeus', 'also'), 4)\n",
      "(('Demodocus', 'clear-toned'), 4)\n",
      "(('Odysseus', 'Now'), 4)\n",
      "(('Odysseus', 'once'), 4)\n",
      "(('Odysseus', 'terrible'), 4)\n",
      "(('Odysseus', 'thus'), 4)\n",
      "(('Leto', 'fair-haired'), 4)\n",
      "(('Zeus', 'no'), 4)\n",
      "(('Odysseus', 'good'), 4)\n",
      "(('Menelaus', 'first'), 4)\n",
      "(('Odysseus', 'swineherd'), 4)\n",
      "(('Odysseus', 'old'), 4)\n",
      "(('Aphrodite', 'unto'), 4)\n",
      "(('Telemachus', 'winged'), 4)\n",
      "(('Odysseus', 'very'), 4)\n",
      "(('Odysseus', 'thee'), 4)\n",
      "(('Atreus', 'well-greaved'), 4)\n",
      "(('Achilles', 'godlike'), 4)\n",
      "(('Peleus', 'again'), 4)\n",
      "(('Patroclus', 'dear'), 4)\n",
      "(('Apollo', 'back'), 4)\n",
      "(('Apollo', 'again'), 4)\n",
      "(('Agamemnon', 'other'), 4)\n",
      "(('Achilles', 'low'), 4)\n",
      "(('Zeus', 'away'), 4)\n",
      "(('Atreus', 'utter'), 4)\n",
      "(('Achilles', 'verily'), 4)\n",
      "(('Oïleus', 'swift'), 4)\n",
      "(('Aias', 'swift'), 4)\n",
      "(('Aias', 'far'), 4)\n",
      "(('Aias', 'yet'), 4)\n",
      "(('Anchises', 'valiant'), 4)\n",
      "(('Menelaus', 'warlike'), 4)\n",
      "(('Tydeus', 'alone'), 4)\n",
      "(('Diomedes', 'stalwart'), 4)\n",
      "(('Diomedes', 'mighty'), 4)\n",
      "(('Athene', 'winged'), 4)\n",
      "(('Diomedes', 'goodly'), 4)\n",
      "(('Hector', 'too'), 4)\n",
      "(('Agamemnon', 'unto'), 4)\n",
      "(('Atreus', 'ye'), 4)\n",
      "(('Hera', 'loud-thundering'), 4)\n",
      "(('Apollo', 'once'), 4)\n",
      "(('Iris', 'forth'), 4)\n",
      "(('Iris', 'thus'), 4)\n",
      "(('Patroclus', 'glorious'), 4)\n",
      "(('Zeus', 'mightily'), 4)\n",
      "(('Telamon', 'great'), 4)\n",
      "(('Patroclus', 'Zeus-born'), 4)\n",
      "(('Telamon', 'first'), 4)\n",
      "(('Aias', 'strong'), 4)\n",
      "(('Priam', 'first'), 4)\n",
      "(('Aias', 'bright'), 4)\n",
      "(('Meriones', 'valiant'), 4)\n",
      "(('Ares', 'mighty'), 4)\n",
      "(('Priam', 'glorious'), 4)\n",
      "(('Peleus', 'glorious'), 4)\n",
      "(('Patroclus', 'warrior'), 4)\n",
      "(('Aeneas', 'unto'), 4)\n",
      "(('Achilles', 'mightily'), 4)\n",
      "(('Achilles', 'own'), 4)\n",
      "(('Achilles', 'uprose'), 4)\n",
      "(('Achilles', 'spear'), 4)\n",
      "(('Achilles', 'great-souled'), 4)\n",
      "(('Achilles', 'other'), 4)\n",
      "(('Achilles', 'back'), 4)\n",
      "(('Epeius', 'goodly'), 4)\n",
      "(('Argeiphontes', 'again'), 4)\n",
      "(('Hector', 'far'), 4)\n",
      "(('Penthesileia', 'couch'), 4)\n",
      "(('Oeneus', 'noble'), 4)\n",
      "(('Peleus', 'there'), 4)\n",
      "(('Aias', 'giant'), 4)\n",
      "(('Deucalion', 'thus'), 4)\n",
      "(('Juno', 'jealous'), 4)\n",
      "(('Odysseus', 'unceasingly'), 3)\n",
      "(('Argeiphontes', 'keen-sighted'), 3)\n",
      "(('Zeus', 'oftenest'), 3)\n",
      "(('Orestes', 'goodly'), 3)\n",
      "(('Zeus', 'forever'), 3)\n",
      "(('Telemachus', 'surely'), 3)\n",
      "(('Athena', 'wondrous'), 3)\n",
      "(('Odysseus', 'hollow'), 3)\n",
      "(('Odysseus', 'patient'), 3)\n",
      "(('Odysseus', 'unto'), 3)\n",
      "(('Telemachus', 'down'), 3)\n",
      "(('Telemachus', 'too'), 3)\n",
      "(('Achilles', 'deep'), 3)\n",
      "(('Priam', 'lofty'), 3)\n",
      "(('Priam', 'away'), 3)\n",
      "(('Agamemnon', 'back'), 3)\n",
      "(('Agamemnon', 'once'), 3)\n",
      "(('Neleus', 'old'), 3)\n",
      "(('Telemachus', 'beautiful'), 3)\n",
      "(('Telemachus', 'glorious'), 3)\n",
      "(('Odysseus', 'much'), 3)\n",
      "(('Tydeus', 'goodly'), 3)\n",
      "(('Zeus', 'thee'), 3)\n",
      "(('Poseidon', 'great'), 3)\n",
      "(('Agamemnon', 'verily'), 3)\n",
      "(('Argeiphontes', 'strong'), 3)\n",
      "(('Zeus', 'alone'), 3)\n",
      "(('Peleus', 'dead'), 3)\n",
      "(('Nausicaa', 'great-hearted'), 3)\n",
      "(('Odysseus', 'forth'), 3)\n",
      "(('Arete', 'first'), 3)\n",
      "(('Apollo', 'yet'), 3)\n",
      "(('Odysseus', 'also'), 3)\n",
      "(('Peleus', 'once'), 3)\n",
      "(('Apollo', 'thus'), 3)\n",
      "(('Odysseus', 'famous'), 3)\n",
      "(('Alcinous', 'alone'), 3)\n",
      "(('Menelaus', 'together'), 3)\n",
      "(('Zeus', 'evil'), 3)\n",
      "(('Poseidon', 'dark-haired'), 3)\n",
      "(('Helios', 'goodly'), 3)\n",
      "(('Patroclus', 'peerless'), 3)\n",
      "(('Helios', 'best'), 3)\n",
      "(('Agamemnon', 'forth'), 3)\n",
      "(('Odysseus', 'hither'), 3)\n",
      "(('Nestor', 'Now'), 3)\n",
      "(('Telemachus', 'sweet'), 3)\n",
      "(('Atreus', 'warrior'), 3)\n",
      "(('Apollo', 'high'), 3)\n",
      "(('Zeus', 'goodly'), 3)\n",
      "(('Eumaeus', 'surely'), 3)\n",
      "(('Odysseus', 'near'), 3)\n",
      "(('Eumaeus', 'verily'), 3)\n",
      "(('Telemachus', 'thee'), 3)\n",
      "(('Telemachus', 'other'), 3)\n",
      "(('Telemachus', 'quickly'), 3)\n",
      "(('Penelope', 'first'), 3)\n",
      "(('Atreus', 'famous'), 3)\n",
      "(('Odysseus', 'away'), 3)\n",
      "(('Odysseus', 'crafty'), 3)\n",
      "(('Idomeneus', 'forth'), 3)\n",
      "(('Odysseus', 'together'), 3)\n",
      "(('Hades', 'valiant'), 3)\n",
      "(('Phoebus', 'own'), 3)\n",
      "(('Apollo', 'own'), 3)\n",
      "(('Agamemnon', 'troubled'), 3)\n",
      "(('Agamemnon', 'thus'), 3)\n",
      "(('Peleus', 'most'), 3)\n",
      "(('Peleus', 'fair'), 3)\n",
      "(('Atreus', 'else'), 3)\n",
      "(('Atreus', 'swift'), 3)\n",
      "(('Achilles', 'black'), 3)\n",
      "(('Achilles', 'heavy'), 3)\n",
      "(('Zeus', 'utterly'), 3)\n",
      "(('Zeus', 'greatly'), 3)\n",
      "(('Zeus', 'troubled'), 3)\n",
      "(('Hera', 'again'), 3)\n",
      "(('Hera', 'there'), 3)\n",
      "(('Hera', 'Most'), 3)\n",
      "(('Hera', 'dread'), 3)\n",
      "(('Hera', 'longer'), 3)\n",
      "(('Achilles', 'well'), 3)\n",
      "(('Poseidon', 'unto'), 3)\n",
      "(('Diomedes', 'again'), 3)\n",
      "(('Capaneus', 'glorious'), 3)\n",
      "(('Hector', 'greatly'), 3)\n",
      "(('Zeus', 'again'), 3)\n",
      "(('Aias', 'huge'), 3)\n",
      "(('Aphrodite', 'other'), 3)\n",
      "(('Priam', 'high'), 3)\n",
      "(('Athene', 'already'), 3)\n",
      "(('Athene', 'eager'), 3)\n",
      "(('Atreus', 'warlike'), 3)\n",
      "(('Apollo', 'glorious'), 3)\n",
      "(('Menelaus', 'such'), 3)\n",
      "(('Menelaus', 'thus'), 3)\n",
      "(('Agenor', 'great-souled'), 3)\n",
      "(('Tydeus', 'mighty'), 3)\n",
      "(('Capaneus', 'good'), 3)\n",
      "(('Zeus', 'only'), 3)\n",
      "(('Aeneas', 'glorious'), 3)\n",
      "(('Tydeus', 'great-souled'), 3)\n",
      "(('Aeneas', 'forth'), 3)\n",
      "(('Aeneas', 'other'), 3)\n",
      "(('Diomedes', 'aloud'), 3)\n",
      "(('Diomedes', 'horse-taming'), 3)\n",
      "(('Apollo', 'afar'), 3)\n",
      "(('Phoebus', 'unto'), 3)\n",
      "(('Apollo', 'golden'), 3)\n",
      "(('Antilochus', 'great-souled'), 3)\n",
      "(('Hector', 'well'), 3)\n",
      "(('Laomedon', 'lordly'), 3)\n",
      "(('Hades', 'goodly'), 3)\n",
      "(('Hera', 'swiftly'), 3)\n",
      "(('Ares', 'first'), 3)\n",
      "(('Atreus', 'alive'), 3)\n",
      "(('Menelaus', 'aright'), 3)\n",
      "(('Athene', 'fair-haired'), 3)\n",
      "(('Bellerophon', 'peerless'), 3)\n",
      "(('Priam', 'other'), 3)\n",
      "(('Priam', 'great-hearted'), 3)\n",
      "(('Andromache', 'white-armed'), 3)\n",
      "(('Athene', 'other'), 3)\n",
      "(('Hector', 'only'), 3)\n",
      "(('Hector', 'spear'), 3)\n",
      "(('Hector', 'single'), 3)\n",
      "(('Aias', 'near'), 3)\n",
      "(('Atreus', 'unto'), 3)\n",
      "(('Diomedes', 'length'), 3)\n",
      "(('Zeus', 'heaven'), 3)\n",
      "(('Hector', 'dread'), 3)\n",
      "(('Teucer', 'forth'), 3)\n",
      "(('Iris', 'storm-footed'), 3)\n",
      "(('Hera', 'thus'), 3)\n",
      "(('Athene', 'surely'), 3)\n",
      "(('Patroclus', 'other'), 3)\n",
      "(('Zeus', 'nigh'), 3)\n",
      "(('Achilles', 'too'), 3)\n",
      "(('Ares', 'long'), 3)\n",
      "(('Aias', 'godlike'), 3)\n",
      "(('Priam', 'wise-hearted'), 3)\n",
      "(('Odysseus', 'greatly'), 3)\n",
      "(('Achilles', 'there'), 3)\n",
      "(('Aias', 'valiant'), 3)\n",
      "(('Athene', 'again'), 3)\n",
      "(('Achilles', 'only'), 3)\n",
      "(('Achilles', 'immortal'), 3)\n",
      "(('Athene', 'nigh'), 3)\n",
      "(('Hector', 'peerless'), 3)\n",
      "(('Polydamas', 'peerless'), 3)\n",
      "(('Agamemnon', 'long'), 3)\n",
      "(('Hector', 'wise-hearted'), 3)\n",
      "(('Hector', 'swift-footed'), 3)\n",
      "(('Hector', 'low'), 3)\n",
      "(('Phoebus', 'more'), 3)\n",
      "(('Apollo', 'thee'), 3)\n",
      "(('Aias', 'high'), 3)\n",
      "(('Achilles', 'thus'), 3)\n",
      "(('Achilles', 'wise-hearted'), 3)\n",
      "(('Zeus', 'warrior'), 3)\n",
      "(('Hector', 'still'), 3)\n",
      "(('Hector', 'ye'), 3)\n",
      "(('Polydamas', 'spake'), 3)\n",
      "(('Polydamas', 'prudent'), 3)\n",
      "(('Aias', 'forthwith'), 3)\n",
      "(('Hector', 'throng'), 3)\n",
      "(('Idomeneus', 'high'), 3)\n",
      "(('Aeneas', 'first'), 3)\n",
      "(('Antilochus', 'leapt'), 3)\n",
      "(('Deïphobus', 'valiant'), 3)\n",
      "(('Helenus', 'valiant'), 3)\n",
      "(('Hera', 'art'), 3)\n",
      "(('Poseidon', 'yet'), 3)\n",
      "(('Patroclus', 'goodly'), 3)\n",
      "(('Hera', 'winged'), 3)\n",
      "(('Zeus', 'wild'), 3)\n",
      "(('Phoebus', 'long'), 3)\n",
      "(('Hector', 'great-souled'), 3)\n",
      "(('Hector', 'thus'), 3)\n",
      "(('Antilochus', 'other'), 3)\n",
      "(('Aias', 'great-hearted'), 3)\n",
      "(('Aias', 'longer'), 3)\n",
      "(('Patroclus', 'nigh'), 3)\n",
      "(('Aias', 'noble'), 3)\n",
      "(('Patroclus', 'low'), 3)\n",
      "(('Zeus', 'sacred'), 3)\n",
      "(('Patroclus', 'back'), 3)\n",
      "(('Patroclus', 'great'), 3)\n",
      "(('Apollo', 'nigh'), 3)\n",
      "(('Patroclus', 'strong-hoofed'), 3)\n",
      "(('Hector', 'once'), 3)\n",
      "(('Ares', 'terrible'), 3)\n",
      "(('Hector', 'swift'), 3)\n",
      "(('Patroclus', 'thee'), 3)\n",
      "(('Achilles', 'peerless'), 3)\n",
      "(('Hector', 'alone'), 3)\n",
      "(('Peleus', 'great-souled'), 3)\n",
      "(('Ares', 'wild'), 3)\n",
      "(('Patroclus', 'again'), 3)\n",
      "(('Patroclus', 'hapless'), 3)\n",
      "(('Antilochus', 'unto'), 3)\n",
      "(('Zeus', 'whenso'), 3)\n"
     ]
    }
   ],
   "source": [
    "coocu = Counter()\n",
    "for sent in name_cons:\n",
    "       \n",
    "    target = sent[0]\n",
    "    con = sent[1]\n",
    "    filteredcon = []\n",
    "    \n",
    "    remove = [\"Then\", \"then\", \"[\", \"]\", \"thy\", \"thou\", \"many\", \"even\", \"not\", \"now\", \"So\", \"so\", \"thou\", \"ever\"]\n",
    "       \n",
    "    for word in con:\n",
    "        if word[0] in remove:\n",
    "            continue\n",
    "        else:\n",
    "            filteredcon.append(word)\n",
    "\n",
    "    for conword in filteredcon:\n",
    "        if conword[1][0:2] in ['RB', 'JJ']:\n",
    "            \n",
    "            coocu[(target[0], conword[0])] += 1\n",
    "            \n",
    "for common in list(coocu.most_common(500)):\n",
    "    print(common)"
   ]
  },
  {
   "cell_type": "code",
   "execution_count": null,
   "id": "bf1ed955",
   "metadata": {},
   "outputs": [],
   "source": []
  },
  {
   "cell_type": "code",
   "execution_count": null,
   "id": "59a89f1a",
   "metadata": {},
   "outputs": [],
   "source": []
  },
  {
   "cell_type": "code",
   "execution_count": null,
   "id": "88d3d7a8",
   "metadata": {},
   "outputs": [],
   "source": []
  }
 ],
 "metadata": {
  "kernelspec": {
   "display_name": "Python 3 (ipykernel)",
   "language": "python",
   "name": "python3"
  },
  "language_info": {
   "codemirror_mode": {
    "name": "ipython",
    "version": 3
   },
   "file_extension": ".py",
   "mimetype": "text/x-python",
   "name": "python",
   "nbconvert_exporter": "python",
   "pygments_lexer": "ipython3",
   "version": "3.9.7"
  }
 },
 "nbformat": 4,
 "nbformat_minor": 5
}
