{
 "cells": [
  {
   "cell_type": "markdown",
   "id": "15b5e5e8",
   "metadata": {},
   "source": [
    "In this notebook we will create the model which starts by importing the preprossessing file"
   ]
  },
  {
   "cell_type": "code",
   "execution_count": 6,
   "id": "31951fc0",
   "metadata": {},
   "outputs": [],
   "source": [
    "import json\n",
    "with open('preprocessed_data.json', 'r') as f:\n",
    "    lemmatized = json.load(f)\n",
    "%store -r mortaldict\n",
    "%store -r goddict"
   ]
  },
  {
   "cell_type": "code",
   "execution_count": 7,
   "id": "3151f11f",
   "metadata": {},
   "outputs": [],
   "source": [
    "## wait for rianne \n",
    "with open('names_and_contexts.json', 'r') as f:\n",
    "    name_cons = json.load(f)"
   ]
  },
  {
   "cell_type": "code",
   "execution_count": 8,
   "id": "75b1b236",
   "metadata": {},
   "outputs": [
    {
     "ename": "KeyError",
     "evalue": "'5'",
     "output_type": "error",
     "traceback": [
      "\u001b[0;31m---------------------------------------------------------------------------\u001b[0m",
      "\u001b[0;31mKeyError\u001b[0m                                  Traceback (most recent call last)",
      "\u001b[0;32m/var/folders/9t/82jyq2q175g28qwrz4flt3sw0000gn/T/ipykernel_93427/1926065982.py\u001b[0m in \u001b[0;36m<module>\u001b[0;34m\u001b[0m\n\u001b[1;32m     21\u001b[0m                 \u001b[0;32mif\u001b[0m \u001b[0mword\u001b[0m \u001b[0;32min\u001b[0m \u001b[0mvals\u001b[0m\u001b[0;34m[\u001b[0m\u001b[0;36m0\u001b[0m\u001b[0;34m]\u001b[0m\u001b[0;34m:\u001b[0m\u001b[0;34m\u001b[0m\u001b[0;34m\u001b[0m\u001b[0m\n\u001b[1;32m     22\u001b[0m                     \u001b[0mfilled_in\u001b[0m \u001b[0;34m=\u001b[0m \u001b[0;36m1\u001b[0m\u001b[0;34m\u001b[0m\u001b[0;34m\u001b[0m\u001b[0m\n\u001b[0;32m---> 23\u001b[0;31m                     \u001b[0mgoddict\u001b[0m\u001b[0;34m[\u001b[0m\u001b[0mstr\u001b[0m\u001b[0;34m(\u001b[0m\u001b[0midx2\u001b[0m\u001b[0;34m)\u001b[0m\u001b[0;34m]\u001b[0m\u001b[0;34m[\u001b[0m\u001b[0;36m1\u001b[0m\u001b[0;34m]\u001b[0m \u001b[0;34m+=\u001b[0m \u001b[0;36m1\u001b[0m\u001b[0;34m\u001b[0m\u001b[0;34m\u001b[0m\u001b[0m\n\u001b[0m\u001b[1;32m     24\u001b[0m                     \u001b[0mlemmatized\u001b[0m\u001b[0;34m[\u001b[0m\u001b[0midx\u001b[0m\u001b[0;34m]\u001b[0m\u001b[0;34m[\u001b[0m\u001b[0;36m1\u001b[0m\u001b[0;34m]\u001b[0m \u001b[0;34m=\u001b[0m \u001b[0;34m'NNPg'\u001b[0m\u001b[0;34m\u001b[0m\u001b[0;34m\u001b[0m\u001b[0m\n\u001b[1;32m     25\u001b[0m                     \u001b[0;32mbreak\u001b[0m\u001b[0;34m\u001b[0m\u001b[0;34m\u001b[0m\u001b[0m\n",
      "\u001b[0;31mKeyError\u001b[0m: '5'"
     ]
    }
   ],
   "source": [
    "for idx, wordtag in enumerate(lemmatized):\n",
    "    word = wordtag[0]\n",
    "    tag = wordtag[1]\n",
    "\n",
    "    if tag == 'NNP':\n",
    "        \n",
    "        # Binary to indicate if the word has been found\n",
    "        filled_in = 0\n",
    "        \n",
    "        # Go through mortaldict\n",
    "        for idx1, vals in enumerate(mortaldict.values()):\n",
    "            if word in vals[0]:\n",
    "                filled_in = 1\n",
    "                mortaldict[str(idx1)][1] += 1\n",
    "                lemmatized[idx][1] = 'NNPm'\n",
    "                break\n",
    "                \n",
    "        # If word hasn't been found in mortaldict, go through goddict\n",
    "        if filled_in == 0:\n",
    "            for idx2, vals in enumerate(goddict.values()):\n",
    "                if word in vals[0]:\n",
    "                    filled_in = 1\n",
    "                    goddict[str(idx2)][1] += 1\n",
    "                    lemmatized[idx][1] = 'NNPg'\n",
    "                    break"
   ]
  },
  {
   "cell_type": "code",
   "execution_count": 3,
   "id": "e2bcf51b",
   "metadata": {},
   "outputs": [],
   "source": [
    "contexts = []\n",
    "\n",
    "for idx, wordtag in enumerate(lemmatized):    \n",
    "    word = wordtag[0]\n",
    "    tag = wordtag[1]\n",
    "    #print(tag,'\\n')\n",
    "    #print(word)\n",
    "    if tag == 'NNPm' or tag == 'NNPg':\n",
    "        context = lemmatized[max(0, idx-5):min(len(lemmatized), idx+5)]\n",
    "        contexts.append(context)\n",
    "        \n",
    "for entry in contexts[60:63]:\n",
    "    print(entry)"
   ]
  },
  {
   "cell_type": "markdown",
   "id": "b1137a27",
   "metadata": {},
   "source": [
    "## Word Embedings"
   ]
  },
  {
   "cell_type": "code",
   "execution_count": null,
   "id": "d765525e",
   "metadata": {},
   "outputs": [],
   "source": [
    "import gensim.downloader as api"
   ]
  },
  {
   "cell_type": "code",
   "execution_count": null,
   "id": "0561183d",
   "metadata": {},
   "outputs": [],
   "source": [
    "#access the words\n",
    "for i, word in enumerate(name_cons):\n",
    "    if i == 5:\n",
    "        break\n",
    "    print(word)"
   ]
  },
  {
   "cell_type": "code",
   "execution_count": null,
   "id": "27c23493",
   "metadata": {},
   "outputs": [],
   "source": [
    "print(lemmatized[3000:3100])"
   ]
  },
  {
   "cell_type": "code",
   "execution_count": null,
   "id": "5c3137f5",
   "metadata": {},
   "outputs": [],
   "source": [
    "print([x[0] for x in name_cons[100][0]])"
   ]
  },
  {
   "cell_type": "code",
   "execution_count": null,
   "id": "7536b160",
   "metadata": {},
   "outputs": [],
   "source": [
    "print([x[0] for x in name_cons[100][1]])"
   ]
  },
  {
   "cell_type": "code",
   "execution_count": null,
   "id": "4f8b803b",
   "metadata": {},
   "outputs": [],
   "source": [
    "print(lemmatized)"
   ]
  },
  {
   "cell_type": "code",
   "execution_count": null,
   "id": "c255f5e0",
   "metadata": {},
   "outputs": [],
   "source": [
    "# access the vectors\n",
    "vec_athena = name_cons['Athena']\n",
    "\n",
    "\n",
    "print(vec_athena)"
   ]
  }
 ],
 "metadata": {
  "kernelspec": {
   "display_name": "Python 3 (ipykernel)",
   "language": "python",
   "name": "python3"
  },
  "language_info": {
   "codemirror_mode": {
    "name": "ipython",
    "version": 3
   },
   "file_extension": ".py",
   "mimetype": "text/x-python",
   "name": "python",
   "nbconvert_exporter": "python",
   "pygments_lexer": "ipython3",
   "version": "3.9.7"
  }
 },
 "nbformat": 4,
 "nbformat_minor": 5
}
