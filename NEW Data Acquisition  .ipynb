{
 "cells": [
  {
   "cell_type": "markdown",
   "id": "569911e8",
   "metadata": {},
   "source": [
    "Data Acquisition Document Greek Mythology"
   ]
  },
  {
   "cell_type": "code",
   "execution_count": 1,
   "id": "d372a238",
   "metadata": {},
   "outputs": [],
   "source": [
    "import urllib\n",
    "from urllib.request import urlopen\n",
    "from bs4 import BeautifulSoup\n",
    "import requests"
   ]
  },
  {
   "cell_type": "code",
   "execution_count": 7,
   "id": "9e75263c",
   "metadata": {},
   "outputs": [],
   "source": [
    "#getting first Homer odysee set up\n",
    "\n",
    "Odysee_URL = \"https://www.theoi.com/Text/HomerOdyssey1.html\"\n",
    "Odysee_page = requests.get(Odysee_URL)\n",
    "Odysee_soup = BeautifulSoup(Odysee_page.content, \"html.parser\")"
   ]
  },
  {
   "cell_type": "code",
   "execution_count": 21,
   "id": "61538a69",
   "metadata": {},
   "outputs": [
    {
     "data": {
      "text/plain": [
       "\"ather of gods and men was first to speak, for in his heart he thought of noble Aegisthus, whom far-famed Orestes, Agamemnon's son, had slain. Thinking on him he spoke among the immortals, and said: “Look you now, how ready mortals are to blame the gods. It is from us, they say, that evils come, but they even of themselves, through their own blind folly, have sorrows beyond that which is ordained. Even as now Aegisthus, beyond that which was ordained, took to himself the wedded wife of the son of Atreus, and slew him on his return, though well he knew of sheer destruction, seeing that we spake to him before, sending Hermes, the keen-sighted Argeiphontes, that he should neither slay the man nor woo his wife; for from Orestes shall come vengeance for the son of Atreus when once he has come to manhood and longs for his own land. So Hermes spoke, but for all his good intent he prevailed not upon the heart of Aegisthus; and now he has paid the full price of all.”\\n[44] Then the goddess, flash\""
      ]
     },
     "execution_count": 21,
     "metadata": {},
     "output_type": "execute_result"
    }
   ],
   "source": [
    "#example of part of Odysee book 1\n",
    "Odysee_soup.get_text()[4000:5000]"
   ]
  },
  {
   "cell_type": "code",
   "execution_count": 9,
   "id": "77213626",
   "metadata": {},
   "outputs": [],
   "source": [
    "#setting up the iliad\n",
    "\n",
    "Iliad_URL = \"https://www.theoi.com/Text/HomerIliad1.html\"\n",
    "Iliad_page = requests.get(Iliad_URL)\n",
    "Iliad_soup = BeautifulSoup(Iliad_page.content, \"html.parser\")"
   ]
  },
  {
   "cell_type": "code",
   "execution_count": 20,
   "id": "5e9544ac",
   "metadata": {},
   "outputs": [
    {
     "data": {
      "text/plain": [
       "'not protect you. Her I will not set free. Sooner shall old age come upon her in our house, in Argos, far from her native land, as she walks to and fro before the loom and serves my bed. But go, do not anger me, that you may return the safer.\"\\n[33] So he spoke, and the old man was seized with fear and obeyed his word. He went forth in silence along the shore of the loud-resounding sea, and earnestly then, when he had gone apart, the old man prayed\\xa0to the lord Apollo, whom fair-haired Leto bore: \"Hear me, god of the silver bow, who stand over Chryse and holy Cilla, and rule mightily over Tenedos, Sminthian god, if ever I roofed over a temple to your pleasing, or if ever I burned to you fat thigh-pieces of bulls and goats,\\xa0fulfill this prayer for me: let the Danaans pay for my tears by your arrows.\"\\n[43] So he spoke in prayer, and Phoebus Apollo heard him. Down from the peaks of Olympus he strode, angered at heart, bearing on his shoulders his bow and covered quiver. The arrows rattled on'"
      ]
     },
     "execution_count": 20,
     "metadata": {},
     "output_type": "execute_result"
    }
   ],
   "source": [
    "#example of part of Iliad book 1\n",
    "Iliad_soup.get_text()[4000:5000]"
   ]
  },
  {
   "cell_type": "code",
   "execution_count": 10,
   "id": "4efcade0",
   "metadata": {},
   "outputs": [
    {
     "name": "stdout",
     "output_type": "stream",
     "text": [
      "['https://www.theoi.com/Text/HomerOdyssey1.html', 'https://www.theoi.com/Text/HomerOdyssey2.html', 'https://www.theoi.com/Text/HomerOdyssey3.html', 'https://www.theoi.com/Text/HomerOdyssey4.html', 'https://www.theoi.com/Text/HomerOdyssey5.html', 'https://www.theoi.com/Text/HomerOdyssey6.html', 'https://www.theoi.com/Text/HomerOdyssey7.html', 'https://www.theoi.com/Text/HomerOdyssey8.html', 'https://www.theoi.com/Text/HomerOdyssey9.html', 'https://www.theoi.com/Text/HomerOdyssey10.html', 'https://www.theoi.com/Text/HomerOdyssey11.html', 'https://www.theoi.com/Text/HomerOdyssey12.html', 'https://www.theoi.com/Text/HomerOdyssey13.html', 'https://www.theoi.com/Text/HomerOdyssey14.html', 'https://www.theoi.com/Text/HomerOdyssey15.html', 'https://www.theoi.com/Text/HomerOdyssey16.html', 'https://www.theoi.com/Text/HomerOdyssey17.html', 'https://www.theoi.com/Text/HomerOdyssey18.html', 'https://www.theoi.com/Text/HomerOdyssey19.html', 'https://www.theoi.com/Text/HomerOdyssey20.html', 'https://www.theoi.com/Text/HomerOdyssey21.html', 'https://www.theoi.com/Text/HomerOdyssey22.html', 'https://www.theoi.com/Text/HomerOdyssey23.html', 'https://www.theoi.com/Text/HomerOdyssey24.html', 'https://www.theoi.com/Text/HomerOdyssey1.html', 'https://www.theoi.com/Text/HomerIliad1.html', 'https://www.theoi.com/Text/HomerIliad2.html', 'https://www.theoi.com/Text/HomerIliad3.html', 'https://www.theoi.com/Text/HomerIliad4.html', 'https://www.theoi.com/Text/HomerIliad5.html', 'https://www.theoi.com/Text/HomerIliad6.html', 'https://www.theoi.com/Text/HomerIliad7.html', 'https://www.theoi.com/Text/HomerIliad8.html', 'https://www.theoi.com/Text/HomerIliad9.html', 'https://www.theoi.com/Text/HomerIliad10.html', 'https://www.theoi.com/Text/HomerIliad11.html', 'https://www.theoi.com/Text/HomerIliad12.html', 'https://www.theoi.com/Text/HomerIliad13.html', 'https://www.theoi.com/Text/HomerIliad14.html', 'https://www.theoi.com/Text/HomerIliad15.html', 'https://www.theoi.com/Text/HomerIliad16.html', 'https://www.theoi.com/Text/HomerIliad17.html', 'https://www.theoi.com/Text/HomerIliad18.html', 'https://www.theoi.com/Text/HomerIliad19.html', 'https://www.theoi.com/Text/HomerIliad20.html', 'https://www.theoi.com/Text/HomerIliad21.html', 'https://www.theoi.com/Text/HomerIliad22.html', 'https://www.theoi.com/Text/HomerIliad23.html', 'https://www.theoi.com/Text/HomerIliad24.html', 'https://www.theoi.com/Text/HomerIliad1.html']\n"
     ]
    }
   ],
   "source": [
    "#creating a list where all the book links of the homer odysee & iliad are in\n",
    "\n",
    "Homer = []\n",
    "\n",
    "#Odysee\n",
    "for link in Odysee_soup.find_all('a'):\n",
    "    if \"HomerOdyssey\" in link.get('href'):\n",
    "        Homer.append(\"https://www.theoi.com/Text/\" + link.get('href'))\n",
    "        \n",
    "#Iliad\n",
    "for link in Iliad_soup.find_all('a'):\n",
    "    if \"HomerIliad\" in link.get('href'):\n",
    "        Homer.append(\"https://www.theoi.com/Text/\" + link.get('href'))\n",
    "print(Homer)"
   ]
  },
  {
   "cell_type": "code",
   "execution_count": 11,
   "id": "87eb36ef",
   "metadata": {},
   "outputs": [],
   "source": [
    "#function which takes a list of html-urls and prints the texts in there\n",
    "\n",
    "full_text = []\n",
    "def text(list):\n",
    "    for link in list:\n",
    "        p = requests.get(link)\n",
    "        s = BeautifulSoup(p.content, \"html.parser\")\n",
    "        full_text.append(s.get_text())\n",
    "        print(s.title) #check which books have been printed \n",
    "    #return full_text"
   ]
  },
  {
   "cell_type": "code",
   "execution_count": 12,
   "id": "49e393de",
   "metadata": {},
   "outputs": [
    {
     "name": "stdout",
     "output_type": "stream",
     "text": [
      "<title>HOMER, ODYSSEY BOOK 1 - Theoi Classical Texts Library</title>\n",
      "<title>HOMER, ODYSSEY BOOK 2 - Theoi Classical Texts Library</title>\n",
      "<title>HOMER, ODYSSEY BOOK 3 - Theoi Classical Texts Library</title>\n",
      "<title>HOMER, ODYSSEY BOOK 4 - Theoi Classical Texts Library</title>\n",
      "<title>HOMER, ODYSSEY BOOK 5 - Theoi Classical Texts Library</title>\n",
      "<title>HOMER, ODYSSEY BOOK 6 - Theoi Classical Texts Library</title>\n",
      "<title>HOMER, ODYSSEY BOOK 7 - Theoi Classical Texts Library</title>\n",
      "<title>HOMER, ODYSSEY BOOK 8 - Theoi Classical Texts Library</title>\n",
      "<title>HOMER, ODYSSEY BOOK 9 - Theoi Classical Texts Library</title>\n",
      "<title>HOMER, ODYSSEY BOOK 10 - Theoi Classical Texts Library</title>\n",
      "<title>HOMER, ODYSSEY BOOK 11 - Theoi Classical Texts Library</title>\n",
      "<title>HOMER, ODYSSEY BOOK 12 - Theoi Classical Texts Library</title>\n",
      "<title>HOMER, ODYSSEY BOOK 13 - Theoi Classical Texts Library</title>\n",
      "<title>HOMER, ODYSSEY BOOK 14 - Theoi Classical Texts Library</title>\n",
      "<title>HOMER, ODYSSEY BOOK 15 - Theoi Classical Texts Library</title>\n",
      "<title>HOMER, ODYSSEY BOOK 16 - Theoi Classical Texts Library</title>\n",
      "<title>HOMER, ODYSSEY BOOK 17 - Theoi Classical Texts Library</title>\n",
      "<title>HOMER, ODYSSEY BOOK 18 - Theoi Classical Texts Library</title>\n",
      "<title>HOMER, ODYSSEY BOOK 19 - Theoi Classical Texts Library</title>\n",
      "<title>HOMER, ODYSSEY BOOK 20 - Theoi Classical Texts Library</title>\n",
      "<title>HOMER, ODYSSEY BOOK 21 - Theoi Classical Texts Library</title>\n",
      "<title>HOMER, ODYSSEY BOOK 22 - Theoi Classical Texts Library</title>\n",
      "<title>HOMER, ODYSSEY BOOK 23 - Theoi Classical Texts Library</title>\n",
      "<title>HOMER, ODYSSEY BOOK 24 - Theoi Classical Texts Library</title>\n",
      "<title>HOMER, ODYSSEY BOOK 1 - Theoi Classical Texts Library</title>\n",
      "<title>HOMER, ILIAD BOOK 1 - Theoi Classical Texts Library</title>\n",
      "<title>HOMER, ILIAD BOOK 2 - Theoi Classical Texts Library</title>\n",
      "<title>HOMER, ILIAD BOOK 3 - Theoi Classical Texts Library</title>\n",
      "<title>HOMER, ILIAD BOOK 4 - Theoi Classical Texts Library</title>\n",
      "<title>HOMER, ILIAD BOOK 5 - Theoi Classical Texts Library</title>\n",
      "<title>HOMER, ILIAD BOOK 6 - Theoi Classical Texts Library</title>\n",
      "<title>HOMER, ILIAD BOOK 7 - Theoi Classical Texts Library</title>\n",
      "<title>HOMER, ILIAD BOOK 8 - Theoi Classical Texts Library</title>\n",
      "<title>HOMER, ILIAD BOOK 9 - Theoi Classical Texts Library</title>\n",
      "<title>HOMER, ILIAD BOOK 10 - Theoi Classical Texts Library</title>\n",
      "<title>HOMER, ILIAD BOOK 11 - Theoi Classical Texts Library</title>\n",
      "<title>HOMER, ILIAD BOOK 12 - Theoi Classical Texts Library</title>\n",
      "<title>HOMER, ILIAD BOOK 13 - Theoi Classical Texts Library</title>\n",
      "<title>HOMER, ILIAD BOOK 14 - Theoi Classical Texts Library</title>\n",
      "<title>HOMER, ILIAD BOOK 15 - Theoi Classical Texts Library</title>\n",
      "<title>HOMER, ILIAD BOOK 16 - Theoi Classical Texts Library</title>\n",
      "<title>HOMER, ILIAD BOOK 17 - Theoi Classical Texts Library</title>\n",
      "<title>HOMER, ILIAD BOOK 18 - Theoi Classical Texts Library</title>\n",
      "<title>HOMER, ILIAD BOOK 19 - Theoi Classical Texts Library</title>\n",
      "<title>HOMER, ILIAD BOOK 20 - Theoi Classical Texts Library</title>\n",
      "<title>HOMER, ILIAD BOOK 21 - Theoi Classical Texts Library</title>\n",
      "<title>HOMER, ILIAD BOOK 22 - Theoi Classical Texts Library</title>\n",
      "<title>HOMER, ILIAD BOOK 23 - Theoi Classical Texts Library</title>\n",
      "<title>HOMER, ILIAD BOOK 24 - Theoi Classical Texts Library</title>\n",
      "<title>HOMER, ILIAD BOOK 1 - Theoi Classical Texts Library</title>\n",
      "None\n"
     ]
    }
   ],
   "source": [
    "print(text(Homer))"
   ]
  },
  {
   "cell_type": "code",
   "execution_count": 6,
   "id": "82111a69",
   "metadata": {},
   "outputs": [],
   "source": [
    "#save full_text to txt file to import to preprocessing \n",
    "\n",
    "textfile = open(\"homer_text_file.txt\", \"w\")\n",
    "for element in full_text:\n",
    "    textfile.write(element + \"\\n\")\n",
    "textfile.close()"
   ]
  },
  {
   "cell_type": "code",
   "execution_count": null,
   "id": "3064997b",
   "metadata": {},
   "outputs": [],
   "source": []
  }
 ],
 "metadata": {
  "kernelspec": {
   "display_name": "Python 3 (ipykernel)",
   "language": "python",
   "name": "python3"
  },
  "language_info": {
   "codemirror_mode": {
    "name": "ipython",
    "version": 3
   },
   "file_extension": ".py",
   "mimetype": "text/x-python",
   "name": "python",
   "nbconvert_exporter": "python",
   "pygments_lexer": "ipython3",
   "version": "3.9.7"
  }
 },
 "nbformat": 4,
 "nbformat_minor": 5
}
