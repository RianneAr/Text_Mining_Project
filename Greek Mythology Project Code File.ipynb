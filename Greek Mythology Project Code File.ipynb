{
 "cells": [
  {
   "cell_type": "markdown",
   "id": "c6a17586",
   "metadata": {},
   "source": [
    "# Greek Mythology Project: Code File"
   ]
  },
  {
   "cell_type": "markdown",
   "id": "935ed2b9",
   "metadata": {},
   "source": [
    "In this document you will find the following: <br>\n",
    "- [Necessary imports](#Necessary-imports)\n",
    "- [Data Acquisition](#Data-Acquisition)\n",
    "- [Preprocessing](#Preprocessing)\n",
    "- [Data Exploration](#Data-Exploration) \n",
    "- [Model](#Model) + [Word Embeddings](#Word-Embeddings)\n",
    "- [Data Visualisation](#Data-Visualisation)"
   ]
  },
  {
   "cell_type": "markdown",
   "id": "ec932fe6",
   "metadata": {},
   "source": [
    "## Necessary imports"
   ]
  },
  {
   "cell_type": "code",
   "execution_count": 1,
   "id": "9d5a413b",
   "metadata": {},
   "outputs": [],
   "source": [
    "import numpy as np\n",
    "import nltk\n",
    "import json\n",
    "import urllib\n",
    "import requests\n",
    "import matplotlib.pyplot as plt\n",
    "import gensim.downloader as api\n",
    "from nltk.tokenize import sent_tokenize, word_tokenize\n",
    "from nltk.stem.wordnet import WordNetLemmatizer\n",
    "from gensim.models import Word2Vec\n",
    "from collections import Counter\n",
    "from urllib.request import urlopen\n",
    "from bs4 import BeautifulSoup"
   ]
  },
  {
   "cell_type": "code",
   "execution_count": 2,
   "id": "eefa5dbe",
   "metadata": {},
   "outputs": [],
   "source": [
    "with open('mortaldict.json', 'r') as f:\n",
    "    mortaldict = json.load(f)\n",
    "    \n",
    "with open('goddict.json', 'r') as f:\n",
    "    goddict = json.load(f)"
   ]
  },
  {
   "cell_type": "markdown",
   "id": "025491dc",
   "metadata": {},
   "source": [
    "## Data Acquisition"
   ]
  },
  {
   "cell_type": "markdown",
   "id": "b2109ec0",
   "metadata": {},
   "source": [
    "All our texts will be extracted from the website [theoi](https://www.theoi.com/). It contains almost all of the original texts of Greek Mythology translated into English. In this project, we have decided to extract some of the more popular stories, namely; [Homer Odysee](#Homer-Odysee) , [The Iliad](#The-Iliad) , [The Fall of Troy](#The-Fall-of-Troy) , and the [Ovid Metamorphosis](#Ovid-Metamorphosis)."
   ]
  },
  {
   "cell_type": "markdown",
   "id": "b1cf64aa",
   "metadata": {},
   "source": [
    "#### Homer Odysee"
   ]
  },
  {
   "cell_type": "code",
   "execution_count": 3,
   "id": "deda858d",
   "metadata": {},
   "outputs": [
    {
     "data": {
      "text/plain": [
       "\"ather of gods and men was first to speak, for in his heart he thought of noble Aegisthus, whom far-famed Orestes, Agamemnon's son, had slain. Thinking on him he spoke among the immortals, and said: “Look you now, how ready mortals are to blame the gods. It is from us, they say, that evils come, but they even of themselves, through their own blind folly, have sorrows beyond that which is ordained. Even as now Aegisthus, beyond that which was ordained, took to himself the wedded wife of the son of\""
      ]
     },
     "execution_count": 3,
     "metadata": {},
     "output_type": "execute_result"
    }
   ],
   "source": [
    "Odysee_URL = \"https://www.theoi.com/Text/HomerOdyssey1.html\"\n",
    "Odysee_page = requests.get(Odysee_URL)\n",
    "Odysee_soup = BeautifulSoup(Odysee_page.content, \"html.parser\")\n",
    "\n",
    "#visual part of text\n",
    "Odysee_soup.get_text()[4000:4500]"
   ]
  },
  {
   "cell_type": "markdown",
   "id": "4e80b4fd",
   "metadata": {},
   "source": [
    "#### The Iliad"
   ]
  },
  {
   "cell_type": "code",
   "execution_count": 4,
   "id": "0b437c1f",
   "metadata": {},
   "outputs": [
    {
     "data": {
      "text/plain": [
       "'not protect you. Her I will not set free. Sooner shall old age come upon her in our house, in Argos, far from her native land, as she walks to and fro before the loom and serves my bed. But go, do not anger me, that you may return the safer.\"\\n[33] So he spoke, and the old man was seized with fear and obeyed his word. He went forth in silence along the shore of the loud-resounding sea, and earnestly then, when he had gone apart, the old man prayed\\xa0to the lord Apollo, whom fair-haired Leto bore: \"'"
      ]
     },
     "execution_count": 4,
     "metadata": {},
     "output_type": "execute_result"
    }
   ],
   "source": [
    "Iliad_URL = \"https://www.theoi.com/Text/HomerIliad1.html\"\n",
    "Iliad_page = requests.get(Iliad_URL)\n",
    "Iliad_soup = BeautifulSoup(Iliad_page.content, \"html.parser\")\n",
    "\n",
    "#visual part of text\n",
    "Iliad_soup.get_text()[4000:4500]"
   ]
  },
  {
   "cell_type": "markdown",
   "id": "939cba89",
   "metadata": {},
   "source": [
    "#### The Fall of Troy"
   ]
  },
  {
   "cell_type": "code",
   "execution_count": 5,
   "id": "ae470003",
   "metadata": {},
   "outputs": [
    {
     "data": {
      "text/plain": [
       "\" she mid that charging host. Clonie was there, Polemusa, Derinoe, Evandre, and Antandre, and Bremusa, Hippothoe, dark-eyed Harmothoe, Alcibie, Derimacheia, Antibrote, and Thermodosa glorying with the spear. All these to battle fared with warrior-souled Penthesileia: even as when descends Dawn from Olympus' crest of adamant, Dawn, heart-exultant in her radiant steeds amidst the bright-haired Hours; and o'er them all, how flawless-fair soever these may be, her splendour of beauty glows pre-eminent\""
      ]
     },
     "execution_count": 5,
     "metadata": {},
     "output_type": "execute_result"
    }
   ],
   "source": [
    "Troy_URL = \"https://www.theoi.com/Text/QuintusSmyrnaeus1.html\"\n",
    "Troy_page = requests.get(Troy_URL)\n",
    "Troy_soup = BeautifulSoup(Troy_page.content, \"html.parser\")\n",
    "\n",
    "#visual part of text\n",
    "Troy_soup.get_text()[4000:4500]"
   ]
  },
  {
   "cell_type": "markdown",
   "id": "e9d7fa83",
   "metadata": {},
   "source": [
    "#### Ovid Metamorphosis"
   ]
  },
  {
   "cell_type": "code",
   "execution_count": 6,
   "id": "5f099c08",
   "metadata": {},
   "outputs": [
    {
     "data": {
      "text/plain": [
       "'aste. It was a rude and undeveloped mass, that nothing made except a ponderous weight; and all discordant elements confused, were there congested in a shapeless heap. As yet the sun afforded earth no light, nor did the moon renew her crescent horns; the earth was not suspended in the air exactly balanced by her heavy weight. Not far along the margin of the shores had Amphitrite stretched her lengthened arms,—for all the land was mixed with sea and air. The land was soft, the sea unfit to sail, t'"
      ]
     },
     "execution_count": 6,
     "metadata": {},
     "output_type": "execute_result"
    }
   ],
   "source": [
    "OvidM_URL = \"https://www.theoi.com/Text/OvidMetamorphoses1.html\"\n",
    "OvidM_page = requests.get(OvidM_URL)\n",
    "OvidM_soup = BeautifulSoup(OvidM_page.content, \"html.parser\")\n",
    "\n",
    "#visual part of text\n",
    "OvidM_soup.get_text()[4000:4500]"
   ]
  },
  {
   "cell_type": "markdown",
   "id": "ad5200a7",
   "metadata": {},
   "source": [
    "Now that we have the starting pages of all 4 stories, we will have to find a way to extract the other chapters which are linked in the home pages.  As seen in the code below, the links to the other chapthers (called BOOKS), always have the following format: <br> \n",
    "< a href=\"HomerOdyssey1.html\">BOOK 1</a >, <br>\n",
    "< a href=\"HomerOdyssey2.html\">BOOK 2</a >,\n"
   ]
  },
  {
   "cell_type": "code",
   "execution_count": 7,
   "id": "0fca36fe",
   "metadata": {},
   "outputs": [
    {
     "data": {
      "text/plain": [
       "[<a class=\"navbar-brand\" href=\"https://www.theoi.com/Library.html\">Theoi Project - Classical Texts Library</a>,\n",
       " <a href=\"../Library.html\">LIBRARY HOME</a>,\n",
       " <a href=\"https://www.theoi.com/\">GREEK MYTHOLOGY</a>,\n",
       " <a aria-expanded=\"false\" aria-haspopup=\"true\" class=\"dropdown-toggle\" data-toggle=\"dropdown\" href=\"#\" role=\"button\">GREEK GODS<span class=\"caret\"></span></a>,\n",
       " <a href=\"../greek-mythology/olympian-gods.html\">Olympian Gods</a>,\n",
       " <a href=\"../greek-mythology/primeval-gods.html\">Primordial Gods</a>,\n",
       " <a href=\"../greek-mythology/titans.html\">Titan Gods</a>,\n",
       " <a href=\"../greek-mythology/sky-gods.html\">Sky Gods</a>,\n",
       " <a href=\"../greek-mythology/sea-gods.html\">Sea Gods</a>,\n",
       " <a href=\"../greek-mythology/rustic-gods.html\">Rustic Gods</a>,\n",
       " <a href=\"../greek-mythology/underworld-gods.html\">Underworld Gods</a>,\n",
       " <a href=\"../greek-mythology/personifications.html\">Daemones-Spirits</a>,\n",
       " <a href=\"../greek-mythology/nymphs.html\">Nymphs</a>,\n",
       " <a href=\"../greek-mythology/greek-gods.html\">more &gt;&gt;</a>,\n",
       " <a href=\"../greek-mythology/bestiary.html\">BESTIARY</a>,\n",
       " <a href=\"../greek-mythology/heroes.html\">HEROES</a>,\n",
       " <a aria-expanded=\"false\" aria-haspopup=\"true\" class=\"dropdown-toggle\" data-toggle=\"dropdown\" href=\"#\" role=\"button\">MISCELLANY<span class=\"caret\"></span></a>,\n",
       " <a href=\"../greek-mythology/encyclopedia-a.html\">Gods, Spirits &amp; Monsters A-Z</a>,\n",
       " <a href=\"../Tree.html\">Family Tree of the Gods</a>,\n",
       " <a href=\"../greek-mythology/fabulous-tribes.html\">Legendary Tribes</a>,\n",
       " <a href=\"../greek-mythology/fantastic-creatures.html\">Legendary Creatures</a>,\n",
       " <a href=\"../greek-mythology/star-myths.html\">Star Myths</a>,\n",
       " <a href=\"../Flora1.html\">Plant &amp; Flower Myths</a>,\n",
       " <a href=\"../Galleries.html\">GALLERY</a>,\n",
       " <a href=\"../Library.html\">Classical Texts Library</a>,\n",
       " <a href=\"HomerOdyssey1.html\">BOOK 1</a>,\n",
       " <a href=\"HomerOdyssey2.html\">BOOK 2</a>,\n",
       " <a href=\"HomerOdyssey3.html\">BOOK 3</a>,\n",
       " <a href=\"HomerOdyssey4.html\">BOOK 4</a>,\n",
       " <a href=\"HomerOdyssey5.html\">BOOK 5</a>,\n",
       " <a href=\"HomerOdyssey6.html\">BOOK 6</a>,\n",
       " <a href=\"HomerOdyssey7.html\">BOOK 7</a>,\n",
       " <a href=\"HomerOdyssey8.html\">BOOK 8</a>,\n",
       " <a href=\"HomerOdyssey9.html\">BOOK 9</a>,\n",
       " <a href=\"HomerOdyssey10.html\">BOOK 10</a>,\n",
       " <a href=\"HomerOdyssey11.html\">BOOK 11</a>,\n",
       " <a href=\"HomerOdyssey12.html\">BOOK 12</a>,\n",
       " <a href=\"HomerOdyssey13.html\">BOOK 13</a>,\n",
       " <a href=\"HomerOdyssey14.html\">BOOK 14</a>,\n",
       " <a href=\"HomerOdyssey15.html\">BOOK 15</a>,\n",
       " <a href=\"HomerOdyssey16.html\">BOOK 16</a>,\n",
       " <a href=\"HomerOdyssey17.html\">BOOK 17</a>,\n",
       " <a href=\"HomerOdyssey18.html\">BOOK 18</a>,\n",
       " <a href=\"HomerOdyssey19.html\">BOOK 19</a>,\n",
       " <a href=\"HomerOdyssey20.html\">BOOK 20</a>,\n",
       " <a href=\"HomerOdyssey21.html\">BOOK 21</a>,\n",
       " <a href=\"HomerOdyssey22.html\">BOOK 22</a>,\n",
       " <a href=\"HomerOdyssey23.html\">BOOK 23</a>,\n",
       " <a href=\"HomerOdyssey24.html\">BOOK 24</a>,\n",
       " <a href=\"AeschylusAgamemnon.html\">Aeschylus, Agamemnon</a>,\n",
       " <a href=\"AeschylusEumenides.html\">Aeschylus, Eumenides</a>,\n",
       " <a href=\"AeschylusLibation.html\">Aeschylus, Libation Bearers</a>,\n",
       " <a href=\"AeschylusPrometheus.html\">Aeschylus, Prometheus Bound</a>,\n",
       " <a href=\"AeschylusSeven.html\">Aeschylus, Seven Against Thebes</a>,\n",
       " <a href=\"AeschylusSuppliants.html\">Aeschylus, Suppliant Women</a>,\n",
       " <a href=\"AeschylusFragments.html\">Aeschylus, Fragments</a>,\n",
       " <a href=\"LyraGraeca1B.html\">Alcman, Fragments</a>,\n",
       " <a href=\"Apollodorus1.html\">Apollodorus, The Library</a>,\n",
       " <a href=\"ApolloniusRhodius1.html\">Apollonius Rhodius, Argonautica</a>,\n",
       " <a href=\"AratusPhaenomena.html\">Aratus of Soli, Phaenomena</a>,\n",
       " <a href=\"Bion.html\">Bion, Poems</a>,\n",
       " <a href=\"CallimachusHymns1.html\">Callimachus, Hymns</a>,\n",
       " <a href=\"Callistratus.html\">Callistratus, Descriptions</a>,\n",
       " <a href=\"ClaudianGigantomachy.html\">Claudian, Gigantomachia</a>,\n",
       " <a href=\"ClaudianProserpine.html\">Claudian, Rape of Proserpine</a>,\n",
       " <a href=\"ClementExhortation1.html\">Clement, Exhortation to the Greeks</a>,\n",
       " <a href=\"ClementRecognitions.html\">Clement, Recognitions</a>,\n",
       " <a href=\"Colluthus.html\">Colluthus, Rape of Helen</a>,\n",
       " <a href=\"DaresPhrygius.html\">Dares Phrygius</a>,\n",
       " <a href=\"DictysCretensis1.html\">Dictys Cretensis</a>,\n",
       " <a href=\"DiodorusSiculus4A.html\">Diodorus Siculus, Library of History</a>,\n",
       " <a href=\"EpicCycle.html\">Epic Cycle Fragments</a>,\n",
       " <a href=\"FulgentiusMythologies1.html\">Fulgentius, Mythologies</a>,\n",
       " <a href=\"LyraGraeca1A.html\">Greek Lyric Fragments</a>,\n",
       " <a href=\"HesiodShield.html\">Hesiod, Shield of Heracles</a>,\n",
       " <a href=\"HesiodTheogony.html\">Hesiod, Theogony</a>,\n",
       " <a href=\"HesiodWorksDays.html\">Hesiod, Works and Days</a>,\n",
       " <a href=\"HesiodCatalogues.html\">Hesiod, Fragments</a>,\n",
       " <a href=\"HomerIliad1.html\">Homer, Iliad</a>,\n",
       " <a href=\"HomerOdyssey1.html\">Homer, Odyssey</a>,\n",
       " <a href=\"HomericHymns1.html\">Homeric Hymns</a>,\n",
       " <a href=\"HyginusAstronomica.html\">Hyginus, Astronomica</a>,\n",
       " <a href=\"HyginusFabulae1.html\">Hyginus, Fabulae</a>,\n",
       " <a href=\"LucianDialoguesDead1.html\">Lucian, Dialogues of the Dead</a>,\n",
       " <a href=\"LucianDialoguesGods1.html\">Lucian, Dialogues of the Gods</a>,\n",
       " <a href=\"LycophronAlexandra.html\">Lycophron, Alexandra</a>,\n",
       " <a href=\"Moschus.html\">Moschus, Poems</a>,\n",
       " <a href=\"NonnusDionysiaca1.html\">Nonnus, Dionysiaca</a>,\n",
       " <a href=\"OrphicHymns1.html\">Orphic Hymns</a>,\n",
       " <a href=\"OvidFasti1.html\">Ovid, Fasti</a>,\n",
       " <a href=\"OvidHeroides1.html\">Ovid, Heroides</a>,\n",
       " <a href=\"OvidMetamorphoses1.html\">Ovid, Metamorphoses</a>,\n",
       " <a href=\"Parthenius.html\">Parthenius, Love Romances</a>,\n",
       " <a href=\"PatternPoems.html\">Pattern Poems</a>,\n",
       " <a href=\"Pausanias1A.html\">Pausanias, Description of Greece</a>,\n",
       " <a href=\"PhilostratusElder1A.html\">Philostratus the Elder, Imagines</a>,\n",
       " <a href=\"PhilostratusYounger.html\">Philostratus the Younger, Imagines</a>,\n",
       " <a href=\"PlutarchTheseus.html\">Plutarch, Life of Theseus</a>,\n",
       " <a href=\"PlutarchParallelStories.html\">Plutarch, Parallel Stories</a>,\n",
       " <a href=\"QuintusSmyrnaeus1.html\">Quintus Smyrnaeus, Fall of Troy</a>,\n",
       " <a href=\"SenecaAgamemnon.html\">Seneca, Agamemnon</a>,\n",
       " <a href=\"SenecaHerculesFurens.html\">Seneca, Hercules Furens</a>,\n",
       " <a href=\"SenecaHerculesOetaeus.html\">Seneca, Hercules Oetaeus</a>,\n",
       " <a href=\"SenecaMedea.html\">Seneca, Medea</a>,\n",
       " <a href=\"SenecaOedipus.html\">Seneca, Oedipus</a>,\n",
       " <a href=\"SenecaPhaedra.html\">Seneca, Phaedra</a>,\n",
       " <a href=\"SenecaPhoenissae.html\">Seneca, Phoenissae</a>,\n",
       " <a href=\"SenecaThyestes.html\">Seneca, Thyestes</a>,\n",
       " <a href=\"SenecaTroades.html\">Seneca, Troades</a>,\n",
       " <a href=\"StatiusAchilleid1A.html\">Statius, Achilleid</a>,\n",
       " <a href=\"StatiusThebaid1.html\">Statius, Thebaid</a>,\n",
       " <a href=\"TheocritusIdylls1.html\">Theocritus, Idylls</a>,\n",
       " <a href=\"Tryphiodorus.html\">Tryphiodorus, Taking of Ilios</a>,\n",
       " <a href=\"TzetzesChiliades1.html\">Tzetzes, Chiliades</a>,\n",
       " <a href=\"ValeriusFlaccus1.html\">Valerius Flaccus, Argonautica</a>,\n",
       " <a href=\"VirgilAeneid1.html\">Virgil, Aeneid</a>,\n",
       " <a href=\"VirgilEclogues.html\">Virgil, Eclogues</a>,\n",
       " <a href=\"VirgilGeorgics1.html\">Virgil, Georgics</a>,\n",
       " <a href=\"/articles/\">RECENT ARTICLES</a>,\n",
       " <a href=\"/articles/was-achilles-a-warrior/\">Who Was Achilles A Warrior?</a>,\n",
       " <a href=\"/articles/what-were-the-12-labors-of-hercules/\">What Were The 12 Labors of Hercules?</a>,\n",
       " <a href=\"/articles/significance-of-greek-mythology-fire/\">Gods, Spirits &amp; Monsters A - Z</a>,\n",
       " <a href=\"/contact.php\">Contact Us</a>]"
      ]
     },
     "execution_count": 7,
     "metadata": {},
     "output_type": "execute_result"
    }
   ],
   "source": [
    "Odysee_soup.find_all('a')"
   ]
  },
  {
   "cell_type": "markdown",
   "id": "0586f911",
   "metadata": {},
   "source": [
    "Now that we know what we are looking for, we will create a list which has all the links to the different chapters which we can then loop through later.  "
   ]
  },
  {
   "cell_type": "code",
   "execution_count": 8,
   "id": "e780c925",
   "metadata": {},
   "outputs": [
    {
     "name": "stdout",
     "output_type": "stream",
     "text": [
      "https://www.theoi.com/Text/HomerOdyssey1.html\n",
      "https://www.theoi.com/Text/HomerOdyssey2.html\n",
      "https://www.theoi.com/Text/HomerOdyssey3.html\n",
      "https://www.theoi.com/Text/HomerOdyssey4.html\n",
      "https://www.theoi.com/Text/HomerOdyssey5.html\n",
      "https://www.theoi.com/Text/HomerOdyssey6.html\n",
      "https://www.theoi.com/Text/HomerOdyssey7.html\n",
      "https://www.theoi.com/Text/HomerOdyssey8.html\n",
      "https://www.theoi.com/Text/HomerOdyssey9.html\n",
      "https://www.theoi.com/Text/HomerOdyssey10.html\n",
      "https://www.theoi.com/Text/HomerOdyssey11.html\n",
      "https://www.theoi.com/Text/HomerOdyssey12.html\n",
      "https://www.theoi.com/Text/HomerOdyssey13.html\n",
      "https://www.theoi.com/Text/HomerOdyssey14.html\n",
      "https://www.theoi.com/Text/HomerOdyssey15.html\n",
      "https://www.theoi.com/Text/HomerOdyssey16.html\n",
      "https://www.theoi.com/Text/HomerOdyssey17.html\n",
      "https://www.theoi.com/Text/HomerOdyssey18.html\n",
      "https://www.theoi.com/Text/HomerOdyssey19.html\n",
      "https://www.theoi.com/Text/HomerOdyssey20.html\n",
      "https://www.theoi.com/Text/HomerOdyssey21.html\n",
      "https://www.theoi.com/Text/HomerOdyssey22.html\n",
      "https://www.theoi.com/Text/HomerOdyssey23.html\n",
      "https://www.theoi.com/Text/HomerOdyssey24.html\n",
      "https://www.theoi.com/Text/HomerOdyssey1.html\n",
      "https://www.theoi.com/Text/HomerIliad1.html\n",
      "https://www.theoi.com/Text/HomerIliad2.html\n",
      "https://www.theoi.com/Text/HomerIliad3.html\n",
      "https://www.theoi.com/Text/HomerIliad4.html\n",
      "https://www.theoi.com/Text/HomerIliad5.html\n",
      "https://www.theoi.com/Text/HomerIliad6.html\n",
      "https://www.theoi.com/Text/HomerIliad7.html\n",
      "https://www.theoi.com/Text/HomerIliad8.html\n",
      "https://www.theoi.com/Text/HomerIliad9.html\n",
      "https://www.theoi.com/Text/HomerIliad10.html\n",
      "https://www.theoi.com/Text/HomerIliad11.html\n",
      "https://www.theoi.com/Text/HomerIliad12.html\n",
      "https://www.theoi.com/Text/HomerIliad13.html\n",
      "https://www.theoi.com/Text/HomerIliad14.html\n",
      "https://www.theoi.com/Text/HomerIliad15.html\n",
      "https://www.theoi.com/Text/HomerIliad16.html\n",
      "https://www.theoi.com/Text/HomerIliad17.html\n",
      "https://www.theoi.com/Text/HomerIliad18.html\n",
      "https://www.theoi.com/Text/HomerIliad19.html\n",
      "https://www.theoi.com/Text/HomerIliad20.html\n",
      "https://www.theoi.com/Text/HomerIliad21.html\n",
      "https://www.theoi.com/Text/HomerIliad22.html\n",
      "https://www.theoi.com/Text/HomerIliad23.html\n",
      "https://www.theoi.com/Text/HomerIliad24.html\n",
      "https://www.theoi.com/Text/HomerIliad1.html\n",
      "https://www.theoi.com/Text/QuintusSmyrnaeus1.html\n",
      "https://www.theoi.com/Text/QuintusSmyrnaeus2.html\n",
      "https://www.theoi.com/Text/QuintusSmyrnaeus3.html\n",
      "https://www.theoi.com/Text/QuintusSmyrnaeus4.html\n",
      "https://www.theoi.com/Text/QuintusSmyrnaeus5.html\n",
      "https://www.theoi.com/Text/QuintusSmyrnaeus6.html\n",
      "https://www.theoi.com/Text/QuintusSmyrnaeus7.html\n",
      "https://www.theoi.com/Text/QuintusSmyrnaeus8.html\n",
      "https://www.theoi.com/Text/QuintusSmyrnaeus9.html\n",
      "https://www.theoi.com/Text/QuintusSmyrnaeus10.html\n",
      "https://www.theoi.com/Text/QuintusSmyrnaeus11.html\n",
      "https://www.theoi.com/Text/QuintusSmyrnaeus12.html\n",
      "https://www.theoi.com/Text/QuintusSmyrnaeus13.html\n",
      "https://www.theoi.com/Text/QuintusSmyrnaeus14.html\n",
      "https://www.theoi.com/Text/QuintusSmyrnaeus1.html\n",
      "https://www.theoi.com/Text/OvidMetamorphoses1.html\n",
      "https://www.theoi.com/Text/OvidMetamorphoses2.html\n",
      "https://www.theoi.com/Text/OvidMetamorphoses3.html\n",
      "https://www.theoi.com/Text/OvidMetamorphoses4.html\n",
      "https://www.theoi.com/Text/OvidMetamorphoses5.html\n",
      "https://www.theoi.com/Text/OvidMetamorphoses6.html\n",
      "https://www.theoi.com/Text/OvidMetamorphoses7.html\n",
      "https://www.theoi.com/Text/OvidMetamorphoses8.html\n",
      "https://www.theoi.com/Text/OvidMetamorphoses9.html\n",
      "https://www.theoi.com/Text/OvidMetamorphoses10.html\n",
      "https://www.theoi.com/Text/OvidMetamorphoses11.html\n",
      "https://www.theoi.com/Text/OvidMetamorphoses12.html\n",
      "https://www.theoi.com/Text/OvidMetamorphoses13.html\n",
      "https://www.theoi.com/Text/OvidMetamorphoses14.html\n",
      "https://www.theoi.com/Text/OvidMetamorphoses15.html\n",
      "https://www.theoi.com/Text/OvidMetamorphoses1.html\n"
     ]
    }
   ],
   "source": [
    "Websites = []\n",
    "\n",
    "#Odysee\n",
    "for link in Odysee_soup.find_all('a'):\n",
    "    if \"HomerOdyssey\" in link.get('href'):\n",
    "        Websites.append(\"https://www.theoi.com/Text/\" + link.get('href'))\n",
    "        \n",
    "#Iliad\n",
    "for link in Iliad_soup.find_all('a'):\n",
    "    if \"HomerIliad\" in link.get('href'):\n",
    "        Websites.append(\"https://www.theoi.com/Text/\" + link.get('href'))\n",
    "        \n",
    "#Troy\n",
    "for link in Troy_soup.find_all('a'):\n",
    "    if \"QuintusSmyrnaeus\" in link.get('href'):\n",
    "        Websites.append(\"https://www.theoi.com/Text/\" + link.get('href'))\n",
    "        \n",
    "#Ovid-Metamorphosis\n",
    "for link in OvidM_soup.find_all('a'):\n",
    "    if link.get('href') == None:\n",
    "        continue\n",
    "    elif \"OvidMetamorphoses\" in link.get('href') and not '#' in link.get('href'):\n",
    "        Websites.append(\"https://www.theoi.com/Text/\" + link.get('href'))    \n",
    "\n",
    "#visualise all the chapters\n",
    "for web in Websites:\n",
    "    print(web)"
   ]
  },
  {
   "cell_type": "markdown",
   "id": "4be6a8f5",
   "metadata": {},
   "source": [
    "Now that we have all the html links to the chapters of the books we want to use, we will scrape the text off them and combind it all into one list."
   ]
  },
  {
   "cell_type": "code",
   "execution_count": 15,
   "id": "68138a4e",
   "metadata": {},
   "outputs": [
    {
     "name": "stdout",
     "output_type": "stream",
     "text": [
      "<title>HOMER, ODYSSEY BOOK 1 - Theoi Classical Texts Library</title>\n",
      "<title>HOMER, ODYSSEY BOOK 2 - Theoi Classical Texts Library</title>\n",
      "<title>HOMER, ODYSSEY BOOK 3 - Theoi Classical Texts Library</title>\n",
      "<title>HOMER, ODYSSEY BOOK 4 - Theoi Classical Texts Library</title>\n",
      "<title>HOMER, ODYSSEY BOOK 5 - Theoi Classical Texts Library</title>\n",
      "<title>HOMER, ODYSSEY BOOK 6 - Theoi Classical Texts Library</title>\n",
      "<title>HOMER, ODYSSEY BOOK 7 - Theoi Classical Texts Library</title>\n",
      "<title>HOMER, ODYSSEY BOOK 8 - Theoi Classical Texts Library</title>\n",
      "<title>HOMER, ODYSSEY BOOK 9 - Theoi Classical Texts Library</title>\n",
      "<title>HOMER, ODYSSEY BOOK 10 - Theoi Classical Texts Library</title>\n",
      "<title>HOMER, ODYSSEY BOOK 11 - Theoi Classical Texts Library</title>\n",
      "<title>HOMER, ODYSSEY BOOK 12 - Theoi Classical Texts Library</title>\n",
      "<title>HOMER, ODYSSEY BOOK 13 - Theoi Classical Texts Library</title>\n",
      "<title>HOMER, ODYSSEY BOOK 14 - Theoi Classical Texts Library</title>\n",
      "<title>HOMER, ODYSSEY BOOK 15 - Theoi Classical Texts Library</title>\n",
      "<title>HOMER, ODYSSEY BOOK 16 - Theoi Classical Texts Library</title>\n",
      "<title>HOMER, ODYSSEY BOOK 17 - Theoi Classical Texts Library</title>\n",
      "<title>HOMER, ODYSSEY BOOK 18 - Theoi Classical Texts Library</title>\n",
      "<title>HOMER, ODYSSEY BOOK 19 - Theoi Classical Texts Library</title>\n",
      "<title>HOMER, ODYSSEY BOOK 20 - Theoi Classical Texts Library</title>\n",
      "<title>HOMER, ODYSSEY BOOK 21 - Theoi Classical Texts Library</title>\n",
      "<title>HOMER, ODYSSEY BOOK 22 - Theoi Classical Texts Library</title>\n",
      "<title>HOMER, ODYSSEY BOOK 23 - Theoi Classical Texts Library</title>\n",
      "<title>HOMER, ODYSSEY BOOK 24 - Theoi Classical Texts Library</title>\n",
      "<title>HOMER, ODYSSEY BOOK 1 - Theoi Classical Texts Library</title>\n",
      "<title>HOMER, ILIAD BOOK 1 - Theoi Classical Texts Library</title>\n",
      "<title>HOMER, ILIAD BOOK 2 - Theoi Classical Texts Library</title>\n",
      "<title>HOMER, ILIAD BOOK 3 - Theoi Classical Texts Library</title>\n",
      "<title>HOMER, ILIAD BOOK 4 - Theoi Classical Texts Library</title>\n",
      "<title>HOMER, ILIAD BOOK 5 - Theoi Classical Texts Library</title>\n",
      "<title>HOMER, ILIAD BOOK 6 - Theoi Classical Texts Library</title>\n",
      "<title>HOMER, ILIAD BOOK 7 - Theoi Classical Texts Library</title>\n",
      "<title>HOMER, ILIAD BOOK 8 - Theoi Classical Texts Library</title>\n",
      "<title>HOMER, ILIAD BOOK 9 - Theoi Classical Texts Library</title>\n",
      "<title>HOMER, ILIAD BOOK 10 - Theoi Classical Texts Library</title>\n",
      "<title>HOMER, ILIAD BOOK 11 - Theoi Classical Texts Library</title>\n",
      "<title>HOMER, ILIAD BOOK 12 - Theoi Classical Texts Library</title>\n",
      "<title>HOMER, ILIAD BOOK 13 - Theoi Classical Texts Library</title>\n",
      "<title>HOMER, ILIAD BOOK 14 - Theoi Classical Texts Library</title>\n",
      "<title>HOMER, ILIAD BOOK 15 - Theoi Classical Texts Library</title>\n",
      "<title>HOMER, ILIAD BOOK 16 - Theoi Classical Texts Library</title>\n",
      "<title>HOMER, ILIAD BOOK 17 - Theoi Classical Texts Library</title>\n",
      "<title>HOMER, ILIAD BOOK 18 - Theoi Classical Texts Library</title>\n",
      "<title>HOMER, ILIAD BOOK 19 - Theoi Classical Texts Library</title>\n",
      "<title>HOMER, ILIAD BOOK 20 - Theoi Classical Texts Library</title>\n",
      "<title>HOMER, ILIAD BOOK 21 - Theoi Classical Texts Library</title>\n",
      "<title>HOMER, ILIAD BOOK 22 - Theoi Classical Texts Library</title>\n",
      "<title>HOMER, ILIAD BOOK 23 - Theoi Classical Texts Library</title>\n",
      "<title>HOMER, ILIAD BOOK 24 - Theoi Classical Texts Library</title>\n",
      "<title>HOMER, ILIAD BOOK 1 - Theoi Classical Texts Library</title>\n",
      "<title>QUINTUS SMYRNAEUS, THE FALL OF TROY BOOK 1 - Theoi Classical Texts Library</title>\n",
      "<title>QUINTUS SMYRNAEUS, THE FALL OF TROY BOOK 1 - Theoi Classical Texts Library</title>\n",
      "<title>QUINTUS SMYRNAEUS, THE FALL OF TROY BOOK 3 - Theoi Classical Texts Library</title>\n",
      "<title>QUINTUS SMYRNAEUS, THE FALL OF TROY BOOK 4 - Theoi Classical Texts Library</title>\n",
      "<title>QUINTUS SMYRNAEUS, THE FALL OF TROY BOOK 5 - Theoi Classical Texts Library</title>\n",
      "<title>QUINTUS SMYRNAEUS, THE FALL OF TROY BOOK 6 - Theoi Classical Texts Library</title>\n",
      "<title>QUINTUS SMYRNAEUS, THE FALL OF TROY BOOK 7 - Theoi Classical Texts Library</title>\n",
      "<title>QUINTUS SMYRNAEUS, THE FALL OF TROY BOOK 8 - Theoi Classical Texts Library</title>\n",
      "<title>QUINTUS SMYRNAEUS, THE FALL OF TROY BOOK 9 - Theoi Classical Texts Library</title>\n",
      "<title>QUINTUS SMYRNAEUS, THE FALL OF TROY BOOK 10 - Theoi Classical Texts Library</title>\n",
      "<title>QUINTUS SMYRNAEUS, THE FALL OF TROY BOOK 11 - Theoi Classical Texts Library</title>\n",
      "<title>QUINTUS SMYRNAEUS, THE FALL OF TROY BOOK 12 - Theoi Classical Texts Library</title>\n",
      "<title>QUINTUS SMYRNAEUS, THE FALL OF TROY BOOK 13 - Theoi Classical Texts Library</title>\n",
      "<title>QUINTUS SMYRNAEUS, THE FALL OF TROY BOOK 14 - Theoi Classical Texts Library</title>\n",
      "<title>QUINTUS SMYRNAEUS, THE FALL OF TROY BOOK 1 - Theoi Classical Texts Library</title>\n",
      "<title>OVID, METAMORPHOSES 1 - Theoi Classical Texts Library</title>\n",
      "<title>OVID, METAMORPHOSES 1 - Theoi Classical Texts Library</title>\n",
      "<title>OVID, METAMORPHOSES 1 - Theoi Classical Texts Library</title>\n",
      "<title>OVID, METAMORPHOSES 4 - Theoi Classical Texts Library</title>\n",
      "<title>OVID, METAMORPHOSES 5 - Theoi Classical Texts Library</title>\n",
      "<title>OVID, METAMORPHOSES 6 - Theoi Classical Texts Library</title>\n",
      "<title>OVID, METAMORPHOSES 1 - Theoi Classical Texts Library</title>\n",
      "<title>OVID, METAMORPHOSES 8 - Theoi Classical Texts Library</title>\n",
      "<title>OVID, METAMORPHOSES 9 - Theoi Classical Texts Library</title>\n",
      "<title>OVID, METAMORPHOSES 10 - Theoi Classical Texts Library</title>\n",
      "<title>OVID, METAMORPHOSES 11 - Theoi Classical Texts Library</title>\n",
      "<title>OVID, METAMORPHOSES 12 - Theoi Classical Texts Library</title>\n",
      "<title>OVID, METAMORPHOSES 13 - Theoi Classical Texts Library</title>\n",
      "<title>OVID, METAMORPHOSES 14 - Theoi Classical Texts Library</title>\n",
      "<title>OVID, METAMORPHOSES 15 - Theoi Classical Texts Library</title>\n",
      "<title>OVID, METAMORPHOSES 1 - Theoi Classical Texts Library</title>\n"
     ]
    }
   ],
   "source": [
    "full_text = []\n",
    "for link in Websites:\n",
    "    p = requests.get(link)\n",
    "    s = BeautifulSoup(p.content, \"html.parser\")\n",
    "    full_text.append(s.get_text())\n",
    "    print(s.title) #check which books have been printed\n"
   ]
  },
  {
   "cell_type": "markdown",
   "id": "c201a47e",
   "metadata": {},
   "source": [
    "Finally, we will save the list which contains the full text of all 4 stories into a txt file so it can be used by the other group mates."
   ]
  },
  {
   "cell_type": "code",
   "execution_count": 16,
   "id": "0c06996c",
   "metadata": {},
   "outputs": [],
   "source": [
    "#save full_text to txt file to import to preprocessing \n",
    "\n",
    "textfile = open(\"text_file.txt\", \"w\")\n",
    "for element in full_text:\n",
    "    textfile.write(element + \"\\n\")\n",
    "textfile.close()"
   ]
  },
  {
   "cell_type": "markdown",
   "id": "702a9b25",
   "metadata": {},
   "source": [
    "## Preprocessing"
   ]
  },
  {
   "cell_type": "markdown",
   "id": "0dabf36d",
   "metadata": {},
   "source": [
    "First, let's check what the encoding is of the text file, so that we can properly import the texts"
   ]
  },
  {
   "cell_type": "code",
   "execution_count": 18,
   "id": "1676341a",
   "metadata": {},
   "outputs": [
    {
     "name": "stdout",
     "output_type": "stream",
     "text": [
      "<_io.TextIOWrapper name='text_file.txt' mode='r' encoding='cp1252'>\n"
     ]
    }
   ],
   "source": [
    "with open('text_file.txt') as f:\n",
    "    print(f)"
   ]
  },
  {
   "cell_type": "markdown",
   "id": "f066eb31",
   "metadata": {},
   "source": [
    "As can be seen above, this file doesn't use the standard utf-8 encoding, but cp1252 encoding. So, we will use this encoder when reading it in:"
   ]
  },
  {
   "cell_type": "code",
   "execution_count": 20,
   "id": "5d1bf626",
   "metadata": {},
   "outputs": [
    {
     "name": "stdout",
     "output_type": "stream",
     "text": [
      "[313] “So do not thou, my friend, wander long far from home, leaving thy wealth behind thee and men in thy house so insolent, lest they divide and devour all thy wealth, and thou shalt have gone on a fruitless journey. But to Menelaus I bid and command thee to go, for he has but lately come from a strange land, from a folk whence no one would hope in his heart to return, whom the storms had once driven astray into a sea so great, whence the very birds do not fare in the space of a year, so great is it and terrible. But now go thy way with thy ship and thy comrades, or, if thou wilt go by land, here are chariot and horses at hand for thee, and here at thy service are my sons, who will be thy guides to goodly Lacedaemon, where lives fair-haired Menelaus. And do thou beseech him thyself that he may tell thee the very truth. A lie will be not utter, for he is wise indeed.”\n",
      "\n"
     ]
    }
   ],
   "source": [
    "with open(\"text_file.txt\",\"r\",encoding= 'cp1252') as f:\n",
    "    data = f.readlines()\n",
    "    \n",
    "print(data[700])"
   ]
  },
  {
   "cell_type": "markdown",
   "id": "777c05e5",
   "metadata": {},
   "source": [
    "We split the data into sentences"
   ]
  },
  {
   "cell_type": "code",
   "execution_count": null,
   "id": "0ded8a06",
   "metadata": {},
   "outputs": [],
   "source": [
    "sentences = []\n",
    "for par in full_text:\n",
    "    if par == '\\n':\n",
    "        continue\n",
    "    senttemp = sent_tokenize(par)\n",
    "    sentences = sentences +senttemp\n",
    "\n",
    "print(sentences[100:105])"
   ]
  },
  {
   "cell_type": "markdown",
   "id": "7817802b",
   "metadata": {},
   "source": [
    "Now, we tokenize the sentences. If the sentence consists of two words or less, we remove it since it won't contain much useful information. Also, this way we might be able to filter out as many chapter titles as possible."
   ]
  },
  {
   "cell_type": "code",
   "execution_count": null,
   "id": "6394b7f7",
   "metadata": {},
   "outputs": [],
   "source": [
    "words = []\n",
    "for sent in sentences:\n",
    "    wordstemp = word_tokenize(sent)\n",
    "    if len(wordstemp) <= 2:\n",
    "        continue\n",
    "    words.append(wordstemp)\n",
    "    \n",
    "print(words[1000])"
   ]
  },
  {
   "cell_type": "markdown",
   "id": "72df7e92",
   "metadata": {},
   "source": [
    "Now, we PoS tag the data, so that lemmatization is easier, and names of characters can be identified more easily"
   ]
  },
  {
   "cell_type": "code",
   "execution_count": null,
   "id": "4e774e13",
   "metadata": {},
   "outputs": [],
   "source": [
    "tagged = []\n",
    "for sent in words:\n",
    "    senttagged = nltk.pos_tag(sent)\n",
    "    tagged.append(senttagged)\n",
    "\n",
    "tagged_filtered = []\n",
    "for sent in tagged:\n",
    "    sentls = []\n",
    "    for wordtag in sent:\n",
    "        if wordtag[1] in ['.', ',', ':', '--', '$', '(', ')'] or wordtag[0] in ['“', '”', '<', '>']:\n",
    "            continue\n",
    "        else: sentls.append(wordtag)\n",
    "    tagged_filtered.append(sentls)\n",
    "        \n",
    "print(tagged_filtered[3000:3010])"
   ]
  },
  {
   "cell_type": "markdown",
   "id": "55514abb",
   "metadata": {},
   "source": [
    "Next, we lemmatize the dataset"
   ]
  },
  {
   "cell_type": "code",
   "execution_count": null,
   "id": "860551d5",
   "metadata": {},
   "outputs": [],
   "source": [
    "# Reference for lemmatizing: https://stackoverflow.com/questions/15586721/wordnet-lemmatization-and-pos-tagging-in-python\n",
    "\n",
    "lemmatizer = WordNetLemmatizer()\n",
    "\n",
    "lemmatized = []\n",
    "for sent in tagged_filtered:\n",
    "    \n",
    "    sentls = []\n",
    "    for wordtag in sent:\n",
    "        tag = ''\n",
    "        if wordtag[1][0:2] ==  'NN':\n",
    "            tag =  'n'\n",
    "        elif wordtag[1][0:2] ==  'VB':\n",
    "            tag =  'v'\n",
    "        elif wordtag[1][0:2] ==  'JJ':\n",
    "            tag =  'a'\n",
    "        elif wordtag[1][0:2] ==  'RB':\n",
    "            tag =  'r'\n",
    "        \n",
    "        # use postag if it exists in the wordnetlemmatizer\n",
    "        if tag == '': lemma = lemmatizer.lemmatize(wordtag[0])\n",
    "        else: lemma = lemmatizer.lemmatize(wordtag[0], pos=tag)\n",
    "        \n",
    "        sentls.append([lemma, wordtag[1]])\n",
    "    lemmatized.append(sentls)\n",
    "    \n",
    "print(lemmatized[3000:3010])"
   ]
  },
  {
   "cell_type": "markdown",
   "id": "dc24bcd4",
   "metadata": {},
   "source": [
    "Next, we go through the data and print all the proper nouns that aren't in the dictionaries. If they are not and they refer to names of characters that are either Olympian gods or mortals, we add them to the dictionaries in the file characterdicts.ipynb. We do this only for names that occur at least 10 times in the book, since adding all names is not realistic. The below code prints the proper nouns (or words that were classified as such) that we didn't add to the dictionary. As can be seen, all of these are either not names, names of people who aren't part of mythology, or children of gods (in which case we left them out, since they are somewhere between god and mortal)."
   ]
  },
  {
   "cell_type": "code",
   "execution_count": null,
   "id": "791b6f80",
   "metadata": {},
   "outputs": [],
   "source": [
    "# Reference for sorting dictionary: https://www.edureka.co/blog/sort-dictionary-by-value-in-python/\n",
    "\n",
    "non_occuring = {}\n",
    "non_occuring_min10 = {}\n",
    "\n",
    "mortals = mortaldict\n",
    "gods = goddict\n",
    "\n",
    "for sent in lemmatized:\n",
    "    for wordtag in sent:\n",
    "    \n",
    "        # Only look at proper nouns\n",
    "        if wordtag[1] == 'NNP':\n",
    "\n",
    "            # Binary to indicate if the word has been found\n",
    "            filled_in = 0\n",
    "\n",
    "            # Go through mortaldict\n",
    "            for idx, vals in enumerate(mortals.values()):\n",
    "                if wordtag[0] in vals[0]:\n",
    "                    filled_in = 1\n",
    "                    break\n",
    "\n",
    "            # If word hasn't been found in mortaldict, go through goddict\n",
    "            if filled_in == 0:\n",
    "                for idx, vals in enumerate(gods.values()):\n",
    "                    if wordtag[0] in vals[0]:\n",
    "                        filled_in = 1\n",
    "                        break\n",
    "\n",
    "            # Print word if it hasn't been found at all\n",
    "            if filled_in == 0:\n",
    "                if wordtag[0] in non_occuring.keys():\n",
    "                    non_occuring[wordtag[0]] += 1\n",
    "                else: non_occuring[wordtag[0]] = 1\n",
    "\n",
    "for key in non_occuring.keys():\n",
    "    if non_occuring[key] >= 10:\n",
    "        non_occuring_min10[key] = non_occuring[key]\n",
    "\n",
    "for key in sorted(non_occuring_min10.keys()):\n",
    "       print(\"%s: %s\" % (key, non_occuring_min10[key]))"
   ]
  },
  {
   "cell_type": "markdown",
   "id": "4b972c76",
   "metadata": {},
   "source": [
    "## Data exploration"
   ]
  },
  {
   "cell_type": "markdown",
   "id": "92a16f89",
   "metadata": {},
   "source": [
    "First, we go through the texts, and count how many times a certain name is mentioned."
   ]
  },
  {
   "cell_type": "code",
   "execution_count": null,
   "id": "88495654",
   "metadata": {},
   "outputs": [],
   "source": [
    "i = 0\n",
    "for idx, sent in enumerate(lemmatized):\n",
    "    for idx2, wordtag in enumerate(sent):\n",
    "        word = wordtag[0]\n",
    "        tag = wordtag[1]\n",
    "\n",
    "        if tag == 'NNP':\n",
    "\n",
    "            # Binary to indicate if the word has been found\n",
    "            filled_in = 0\n",
    "\n",
    "            # Go through mortaldict\n",
    "            for idx3, vals in enumerate(mortaldict.values()):\n",
    "                if word in vals[0]:\n",
    "                    filled_in = 1\n",
    "                    mortaldict[str(idx3)][1] += 1\n",
    "                    lemmatized[idx][idx2][1] = 'NNPm'\n",
    "                    i += 1\n",
    "                    break\n",
    "\n",
    "            # If word hasn't been found in mortaldict, go through goddict\n",
    "            if filled_in == 0:\n",
    "                for idx4, vals in enumerate(goddict.values()):\n",
    "                    if word in vals[0]:\n",
    "                        filled_in = 1\n",
    "                        goddict[str(idx4)][1] += 1\n",
    "                        lemmatized[idx][idx2][1] = 'NNPg'\n",
    "                        i += 1\n",
    "                        break"
   ]
  },
  {
   "cell_type": "markdown",
   "id": "8a9bde79",
   "metadata": {},
   "source": [
    "Below we print the amounts of times mortals and gods are mentioned. Note that in reality this number is a bit higher because we are not looking at all mortals and all gods. While mortals are named more often, both gods and mortals are named enough times to be able to do a meaningful analysis."
   ]
  },
  {
   "cell_type": "code",
   "execution_count": null,
   "id": "b9a511e1",
   "metadata": {},
   "outputs": [],
   "source": [
    "summortals = 0\n",
    "sumgods = 0\n",
    "\n",
    "for mval in mortaldict.values():\n",
    "    summortals += mval[1]\n",
    "    \n",
    "for gval in goddict.values():\n",
    "    sumgods += gval[1]\n",
    "    \n",
    "print('Total amount of mortal names: ', summortals)\n",
    "print('Total amount of god names: ', sumgods)"
   ]
  },
  {
   "cell_type": "markdown",
   "id": "8e2d5ec7",
   "metadata": {},
   "source": [
    "Next, we plot the 20 most common names for both mortals and gods. "
   ]
  },
  {
   "cell_type": "code",
   "execution_count": null,
   "id": "d50756e9",
   "metadata": {},
   "outputs": [],
   "source": [
    "# Reference for sorting dict: https://www.geeksforgeeks.org/python-sort-list-according-second-element-sublist/\n",
    "\n",
    "sortm = list(mortaldict.values())\n",
    "sortm.sort(key = lambda x: x[1])\n",
    "sortm.reverse()\n",
    "\n",
    "sortg = list(goddict.values())\n",
    "sortg.sort(key = lambda x: x[1])\n",
    "sortg.reverse()"
   ]
  },
  {
   "cell_type": "code",
   "execution_count": null,
   "id": "12dc7da9",
   "metadata": {},
   "outputs": [],
   "source": [
    "mnames = [name[0][0] for name in sortm]\n",
    "mcounts = [count[1] for count in sortm]\n",
    "\n",
    "gnames = [name[0][0] for name in sortg]\n",
    "gcounts = [count[1] for count in sortg]"
   ]
  },
  {
   "cell_type": "markdown",
   "id": "119c46b5",
   "metadata": {},
   "source": [
    "As can be seen in the graphs, the most common names make sense considering the original texts. The main characters of for example the Iliad and Odyssee occur most often, and the most important gods are named the most."
   ]
  },
  {
   "cell_type": "code",
   "execution_count": null,
   "id": "ce4255e9",
   "metadata": {},
   "outputs": [],
   "source": [
    "plt.figure(figsize=(16, 10))\n",
    "plt.bar(mnames[0:20], mcounts[0:20])\n",
    "plt.title('20 most common mortals and their frequencies')"
   ]
  },
  {
   "cell_type": "code",
   "execution_count": null,
   "id": "b5e92a8d",
   "metadata": {},
   "outputs": [],
   "source": [
    "plt.figure(figsize=(16, 10))\n",
    "plt.bar(gnames[0:20], gcounts[0:20])\n",
    "plt.title('20 most common gods and their frequencies')"
   ]
  },
  {
   "cell_type": "markdown",
   "id": "c43426f9",
   "metadata": {},
   "source": [
    "Next, we take the context of each name."
   ]
  },
  {
   "cell_type": "code",
   "execution_count": null,
   "id": "a5d41512",
   "metadata": {},
   "outputs": [],
   "source": [
    "name_cons = []\n",
    "for idx, sent in enumerate(lemmatized):\n",
    "    for idx2, wordtag in enumerate(sent):    \n",
    "        word = wordtag[0]\n",
    "        tag = wordtag[1]\n",
    "\n",
    "        if tag == 'NNPm' or tag == 'NNPg':\n",
    "            context = sent[max(0, idx2-5):idx2] + sent[idx2+1: min(len(sent), idx2+5)]\n",
    "            name_cons.append([wordtag, context])\n",
    "\n",
    "print(name_cons[100])"
   ]
  },
  {
   "cell_type": "markdown",
   "id": "a771db7e",
   "metadata": {},
   "source": [
    "We check whether there are enough adjectives and adverbs in the context of the names to be able to perform the analysis. "
   ]
  },
  {
   "cell_type": "code",
   "execution_count": null,
   "id": "3ab4466c",
   "metadata": {},
   "outputs": [],
   "source": [
    "advcountm = 0\n",
    "adjcountm = 0\n",
    "advcountg = 0\n",
    "adjcountg = 0\n",
    "adjcounter = Counter()\n",
    "\n",
    "for namecon in name_cons:\n",
    "    name = namecon[0]\n",
    "    con = namecon[1]\n",
    "    \n",
    "    if name[1] == 'NNPm':\n",
    "        for wordtag in con:\n",
    "            if wordtag[1][0:2] == 'RB':\n",
    "                advcountm += 1\n",
    "                adjcounter[wordtag[0]] += 1\n",
    "                \n",
    "            elif wordtag[1][0:2] == 'JJ':\n",
    "                adjcountm += 1\n",
    "                adjcounter[wordtag[0]] += 1\n",
    "                \n",
    "    elif name[1] == 'NNPg':\n",
    "        for wordtag in con:\n",
    "            if wordtag[1][0:2] == 'RB':\n",
    "                advcountg += 1\n",
    "                adjcounter[wordtag[0]] += 1\n",
    "                \n",
    "            elif wordtag[1][0:2] == 'JJ':\n",
    "                adjcountg += 1\n",
    "                adjcounter[wordtag[0]] += 1\n",
    "                \n",
    "print('There are ', advcountm, ' adverbs, and ', adjcountm, ' adjectives around names of mortals.')\n",
    "print('There are ', advcountg, ' adverbs, and ', adjcountg, ' adjectives around names of gods.')"
   ]
  },
  {
   "cell_type": "markdown",
   "id": "bfd6a6ef",
   "metadata": {},
   "source": [
    "We consider these as enough adjectives and adverbs to perform the analysis. We will also look at the most common adjectives and adverbs to see whether there are some that are not useful for this analysis."
   ]
  },
  {
   "cell_type": "code",
   "execution_count": null,
   "id": "2f50a651",
   "metadata": {},
   "outputs": [],
   "source": [
    "print(adjcounter.most_common(30))"
   ]
  },
  {
   "cell_type": "markdown",
   "id": "6ba90a2c",
   "metadata": {},
   "source": [
    "## Model"
   ]
  },
  {
   "cell_type": "markdown",
   "id": "963b20b0",
   "metadata": {},
   "source": [
    "First, we will implement the Word2Vec model to see whether words around mortals are different from those around gods. Lemmatized_replace is a list of the PoS tagged data, where each name of a mortal or god is replaced by MORTALNAME or GODNAME. This way, we can clearly see the difference between gods and mortals, without having to go through all names of gods and mortals and seeing what words are most similar to them. "
   ]
  },
  {
   "cell_type": "code",
   "execution_count": null,
   "id": "78d720b9",
   "metadata": {},
   "outputs": [],
   "source": [
    "lemmatized_replace = []\n",
    "\n",
    "for sent in lemmatized:\n",
    "    sentls = []\n",
    "    for wordtag in sent:\n",
    "        if wordtag[1] == 'NNPm': \n",
    "            sentls.append(['MORTALNAME', 'NNPm'])\n",
    "        elif wordtag[1] == 'NNPg':\n",
    "            sentls.append(['GODNAME', 'NNPg'])\n",
    "        else: sentls.append(wordtag)\n",
    "    lemmatized_replace.append(sentls)\n",
    "\n",
    "print(lemmatized_replace[100])"
   ]
  },
  {
   "cell_type": "markdown",
   "id": "0ca7ff3a",
   "metadata": {},
   "source": [
    "Below, we made two lists that can be used in the model. One contains all names adverbs, and adjectives. The other contains all words. We were debating which one to use in the model, which is why for now we kept both in. Right now, we are using all words as input for the model. This is because if we filter out all words except adverbs and adjectives, the windows around the target words overlap much, resulting in almost identical similarity scores for mortals and gods. We will most likely filter out all the adjectives and adverbs after retrieving the words with the highest similarity scores, so that the filtering has less of an effect on the model. <br>\n",
    "We are however, already removing a few words which play a key role in the visualisation of the data in future stages. This we are only doing when we are certain the word does not add any value to the results of the model later on. "
   ]
  },
  {
   "cell_type": "code",
   "execution_count": null,
   "id": "e074eb23",
   "metadata": {},
   "outputs": [],
   "source": [
    "advadjfilt = []\n",
    "nofilt = []\n",
    "\n",
    "#remove invaluable words\n",
    "remove = [\"Then\", \"then\", \"thou\", \"own\"] \n",
    "\n",
    "for sent in lemmatized_replace:\n",
    "    sentls = []\n",
    "    sentlsfilt = []\n",
    "    for word in sent:\n",
    "        if word[0] in remove:\n",
    "            continue\n",
    "        else:\n",
    "            sentls.append(word[0]) \n",
    "        \n",
    "        if word[1][0:2] in ['RB', 'JJ'] or word[1] in ['NNPg', 'NNPm']:\n",
    "            if word[0] in remove:\n",
    "                continue\n",
    "            else:\n",
    "                sentlsfilt.append(word[0])\n",
    "                \n",
    "    advadjfilt.append(sentlsfilt)\n",
    "    nofilt.append(sentls)"
   ]
  },
  {
   "cell_type": "code",
   "execution_count": null,
   "id": "453af2ac",
   "metadata": {},
   "outputs": [],
   "source": []
  },
  {
   "cell_type": "markdown",
   "id": "193b5f19",
   "metadata": {},
   "source": [
    "The parameters below were mostly taken from the notebook from week 5. We lowered the min_count, since we also want rare adjectives and adverbs to be taken into account. We also upped the amount of epochs, to prevent underfitting. However, we also did not make this number as large, because overfitting should also be prevented. "
   ]
  },
  {
   "cell_type": "code",
   "execution_count": null,
   "id": "b512c1f6",
   "metadata": {},
   "outputs": [],
   "source": [
    "params = {\n",
    "    'vector_size': 100, # dimension of embeddings\n",
    "    'window': 4, # window -/+ before and after focus word\n",
    "    'epochs': 10, # number of iterations over the corpus\n",
    "    'min_count': 2, # filter on words whose frequency is below this count\n",
    "    'sg': 0, # use the skip-gram (1) or the CBOW (0) mode. In class, we presented the CBOW (predict context given focus words). See optional materials for the skip-gram (predict focus given context)\n",
    "    'negative': 5, # how many negative samples to use (see optional class contents too)\n",
    "    'workers': 4, # how many cores to use\n",
    "    'alpha': 0.05 # initial learning rate for SGD. This is lambda in the class notes\n",
    "}\n",
    "model = Word2Vec(nofilt, **params)"
   ]
  },
  {
   "cell_type": "markdown",
   "id": "1ac8309a",
   "metadata": {},
   "source": [
    "As can be seen below, the words that are most similar to gods are different from those that are most similar to mortals, but they contain many names and words that are not adjectives or adverbs. We now make lists with specifically the most similar adverbs and adjectives to gods and mortals."
   ]
  },
  {
   "cell_type": "code",
   "execution_count": null,
   "id": "5a4ee118",
   "metadata": {},
   "outputs": [],
   "source": [
    "for word in list(model.wv.most_similar('GODNAME', topn=10)):\n",
    "    print(word)"
   ]
  },
  {
   "cell_type": "code",
   "execution_count": null,
   "id": "62fad942",
   "metadata": {},
   "outputs": [],
   "source": [
    "for word in list(model.wv.most_similar('MORTALNAME', topn=10)):\n",
    "    print(word)"
   ]
  },
  {
   "cell_type": "code",
   "execution_count": null,
   "id": "8b65c846",
   "metadata": {},
   "outputs": [],
   "source": [
    "lemmatized_replace_words = []\n",
    "lemmatized_replace_tags = []\n",
    "\n",
    "for sent in lemmatized_replace:\n",
    "    for word in sent:\n",
    "        lemmatized_replace_words.append(word[0])\n",
    "        lemmatized_replace_tags.append(word[1])\n",
    "\n",
    "similarg = []\n",
    "similarm = []\n",
    "\n",
    "for word in list(model.wv.most_similar('MORTALNAME', topn=3000)):\n",
    "    tag = lemmatized_replace_tags[lemmatized_replace_words.index(word[0])]\n",
    "    if tag[0:2] in ['RB', 'JJ']:\n",
    "        similarm.append([word[0], word[1]])\n",
    "    \n",
    "\n",
    "for word in list(model.wv.most_similar('GODNAME', topn=3000)):\n",
    "    tag = lemmatized_replace_tags[lemmatized_replace_words.index(word[0])]\n",
    "    if tag[0:2] in ['RB', 'JJ']:\n",
    "        similarg.append([word[0], word[1]])"
   ]
  },
  {
   "cell_type": "markdown",
   "id": "200ca460",
   "metadata": {},
   "source": [
    "Below are the lists of the most similar adverbs and adjectives. These lists seem to make sense, since adjectives that are only for gods (like Olympian) are most similar to gods, and the other way around (godlike is much more similar to mortals, which makes sense because a god won't be described as being 'godlike'."
   ]
  },
  {
   "cell_type": "code",
   "execution_count": null,
   "id": "8108ee25",
   "metadata": {},
   "outputs": [],
   "source": [
    "for word in similarg[:15]:\n",
    "    print(word)\n",
    "print('\\n')\n",
    "for word in similarm[:15]:\n",
    "    print(word)"
   ]
  },
  {
   "cell_type": "markdown",
   "id": "01be3176",
   "metadata": {},
   "source": [
    "The above results can be visualised in the following way to make interpretation easier. "
   ]
  },
  {
   "cell_type": "markdown",
   "id": "d6423884",
   "metadata": {},
   "source": [
    "## Word Embeddings"
   ]
  },
  {
   "cell_type": "code",
   "execution_count": null,
   "id": "806b4d2c",
   "metadata": {
    "scrolled": true
   },
   "outputs": [],
   "source": [
    "most_common_list = []\n",
    "coocu = Counter()\n",
    "for sent in name_cons:\n",
    "       \n",
    "    target = sent[0]\n",
    "    con = sent[1]\n",
    "    filteredcon = []\n",
    "    \n",
    "    remove = [\"Then\", \"then\", \"[\", \"]\", \"thy\", \"thou\", \"many\", \"even\", \"not\", \"now\", \"So\", \"so\", \n",
    "              \"thou\", \"ever\", \"other\", \"unto\", \"yet\", \"such\", \"here\", \"again\", \"there\", \"more\", \n",
    "              \"too\", \"such\", \"thus\", \"as\", \"ye\", \"also\", \"once\", \"thee\", \"far\", \"back\", \"Now\", \n",
    "              \"indeed\", \"most\", \"no\", \"away\", \"near\", \"most\", \"Most\", \"already\", \"only\", \"near\"]\n",
    "       \n",
    "    for word in con:\n",
    "        if word[0] in remove:\n",
    "            continue\n",
    "        else:\n",
    "            filteredcon.append(word)\n",
    "\n",
    "    for conword in filteredcon:\n",
    "        if conword[1][0:2] in ['RB', 'JJ']:\n",
    "            \n",
    "            coocu[(target[0], conword[0])] += 1\n",
    "\n",
    "for common in list(coocu.most_common(500)):\n",
    "    most_common_list.append(common)"
   ]
  },
  {
   "cell_type": "code",
   "execution_count": null,
   "id": "bf1ed955",
   "metadata": {},
   "outputs": [],
   "source": [
    "from tabulate import tabulate\n",
    "\n",
    "# define header names\n",
    "col_names = [\"Character description\", \"Occurence\"]\n",
    "\n",
    "print(tabulate(most_common_list, headers=col_names))"
   ]
  },
  {
   "cell_type": "code",
   "execution_count": null,
   "id": "967d3634",
   "metadata": {},
   "outputs": [],
   "source": []
  },
  {
   "cell_type": "markdown",
   "id": "d0ce8d43",
   "metadata": {},
   "source": [
    "### Data Visualisation"
   ]
  },
  {
   "cell_type": "markdown",
   "id": "232beb73",
   "metadata": {},
   "source": [
    "We will make a scatter plot of the gods "
   ]
  },
  {
   "cell_type": "code",
   "execution_count": null,
   "id": "aed994cd",
   "metadata": {},
   "outputs": [],
   "source": [
    "from sklearn.decomposition import PCA"
   ]
  },
  {
   "cell_type": "code",
   "execution_count": null,
   "id": "96e2c0dc",
   "metadata": {},
   "outputs": [],
   "source": [
    "#MORTAL\n",
    "def display_pca_scatterplot_m(model, words=None, sample=0):\n",
    "    if words == None:\n",
    "        if sample > 0:\n",
    "            words = np.random.choice(list(model.vocab.keys()), sample)\n",
    "        else:\n",
    "            words = [ word for word in model.vocab ]\n",
    "        \n",
    "    word_vectors = np.array([model[w] for w in words])\n",
    "\n",
    "    # do PCA on the selected embeddings\n",
    "    twodim = PCA().fit_transform(word_vectors)[:,:2]\n",
    "    \n",
    "    plt.figure(figsize=(6,6))\n",
    "    plt.scatter(twodim[:,0], twodim[:,1], edgecolors='k', c='b')\n",
    "    for word, (x,y) in zip(words, twodim):\n",
    "        plt.text(x+0.05, y+0.05, word)\n",
    "        \n",
    "display_pca_scatterplot_m(model.wv, \n",
    "                        ['MORTALNAME']+[x[0] for x in similarm[:10]])\n",
    "plt.title(\"Most Similar Adverbs and Adjectives in Mortals\")"
   ]
  },
  {
   "cell_type": "code",
   "execution_count": null,
   "id": "1389b34a",
   "metadata": {
    "scrolled": true
   },
   "outputs": [],
   "source": []
  },
  {
   "cell_type": "code",
   "execution_count": null,
   "id": "a9bf9901",
   "metadata": {},
   "outputs": [],
   "source": [
    "#GOD\n",
    "def display_pca_scatterplot_g(model, words=None, sample=0):\n",
    "    if words == None:\n",
    "        if sample > 0:\n",
    "            words = np.random.choice(list(model.vocab.keys()), sample)\n",
    "        else:\n",
    "            words = [ word for word in model.vocab ]\n",
    "        \n",
    "    word_vectors = np.array([model[w] for w in words])\n",
    "\n",
    "    # do PCA on the selected embeddings\n",
    "    twodim = PCA().fit_transform(word_vectors)[:,:2]\n",
    "    \n",
    "    plt.figure(figsize=(6,6))\n",
    "    plt.scatter(twodim[:,0], twodim[:,1], edgecolors='k', c='y')\n",
    "    for word, (x,y) in zip(words, twodim):\n",
    "        plt.text(x+0.05, y+0.05, word)\n",
    "        \n",
    "display_pca_scatterplot_g(model.wv, \n",
    "                        ['GODNAME']+[x[0] for x in similarg[:10]])"
   ]
  },
  {
   "cell_type": "code",
   "execution_count": null,
   "id": "4c5f00ec",
   "metadata": {},
   "outputs": [],
   "source": [
    "#words taken from most_similar above\n",
    "god_mortal = ['GODNAME', 'MORTALNAME']\n",
    "\n",
    "def display_pca_scatterplot(model, words=None, sample=0):\n",
    "    if words == None:\n",
    "        if sample > 0:\n",
    "            words = np.random.choice(list(model.vocab.keys()), sample)\n",
    "        else:\n",
    "            words = [ word for word in model.vocab ]\n",
    "        \n",
    "    word_vectors = np.array([model[w] for w in words])\n",
    "\n",
    "    # do PCA on the selected embeddings\n",
    "    twodim = PCA().fit_transform(word_vectors)[:,:2]\n",
    "    \n",
    "    plt.figure(figsize=(6,6))\n",
    "    plt.scatter(twodim[:,0], twodim[:,1], edgecolors='k', c=god_mortal.target)\n",
    "    for word, (x,y) in zip(words, twodim):\n",
    "        plt.text(x+0.05, y+0.05, word)\n",
    "        \n",
    "display_pca_scatterplot(model.wv, \n",
    "                        god_mortal +[x[0] for x in similarm[:10]]+[x[0] for x in similarg[:10]])"
   ]
  },
  {
   "cell_type": "code",
   "execution_count": null,
   "id": "da916a3c",
   "metadata": {},
   "outputs": [],
   "source": []
  },
  {
   "cell_type": "code",
   "execution_count": null,
   "id": "a7b283d5",
   "metadata": {},
   "outputs": [],
   "source": []
  }
 ],
 "metadata": {
  "kernelspec": {
   "display_name": "Python 3 (ipykernel)",
   "language": "python",
   "name": "python3"
  },
  "language_info": {
   "codemirror_mode": {
    "name": "ipython",
    "version": 3
   },
   "file_extension": ".py",
   "mimetype": "text/x-python",
   "name": "python",
   "nbconvert_exporter": "python",
   "pygments_lexer": "ipython3",
   "version": "3.9.7"
  }
 },
 "nbformat": 4,
 "nbformat_minor": 5
}
