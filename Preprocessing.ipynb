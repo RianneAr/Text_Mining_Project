{
 "cells": [
  {
   "cell_type": "markdown",
   "id": "c6a17586",
   "metadata": {},
   "source": [
    "# Preprocessing of data"
   ]
  },
  {
   "cell_type": "markdown",
   "id": "ec932fe6",
   "metadata": {},
   "source": [
    "Necessary imports"
   ]
  },
  {
   "cell_type": "code",
   "execution_count": 45,
   "id": "9d5a413b",
   "metadata": {},
   "outputs": [],
   "source": [
    "import numpy as np\n",
    "import nltk\n",
    "from nltk.tokenize import sent_tokenize, word_tokenize\n",
    "from nltk.stem.wordnet import WordNetLemmatizer"
   ]
  },
  {
   "cell_type": "markdown",
   "id": "f066eb31",
   "metadata": {},
   "source": [
    "First, we import the data"
   ]
  },
  {
   "cell_type": "code",
   "execution_count": 29,
   "id": "5d1bf626",
   "metadata": {},
   "outputs": [
    {
     "name": "stdout",
     "output_type": "stream",
     "text": [
      "[313] “So do not thou, my friend, wander long far from home, leaving thy wealth behind thee and men in thy house so insolent, lest they divide and devour all thy wealth, and thou shalt have gone on a fruitless journey. But to Menelaus I bid and command thee to go, for he has but lately come from a strange land, from a folk whence no one would hope in his heart to return, whom the storms had once driven astray into a sea so great, whence the very birds do not fare in the space of a year, so great is it and terrible. But now go thy way with thy ship and thy comrades, or, if thou wilt go by land, here are chariot and horses at hand for thee, and here at thy service are my sons, who will be thy guides to goodly Lacedaemon, where lives fair-haired Menelaus. And do thou beseech him thyself that he may tell thee the very truth. A lie will be not utter, for he is wise indeed.”\n",
      "\n"
     ]
    }
   ],
   "source": [
    "with open(\"homer_text_file.txt\",\"r\",encoding='utf-8') as f:\n",
    "    data = f.readlines()\n",
    "    \n",
    "print(data[700])"
   ]
  },
  {
   "cell_type": "markdown",
   "id": "777c05e5",
   "metadata": {},
   "source": [
    "We split the data into sentences"
   ]
  },
  {
   "cell_type": "code",
   "execution_count": 38,
   "id": "0ded8a06",
   "metadata": {},
   "outputs": [
    {
     "name": "stdout",
     "output_type": "stream",
     "text": [
      "['Howbeit Poseidon had gone among the far-off Ethiopians—the Ethiopians who dwell sundered in twain, the farthermost of men, some where Hyperion sets and some where he rises, there to receive a hecatomb of bulls and rams, and there he was taking his joy, sitting at the feast; but the other gods were gathered together in the halls of Olympian Zeus.', \"[28] Among them the father of gods and men was first to speak, for in his heart he thought of noble Aegisthus, whom far-famed Orestes, Agamemnon's son, had slain.\", 'Thinking on him he spoke among the immortals, and said: “Look you now, how ready mortals are to blame the gods.', 'It is from us, they say, that evils come, but they even of themselves, through their own blind folly, have sorrows beyond that which is ordained.', 'Even as now Aegisthus, beyond that which was ordained, took to himself the wedded wife of the son of Atreus, and slew him on his return, though well he knew of sheer destruction, seeing that we spake to him before, sending Hermes, the keen-sighted Argeiphontes, that he should neither slay the man nor woo his wife; for from Orestes shall come vengeance for the son of Atreus when once he has come to manhood and longs for his own land.']\n"
     ]
    }
   ],
   "source": [
    "sentences = []\n",
    "for par in data:\n",
    "    if par == '\\n':\n",
    "        continue\n",
    "    senttemp = sent_tokenize(par)\n",
    "    sentences = sentences +senttemp\n",
    "\n",
    "print(sentences[100:105])"
   ]
  },
  {
   "cell_type": "markdown",
   "id": "7817802b",
   "metadata": {},
   "source": [
    "Now, we tokenize the sentences"
   ]
  },
  {
   "cell_type": "code",
   "execution_count": 40,
   "id": "6394b7f7",
   "metadata": {},
   "outputs": [
    {
     "name": "stdout",
     "output_type": "stream",
     "text": [
      "['my', 'heart', ',', 'and', 'as', 'I', 'think', 'it', 'shall', 'be', 'brought', 'to', 'pass', ',', 'though', 'I', 'am', 'in', 'no', 'wise', 'a', 'soothsayer', ',', 'nor', 'one', 'versed', 'in', 'the', 'signs', 'of', 'birds', '.', 'Not', 'much', 'longer', 'shall', 'he', 'be', 'absent', 'from', 'his', 'dear', 'native', 'land', ',', 'no', ',', 'not', 'though', 'bonds', 'of', 'iron', 'hold', 'him', '.', 'He', 'will', 'contrive', 'a', 'way', 'to', 'return', ',', 'for', 'he', 'is', 'a', 'man', 'of', 'many', 'devices', '.', 'But', 'come', ',', 'tell', 'me', 'this', 'and', 'declare', 'it', 'truly', ',', 'whether', 'indeed', ',', 'tall', 'as', 'thou', 'art', ',', 'thou', 'art', 'the', 'son', 'of', 'Odysseus', 'himself', '.', 'Wondrously']\n"
     ]
    }
   ],
   "source": [
    "words = []\n",
    "for sent in sentences:\n",
    "    wordstemp = word_tokenize(sent)\n",
    "    words = words + wordstemp\n",
    "    \n",
    "print(words[3000:3100])"
   ]
  },
  {
   "cell_type": "markdown",
   "id": "72df7e92",
   "metadata": {},
   "source": [
    "Now, we PoS tag the data, so that lemmatization is easier, and names of characters can be identified more easily"
   ]
  },
  {
   "cell_type": "code",
   "execution_count": 43,
   "id": "4e774e13",
   "metadata": {},
   "outputs": [
    {
     "name": "stdout",
     "output_type": "stream",
     "text": [
      "[('that', 'DET'), ('man', 'NOUN'), ('was', 'VERB'), ('still', 'ADV'), ('among', 'ADP'), ('his', 'PRON'), ('people', 'NOUN'), ('But', 'CONJ'), ('now', 'ADV'), ('the', 'DET'), ('gods', 'NOUN'), ('have', 'VERB'), ('willed', 'VERB'), ('otherwise', 'ADV'), ('in', 'ADP'), ('their', 'PRON'), ('evil', 'ADJ'), ('devising', 'NOUN'), ('seeing', 'VERB'), ('that', 'ADP'), ('they', 'PRON'), ('have', 'VERB'), ('caused', 'VERB'), ('him', 'PRON'), ('to', 'PRT'), ('pass', 'VERB'), ('from', 'ADP'), ('sight', 'NOUN'), ('as', 'ADP'), ('they', 'PRON'), ('have', 'VERB'), ('no', 'DET'), ('other', 'ADJ'), ('man', 'NOUN'), ('For', 'ADP'), ('I', 'PRON'), ('should', 'VERB'), ('not', 'ADV'), ('so', 'ADV'), ('grieve', 'VERB'), ('for', 'ADP'), ('his', 'PRON'), ('death', 'NOUN'), ('if', 'ADP'), ('he', 'PRON'), ('had', 'VERB'), ('been', 'VERB'), ('slain', 'VERB'), ('among', 'ADP'), ('his', 'PRON'), ('comrades', 'NOUN'), ('in', 'ADP'), ('the', 'DET'), ('land', 'NOUN'), ('of', 'ADP'), ('the', 'DET'), ('Trojans', 'NOUN'), ('or', 'CONJ'), ('had', 'VERB'), ('died', 'VERB'), ('in', 'ADP'), ('the', 'DET'), ('arms', 'NOUN'), ('of', 'ADP'), ('his', 'PRON'), ('friends', 'NOUN'), ('when', 'ADV'), ('he', 'PRON'), ('had', 'VERB'), ('wound', 'VERB'), ('up', 'PRT'), ('the', 'DET'), ('skein', 'NOUN'), ('of', 'ADP'), ('war', 'NOUN'), ('Then', 'ADV'), ('would', 'VERB'), ('the', 'DET'), ('whole', 'ADJ'), ('host', 'NOUN'), ('of', 'ADP'), ('the', 'DET'), ('Achaeans', 'NOUN'), ('have', 'VERB'), ('made', 'VERB'), ('him', 'PRON'), ('a', 'DET'), ('tomb', 'NOUN'), ('and', 'CONJ'), ('for', 'ADP'), ('his', 'PRON'), ('son', 'NOUN'), ('too', 'ADV'), ('he', 'PRON'), ('would', 'VERB'), ('have', 'VERB'), ('won', 'VERB'), ('great', 'ADJ'), ('glory', 'NOUN'), ('in', 'ADP')]\n"
     ]
    }
   ],
   "source": [
    "tagged = nltk.pos_tag(words, tagset = 'universal')\n",
    "\n",
    "tagged_filtered = []\n",
    "for wordtag in tagged:\n",
    "    if wordtag[1] == '.':\n",
    "        continue\n",
    "    else: tagged_filtered.append(wordtag)\n",
    "        \n",
    "print(tagged_filtered[3000:3100])"
   ]
  },
  {
   "cell_type": "markdown",
   "id": "55514abb",
   "metadata": {},
   "source": [
    "Next, we lemmatize the dataset"
   ]
  },
  {
   "cell_type": "code",
   "execution_count": 55,
   "id": "860551d5",
   "metadata": {},
   "outputs": [
    {
     "name": "stdout",
     "output_type": "stream",
     "text": [
      "[('that', 'DET'), ('man', 'NOUN'), ('be', 'VERB'), ('still', 'ADV'), ('among', 'ADP'), ('his', 'PRON'), ('people', 'NOUN'), ('But', 'CONJ'), ('now', 'ADV'), ('the', 'DET'), ('god', 'NOUN'), ('have', 'VERB'), ('will', 'VERB'), ('otherwise', 'ADV'), ('in', 'ADP'), ('their', 'PRON'), ('evil', 'ADJ'), ('devising', 'NOUN'), ('see', 'VERB'), ('that', 'ADP'), ('they', 'PRON'), ('have', 'VERB'), ('cause', 'VERB'), ('him', 'PRON'), ('to', 'PRT'), ('pass', 'VERB'), ('from', 'ADP'), ('sight', 'NOUN'), ('a', 'ADP'), ('they', 'PRON'), ('have', 'VERB'), ('no', 'DET'), ('other', 'ADJ'), ('man', 'NOUN'), ('For', 'ADP'), ('I', 'PRON'), ('should', 'VERB'), ('not', 'ADV'), ('so', 'ADV'), ('grieve', 'VERB'), ('for', 'ADP'), ('his', 'PRON'), ('death', 'NOUN'), ('if', 'ADP'), ('he', 'PRON'), ('have', 'VERB'), ('be', 'VERB'), ('slay', 'VERB'), ('among', 'ADP'), ('his', 'PRON'), ('comrade', 'NOUN'), ('in', 'ADP'), ('the', 'DET'), ('land', 'NOUN'), ('of', 'ADP'), ('the', 'DET'), ('Trojans', 'NOUN'), ('or', 'CONJ'), ('have', 'VERB'), ('die', 'VERB'), ('in', 'ADP'), ('the', 'DET'), ('arm', 'NOUN'), ('of', 'ADP'), ('his', 'PRON'), ('friend', 'NOUN'), ('when', 'ADV'), ('he', 'PRON'), ('have', 'VERB'), ('wind', 'VERB'), ('up', 'PRT'), ('the', 'DET'), ('skein', 'NOUN'), ('of', 'ADP'), ('war', 'NOUN'), ('Then', 'ADV'), ('would', 'VERB'), ('the', 'DET'), ('whole', 'ADJ'), ('host', 'NOUN'), ('of', 'ADP'), ('the', 'DET'), ('Achaeans', 'NOUN'), ('have', 'VERB'), ('make', 'VERB'), ('him', 'PRON'), ('a', 'DET'), ('tomb', 'NOUN'), ('and', 'CONJ'), ('for', 'ADP'), ('his', 'PRON'), ('son', 'NOUN'), ('too', 'ADV'), ('he', 'PRON'), ('would', 'VERB'), ('have', 'VERB'), ('win', 'VERB'), ('great', 'ADJ'), ('glory', 'NOUN'), ('in', 'ADP')]\n"
     ]
    }
   ],
   "source": [
    "# Reference for lemmatizing: https://stackoverflow.com/questions/15586721/wordnet-lemmatization-and-pos-tagging-in-python\n",
    "\n",
    "lemmatizer = WordNetLemmatizer()\n",
    "\n",
    "lemmatized = []\n",
    "for wordtag in tagged_filtered:\n",
    "    tag = ''\n",
    "    if wordtag[1] ==  'NOUN':\n",
    "        tag =  'n'\n",
    "    elif wordtag[1] ==  'VERB':\n",
    "        tag =  'v'\n",
    "    elif wordtag[1] ==  'ADJ':\n",
    "        tag =  'a'\n",
    "    elif wordtag[1] ==  'ADV':\n",
    "        tag =  'r'\n",
    "        \n",
    "    # use postag if it exists in the wordnetlemmatizer\n",
    "    if tag == '': lemma = lemmatizer.lemmatize(wordtag[0])\n",
    "    else: lemma = lemmatizer.lemmatize(wordtag[0], pos=tag)\n",
    "        \n",
    "    lemmatized.append((lemma, wordtag[1]))\n",
    "    \n",
    "print(lemmatized[3000:3100])"
   ]
  },
  {
   "cell_type": "code",
   "execution_count": null,
   "id": "95e6b1ae",
   "metadata": {},
   "outputs": [],
   "source": []
  }
 ],
 "metadata": {
  "kernelspec": {
   "display_name": "Python 3 (ipykernel)",
   "language": "python",
   "name": "python3"
  },
  "language_info": {
   "codemirror_mode": {
    "name": "ipython",
    "version": 3
   },
   "file_extension": ".py",
   "mimetype": "text/x-python",
   "name": "python",
   "nbconvert_exporter": "python",
   "pygments_lexer": "ipython3",
   "version": "3.9.7"
  }
 },
 "nbformat": 4,
 "nbformat_minor": 5
}
